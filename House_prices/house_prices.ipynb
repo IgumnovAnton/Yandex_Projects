{
 "cells": [
  {
   "cell_type": "markdown",
   "id": "dbf753c0",
   "metadata": {
    "id": "GEqQaHzsZ_bA"
   },
   "source": [
    "# Предсказание стоимости жилья\n",
    "\n",
    "В проекте вам нужно обучить модель линейной регрессии на данных о жилье в Калифорнии в 1990 году. На основе данных нужно предсказать медианную стоимость дома в жилом массиве. Обучите модель и сделайте предсказания на тестовой выборке. Для оценки качества модели используйте метрики RMSE, MAE и R2."
   ]
  },
  {
   "cell_type": "markdown",
   "id": "50ed3f7e",
   "metadata": {},
   "source": [
    "## Используемые библиотеки"
   ]
  },
  {
   "cell_type": "code",
   "execution_count": 1,
   "id": "2d3148e4",
   "metadata": {},
   "outputs": [],
   "source": [
    "import pandas as pd\n",
    "import numpy as np\n",
    "\n",
    "import pyspark\n",
    "from pyspark.sql import SparkSession\n",
    "from pyspark.sql.types import *\n",
    "import pyspark.sql.functions as F\n",
    "\n",
    "from pyspark.ml.feature import StringIndexer, VectorAssembler, StandardScaler, Imputer\n",
    "from pyspark.ml.regression import LinearRegression\n",
    "from pyspark.ml.feature import OneHotEncoder\n",
    "\n",
    "from pyspark.ml.evaluation import RegressionEvaluator\n",
    "\n",
    "    \n",
    "RANDOM_SEED = 12345"
   ]
  },
  {
   "cell_type": "code",
   "execution_count": 2,
   "id": "3e3108aa",
   "metadata": {},
   "outputs": [],
   "source": [
    "# Инициализируем Spark сессию\n",
    "\n",
    "spark = SparkSession.builder.master('local').appName('Housing price prediction - Linear regression').getOrCreate()\n",
    "\n",
    "# Загрузим наш датасет\n",
    "data = spark.read.load('/datasets/housing.csv', format='csv', sep=',', inferSchema=True, header=True)"
   ]
  },
  {
   "cell_type": "markdown",
   "id": "dcbafc0a",
   "metadata": {},
   "source": [
    "## Осмотр данных"
   ]
  },
  {
   "cell_type": "code",
   "execution_count": 3,
   "id": "2da944bd",
   "metadata": {},
   "outputs": [
    {
     "name": "stdout",
     "output_type": "stream",
     "text": [
      "root\n",
      " |-- longitude: double (nullable = true)\n",
      " |-- latitude: double (nullable = true)\n",
      " |-- housing_median_age: double (nullable = true)\n",
      " |-- total_rooms: double (nullable = true)\n",
      " |-- total_bedrooms: double (nullable = true)\n",
      " |-- population: double (nullable = true)\n",
      " |-- households: double (nullable = true)\n",
      " |-- median_income: double (nullable = true)\n",
      " |-- median_house_value: double (nullable = true)\n",
      " |-- ocean_proximity: string (nullable = true)\n",
      "\n",
      "+---------+--------+------------------+-----------+--------------+----------+----------+-------------+------------------+---------------+\n",
      "|longitude|latitude|housing_median_age|total_rooms|total_bedrooms|population|households|median_income|median_house_value|ocean_proximity|\n",
      "+---------+--------+------------------+-----------+--------------+----------+----------+-------------+------------------+---------------+\n",
      "|  -122.23|   37.88|              41.0|      880.0|         129.0|     322.0|     126.0|       8.3252|          452600.0|       NEAR BAY|\n",
      "|  -122.22|   37.86|              21.0|     7099.0|        1106.0|    2401.0|    1138.0|       8.3014|          358500.0|       NEAR BAY|\n",
      "|  -122.24|   37.85|              52.0|     1467.0|         190.0|     496.0|     177.0|       7.2574|          352100.0|       NEAR BAY|\n",
      "|  -122.25|   37.85|              52.0|     1274.0|         235.0|     558.0|     219.0|       5.6431|          341300.0|       NEAR BAY|\n",
      "|  -122.25|   37.85|              52.0|     1627.0|         280.0|     565.0|     259.0|       3.8462|          342200.0|       NEAR BAY|\n",
      "|  -122.25|   37.85|              52.0|      919.0|         213.0|     413.0|     193.0|       4.0368|          269700.0|       NEAR BAY|\n",
      "|  -122.25|   37.84|              52.0|     2535.0|         489.0|    1094.0|     514.0|       3.6591|          299200.0|       NEAR BAY|\n",
      "|  -122.25|   37.84|              52.0|     3104.0|         687.0|    1157.0|     647.0|         3.12|          241400.0|       NEAR BAY|\n",
      "|  -122.26|   37.84|              42.0|     2555.0|         665.0|    1206.0|     595.0|       2.0804|          226700.0|       NEAR BAY|\n",
      "|  -122.25|   37.84|              52.0|     3549.0|         707.0|    1551.0|     714.0|       3.6912|          261100.0|       NEAR BAY|\n",
      "|  -122.26|   37.85|              52.0|     2202.0|         434.0|     910.0|     402.0|       3.2031|          281500.0|       NEAR BAY|\n",
      "|  -122.26|   37.85|              52.0|     3503.0|         752.0|    1504.0|     734.0|       3.2705|          241800.0|       NEAR BAY|\n",
      "|  -122.26|   37.85|              52.0|     2491.0|         474.0|    1098.0|     468.0|        3.075|          213500.0|       NEAR BAY|\n",
      "|  -122.26|   37.84|              52.0|      696.0|         191.0|     345.0|     174.0|       2.6736|          191300.0|       NEAR BAY|\n",
      "|  -122.26|   37.85|              52.0|     2643.0|         626.0|    1212.0|     620.0|       1.9167|          159200.0|       NEAR BAY|\n",
      "|  -122.26|   37.85|              50.0|     1120.0|         283.0|     697.0|     264.0|        2.125|          140000.0|       NEAR BAY|\n",
      "|  -122.27|   37.85|              52.0|     1966.0|         347.0|     793.0|     331.0|        2.775|          152500.0|       NEAR BAY|\n",
      "|  -122.27|   37.85|              52.0|     1228.0|         293.0|     648.0|     303.0|       2.1202|          155500.0|       NEAR BAY|\n",
      "|  -122.26|   37.84|              50.0|     2239.0|         455.0|     990.0|     419.0|       1.9911|          158700.0|       NEAR BAY|\n",
      "|  -122.27|   37.84|              52.0|     1503.0|         298.0|     690.0|     275.0|       2.6033|          162900.0|       NEAR BAY|\n",
      "+---------+--------+------------------+-----------+--------------+----------+----------+-------------+------------------+---------------+\n",
      "only showing top 20 rows\n",
      "\n",
      "               column    type\n",
      "0           longitude  double\n",
      "1            latitude  double\n",
      "2  housing_median_age  double\n",
      "3         total_rooms  double\n",
      "4      total_bedrooms  double\n",
      "5          population  double\n",
      "6          households  double\n",
      "7       median_income  double\n",
      "8  median_house_value  double\n",
      "9     ocean_proximity  string\n"
     ]
    }
   ],
   "source": [
    "data.printSchema()\n",
    "data.show()\n",
    "# Выведем названия и тип колонок для более удобного осмотра\n",
    "print(pd.DataFrame(data.dtypes, columns=['column', 'type']).head(10))"
   ]
  },
  {
   "cell_type": "code",
   "execution_count": 4,
   "id": "5ea87a4d",
   "metadata": {},
   "outputs": [
    {
     "data": {
      "text/html": [
       "<div>\n",
       "<style scoped>\n",
       "    .dataframe tbody tr th:only-of-type {\n",
       "        vertical-align: middle;\n",
       "    }\n",
       "\n",
       "    .dataframe tbody tr th {\n",
       "        vertical-align: top;\n",
       "    }\n",
       "\n",
       "    .dataframe thead th {\n",
       "        text-align: right;\n",
       "    }\n",
       "</style>\n",
       "<table border=\"1\" class=\"dataframe\">\n",
       "  <thead>\n",
       "    <tr style=\"text-align: right;\">\n",
       "      <th></th>\n",
       "      <th>longitude</th>\n",
       "      <th>latitude</th>\n",
       "      <th>housing_median_age</th>\n",
       "      <th>total_rooms</th>\n",
       "      <th>total_bedrooms</th>\n",
       "      <th>population</th>\n",
       "      <th>households</th>\n",
       "      <th>median_income</th>\n",
       "      <th>median_house_value</th>\n",
       "    </tr>\n",
       "  </thead>\n",
       "  <tbody>\n",
       "    <tr>\n",
       "      <td>count</td>\n",
       "      <td>20640.000000</td>\n",
       "      <td>20640.000000</td>\n",
       "      <td>20640.000000</td>\n",
       "      <td>20640.000000</td>\n",
       "      <td>20433.000000</td>\n",
       "      <td>20640.000000</td>\n",
       "      <td>20640.000000</td>\n",
       "      <td>20640.000000</td>\n",
       "      <td>20640.000000</td>\n",
       "    </tr>\n",
       "    <tr>\n",
       "      <td>mean</td>\n",
       "      <td>-119.569704</td>\n",
       "      <td>35.631861</td>\n",
       "      <td>28.639486</td>\n",
       "      <td>2635.763081</td>\n",
       "      <td>537.870553</td>\n",
       "      <td>1425.476744</td>\n",
       "      <td>499.539680</td>\n",
       "      <td>3.870671</td>\n",
       "      <td>206855.816909</td>\n",
       "    </tr>\n",
       "    <tr>\n",
       "      <td>std</td>\n",
       "      <td>2.003532</td>\n",
       "      <td>2.135952</td>\n",
       "      <td>12.585558</td>\n",
       "      <td>2181.615252</td>\n",
       "      <td>421.385070</td>\n",
       "      <td>1132.462122</td>\n",
       "      <td>382.329753</td>\n",
       "      <td>1.899822</td>\n",
       "      <td>115395.615874</td>\n",
       "    </tr>\n",
       "    <tr>\n",
       "      <td>min</td>\n",
       "      <td>-124.350000</td>\n",
       "      <td>32.540000</td>\n",
       "      <td>1.000000</td>\n",
       "      <td>2.000000</td>\n",
       "      <td>1.000000</td>\n",
       "      <td>3.000000</td>\n",
       "      <td>1.000000</td>\n",
       "      <td>0.499900</td>\n",
       "      <td>14999.000000</td>\n",
       "    </tr>\n",
       "    <tr>\n",
       "      <td>25%</td>\n",
       "      <td>-121.800000</td>\n",
       "      <td>33.930000</td>\n",
       "      <td>18.000000</td>\n",
       "      <td>1447.750000</td>\n",
       "      <td>296.000000</td>\n",
       "      <td>787.000000</td>\n",
       "      <td>280.000000</td>\n",
       "      <td>2.563400</td>\n",
       "      <td>119600.000000</td>\n",
       "    </tr>\n",
       "    <tr>\n",
       "      <td>50%</td>\n",
       "      <td>-118.490000</td>\n",
       "      <td>34.260000</td>\n",
       "      <td>29.000000</td>\n",
       "      <td>2127.000000</td>\n",
       "      <td>435.000000</td>\n",
       "      <td>1166.000000</td>\n",
       "      <td>409.000000</td>\n",
       "      <td>3.534800</td>\n",
       "      <td>179700.000000</td>\n",
       "    </tr>\n",
       "    <tr>\n",
       "      <td>75%</td>\n",
       "      <td>-118.010000</td>\n",
       "      <td>37.710000</td>\n",
       "      <td>37.000000</td>\n",
       "      <td>3148.000000</td>\n",
       "      <td>647.000000</td>\n",
       "      <td>1725.000000</td>\n",
       "      <td>605.000000</td>\n",
       "      <td>4.743250</td>\n",
       "      <td>264725.000000</td>\n",
       "    </tr>\n",
       "    <tr>\n",
       "      <td>max</td>\n",
       "      <td>-114.310000</td>\n",
       "      <td>41.950000</td>\n",
       "      <td>52.000000</td>\n",
       "      <td>39320.000000</td>\n",
       "      <td>6445.000000</td>\n",
       "      <td>35682.000000</td>\n",
       "      <td>6082.000000</td>\n",
       "      <td>15.000100</td>\n",
       "      <td>500001.000000</td>\n",
       "    </tr>\n",
       "  </tbody>\n",
       "</table>\n",
       "</div>"
      ],
      "text/plain": [
       "          longitude      latitude  housing_median_age   total_rooms  \\\n",
       "count  20640.000000  20640.000000        20640.000000  20640.000000   \n",
       "mean    -119.569704     35.631861           28.639486   2635.763081   \n",
       "std        2.003532      2.135952           12.585558   2181.615252   \n",
       "min     -124.350000     32.540000            1.000000      2.000000   \n",
       "25%     -121.800000     33.930000           18.000000   1447.750000   \n",
       "50%     -118.490000     34.260000           29.000000   2127.000000   \n",
       "75%     -118.010000     37.710000           37.000000   3148.000000   \n",
       "max     -114.310000     41.950000           52.000000  39320.000000   \n",
       "\n",
       "       total_bedrooms    population    households  median_income  \\\n",
       "count    20433.000000  20640.000000  20640.000000   20640.000000   \n",
       "mean       537.870553   1425.476744    499.539680       3.870671   \n",
       "std        421.385070   1132.462122    382.329753       1.899822   \n",
       "min          1.000000      3.000000      1.000000       0.499900   \n",
       "25%        296.000000    787.000000    280.000000       2.563400   \n",
       "50%        435.000000   1166.000000    409.000000       3.534800   \n",
       "75%        647.000000   1725.000000    605.000000       4.743250   \n",
       "max       6445.000000  35682.000000   6082.000000      15.000100   \n",
       "\n",
       "       median_house_value  \n",
       "count        20640.000000  \n",
       "mean        206855.816909  \n",
       "std         115395.615874  \n",
       "min          14999.000000  \n",
       "25%         119600.000000  \n",
       "50%         179700.000000  \n",
       "75%         264725.000000  \n",
       "max         500001.000000  "
      ]
     },
     "execution_count": 4,
     "metadata": {},
     "output_type": "execute_result"
    }
   ],
   "source": [
    "# Посмотрим на базовые статистики\n",
    "\n",
    "data.toPandas().describe()"
   ]
  },
  {
   "cell_type": "markdown",
   "id": "4be67ec9",
   "metadata": {},
   "source": [
    "**Вывод**\n",
    "\n",
    "- 10 колонок и 20 640 строк в датасете\n",
    "- Видно, что имееются пропуски в колонке `total_bedrooms`\n",
    "- В некоторых колонках очень большой разброс между минимальным и максимальным значениями\n",
    "- 1 колонка с категориальными признаками и 9 с числовыми признаками"
   ]
  },
  {
   "cell_type": "markdown",
   "id": "cc42133d",
   "metadata": {
    "id": "53871372"
   },
   "source": [
    "# Подготовка данных"
   ]
  },
  {
   "cell_type": "code",
   "execution_count": 5,
   "id": "b0d1657a",
   "metadata": {
    "id": "df92e3ec"
   },
   "outputs": [
    {
     "name": "stdout",
     "output_type": "stream",
     "text": [
      "longitude 0\n",
      "latitude 0\n",
      "housing_median_age 0\n",
      "total_rooms 0\n",
      "total_bedrooms 207\n",
      "population 0\n",
      "households 0\n",
      "median_income 0\n",
      "median_house_value 0\n"
     ]
    }
   ],
   "source": [
    "# Проверим и посчитаем кол-во пропусков в данных\n",
    "def missing_values(data):\n",
    "    columns = data.columns\n",
    "\n",
    "    for column in columns:\n",
    "        if column != 'ocean_proximity':\n",
    "            check_col = F.col(column).cast(FloatType())\n",
    "            print(column, data.filter(F.isnull(check_col) == True).count())\n",
    "            \n",
    "missing_values(data)"
   ]
  },
  {
   "cell_type": "markdown",
   "id": "22694abc",
   "metadata": {},
   "source": [
    "207 пропусков - заполним их медианным значением колонки. Тк это ~1% от всего датасета - такой способ заполнения пропусков не должен ухудшить точность предсказания. \n",
    "\n",
    "Можно, конечно, создать модель и предсказать значения в пропусках"
   ]
  },
  {
   "cell_type": "code",
   "execution_count": 6,
   "id": "52b5f602",
   "metadata": {},
   "outputs": [
    {
     "name": "stdout",
     "output_type": "stream",
     "text": [
      "longitude 0\n",
      "latitude 0\n",
      "housing_median_age 0\n",
      "total_rooms 0\n",
      "total_bedrooms 0\n",
      "population 0\n",
      "households 0\n",
      "median_income 0\n",
      "median_house_value 0\n"
     ]
    },
    {
     "data": {
      "text/html": [
       "<div>\n",
       "<style scoped>\n",
       "    .dataframe tbody tr th:only-of-type {\n",
       "        vertical-align: middle;\n",
       "    }\n",
       "\n",
       "    .dataframe tbody tr th {\n",
       "        vertical-align: top;\n",
       "    }\n",
       "\n",
       "    .dataframe thead th {\n",
       "        text-align: right;\n",
       "    }\n",
       "</style>\n",
       "<table border=\"1\" class=\"dataframe\">\n",
       "  <thead>\n",
       "    <tr style=\"text-align: right;\">\n",
       "      <th></th>\n",
       "      <th>summary</th>\n",
       "      <th>longitude</th>\n",
       "      <th>latitude</th>\n",
       "      <th>housing_median_age</th>\n",
       "      <th>total_rooms</th>\n",
       "      <th>total_bedrooms</th>\n",
       "      <th>population</th>\n",
       "      <th>households</th>\n",
       "      <th>median_income</th>\n",
       "      <th>median_house_value</th>\n",
       "      <th>ocean_proximity</th>\n",
       "    </tr>\n",
       "  </thead>\n",
       "  <tbody>\n",
       "    <tr>\n",
       "      <td>0</td>\n",
       "      <td>count</td>\n",
       "      <td>20640</td>\n",
       "      <td>20640</td>\n",
       "      <td>20640</td>\n",
       "      <td>20640</td>\n",
       "      <td>20640</td>\n",
       "      <td>20640</td>\n",
       "      <td>20640</td>\n",
       "      <td>20640</td>\n",
       "      <td>20640</td>\n",
       "      <td>20640</td>\n",
       "    </tr>\n",
       "    <tr>\n",
       "      <td>1</td>\n",
       "      <td>mean</td>\n",
       "      <td>-119.56970445736148</td>\n",
       "      <td>35.6318614341087</td>\n",
       "      <td>28.639486434108527</td>\n",
       "      <td>2635.7630813953488</td>\n",
       "      <td>536.8388565891473</td>\n",
       "      <td>1425.4767441860465</td>\n",
       "      <td>499.5396802325581</td>\n",
       "      <td>3.8706710029070246</td>\n",
       "      <td>206855.81690891474</td>\n",
       "      <td>None</td>\n",
       "    </tr>\n",
       "    <tr>\n",
       "      <td>2</td>\n",
       "      <td>stddev</td>\n",
       "      <td>2.003531723502584</td>\n",
       "      <td>2.135952397457101</td>\n",
       "      <td>12.58555761211163</td>\n",
       "      <td>2181.6152515827944</td>\n",
       "      <td>419.39187792168866</td>\n",
       "      <td>1132.46212176534</td>\n",
       "      <td>382.3297528316098</td>\n",
       "      <td>1.899821717945263</td>\n",
       "      <td>115395.61587441359</td>\n",
       "      <td>None</td>\n",
       "    </tr>\n",
       "    <tr>\n",
       "      <td>3</td>\n",
       "      <td>min</td>\n",
       "      <td>-124.35</td>\n",
       "      <td>32.54</td>\n",
       "      <td>1.0</td>\n",
       "      <td>2.0</td>\n",
       "      <td>1.0</td>\n",
       "      <td>3.0</td>\n",
       "      <td>1.0</td>\n",
       "      <td>0.4999</td>\n",
       "      <td>14999.0</td>\n",
       "      <td>&lt;1H OCEAN</td>\n",
       "    </tr>\n",
       "    <tr>\n",
       "      <td>4</td>\n",
       "      <td>max</td>\n",
       "      <td>-114.31</td>\n",
       "      <td>41.95</td>\n",
       "      <td>52.0</td>\n",
       "      <td>39320.0</td>\n",
       "      <td>6445.0</td>\n",
       "      <td>35682.0</td>\n",
       "      <td>6082.0</td>\n",
       "      <td>15.0001</td>\n",
       "      <td>500001.0</td>\n",
       "      <td>NEAR OCEAN</td>\n",
       "    </tr>\n",
       "  </tbody>\n",
       "</table>\n",
       "</div>"
      ],
      "text/plain": [
       "  summary            longitude           latitude  housing_median_age  \\\n",
       "0   count                20640              20640               20640   \n",
       "1    mean  -119.56970445736148   35.6318614341087  28.639486434108527   \n",
       "2  stddev    2.003531723502584  2.135952397457101   12.58555761211163   \n",
       "3     min              -124.35              32.54                 1.0   \n",
       "4     max              -114.31              41.95                52.0   \n",
       "\n",
       "          total_rooms      total_bedrooms          population  \\\n",
       "0               20640               20640               20640   \n",
       "1  2635.7630813953488   536.8388565891473  1425.4767441860465   \n",
       "2  2181.6152515827944  419.39187792168866    1132.46212176534   \n",
       "3                 2.0                 1.0                 3.0   \n",
       "4             39320.0              6445.0             35682.0   \n",
       "\n",
       "          households       median_income  median_house_value ocean_proximity  \n",
       "0              20640               20640               20640           20640  \n",
       "1  499.5396802325581  3.8706710029070246  206855.81690891474            None  \n",
       "2  382.3297528316098   1.899821717945263  115395.61587441359            None  \n",
       "3                1.0              0.4999             14999.0       <1H OCEAN  \n",
       "4             6082.0             15.0001            500001.0      NEAR OCEAN  "
      ]
     },
     "execution_count": 6,
     "metadata": {},
     "output_type": "execute_result"
    }
   ],
   "source": [
    "imputer = Imputer(inputCols=['total_bedrooms'], outputCols=['total_bedrooms']).setStrategy('median')\n",
    "data = imputer.fit(data).transform(data)\n",
    "\n",
    "missing_values(data)\n",
    "data.describe().toPandas()"
   ]
  },
  {
   "cell_type": "markdown",
   "id": "b96f73a4",
   "metadata": {},
   "source": [
    "### Разделим колонки для последующей трансформации"
   ]
  },
  {
   "cell_type": "code",
   "execution_count": 7,
   "id": "c11a2bb8",
   "metadata": {},
   "outputs": [],
   "source": [
    "categorical_cols = 'ocean_proximity'\n",
    "numerical_cols = ['longitude', \n",
    "                   'latitude', \n",
    "                   'housing_median_age', \n",
    "                   'total_rooms', \n",
    "                   'total_bedrooms', \n",
    "                   'population', \n",
    "                   'households', \n",
    "                   'median_income']\n",
    "target = 'median_house_value'"
   ]
  },
  {
   "cell_type": "markdown",
   "id": "db668d5e",
   "metadata": {},
   "source": [
    "### Трансформация категориальных признаков"
   ]
  },
  {
   "cell_type": "code",
   "execution_count": 8,
   "id": "ed5916f4",
   "metadata": {},
   "outputs": [
    {
     "name": "stdout",
     "output_type": "stream",
     "text": [
      "+---------------+-------------------+\n",
      "|ocean_proximity|ocean_proximity_idx|\n",
      "+---------------+-------------------+\n",
      "|       NEAR BAY|                3.0|\n",
      "|       NEAR BAY|                3.0|\n",
      "|       NEAR BAY|                3.0|\n",
      "+---------------+-------------------+\n",
      "only showing top 3 rows\n",
      "\n"
     ]
    }
   ],
   "source": [
    "indexer = StringIndexer(inputCol=categorical_cols, outputCol=categorical_cols + '_idx')\n",
    "\n",
    "data = indexer.fit(data).transform(data)\n",
    "\n",
    "cols = [c for c in data.columns if (c.startswith(categorical_cols))]\n",
    "data.select(cols).show(3) "
   ]
  },
  {
   "cell_type": "markdown",
   "id": "e561af8f",
   "metadata": {},
   "source": [
    "#### Дополнительно создадим OHE-кодирование для категориального признака"
   ]
  },
  {
   "cell_type": "code",
   "execution_count": 9,
   "id": "4a6540d0",
   "metadata": {},
   "outputs": [
    {
     "name": "stdout",
     "output_type": "stream",
     "text": [
      "+---------------+-------------------+-------------------+\n",
      "|ocean_proximity|ocean_proximity_idx|ocean_proximity_ohe|\n",
      "+---------------+-------------------+-------------------+\n",
      "|       NEAR BAY|                3.0|      (4,[3],[1.0])|\n",
      "|       NEAR BAY|                3.0|      (4,[3],[1.0])|\n",
      "|       NEAR BAY|                3.0|      (4,[3],[1.0])|\n",
      "+---------------+-------------------+-------------------+\n",
      "only showing top 3 rows\n",
      "\n"
     ]
    }
   ],
   "source": [
    "encoder = OneHotEncoder(inputCol=categorical_cols + '_idx', outputCol=categorical_cols + '_ohe')\n",
    "\n",
    "data = encoder.transform(data)\n",
    "\n",
    "cols = [c for c in data.columns if (c.startswith(categorical_cols))]\n",
    "data.select(cols).show(3) "
   ]
  },
  {
   "cell_type": "code",
   "execution_count": 10,
   "id": "5dfd034b",
   "metadata": {},
   "outputs": [],
   "source": [
    "categorical_assembler = VectorAssembler(inputCols=[categorical_cols + '_ohe'], outputCol = 'categorical_features')\n",
    "\n",
    "data = categorical_assembler.transform(data)\n"
   ]
  },
  {
   "cell_type": "markdown",
   "id": "b1d3c5e3",
   "metadata": {},
   "source": [
    "### Трансформация числовых признаков"
   ]
  },
  {
   "cell_type": "code",
   "execution_count": 11,
   "id": "52f6df6e",
   "metadata": {},
   "outputs": [],
   "source": [
    "numerical_assembler = VectorAssembler(inputCols=numerical_cols, outputCol='numerical_features')\n",
    "\n",
    "data = numerical_assembler.transform(data)"
   ]
  },
  {
   "cell_type": "code",
   "execution_count": 12,
   "id": "95fd8ae9",
   "metadata": {},
   "outputs": [],
   "source": [
    "# Применим скалирование, чтобы сильные выбросы не смещали предсказание модели\n",
    "\n",
    "standardScaler = StandardScaler(inputCol='numerical_features', outputCol='numerical_features_scaled')\n",
    "data = standardScaler.fit(data).transform(data)"
   ]
  },
  {
   "cell_type": "code",
   "execution_count": 13,
   "id": "d4575226",
   "metadata": {},
   "outputs": [
    {
     "name": "stdout",
     "output_type": "stream",
     "text": [
      "longitude\n",
      "latitude\n",
      "housing_median_age\n",
      "total_rooms\n",
      "total_bedrooms\n",
      "population\n",
      "households\n",
      "median_income\n",
      "median_house_value\n",
      "ocean_proximity\n",
      "ocean_proximity_idx\n",
      "ocean_proximity_ohe\n",
      "categorical_features\n",
      "numerical_features\n",
      "numerical_features_scaled\n"
     ]
    }
   ],
   "source": [
    "# Посмотрим на получившиеся колонки\n",
    "\n",
    "for i in data.columns:\n",
    "    print(i)"
   ]
  },
  {
   "cell_type": "code",
   "execution_count": 14,
   "id": "869f8c42",
   "metadata": {},
   "outputs": [
    {
     "name": "stdout",
     "output_type": "stream",
     "text": [
      "+--------------------+-------------------------+\n",
      "|categorical_features|numerical_features_scaled|\n",
      "+--------------------+-------------------------+\n",
      "|       (4,[3],[1.0])|     [-61.007269596069...|\n",
      "|       (4,[3],[1.0])|     [-61.002278409814...|\n",
      "|       (4,[3],[1.0])|     [-61.012260782324...|\n",
      "+--------------------+-------------------------+\n",
      "only showing top 3 rows\n",
      "\n"
     ]
    }
   ],
   "source": [
    "# Соберем категориальные и числовые признаки\n",
    "\n",
    "all_features = ['categorical_features', 'numerical_features_scaled']\n",
    "\n",
    "final_assembler = VectorAssembler(inputCols=all_features, \n",
    "                                 outputCol='features')\n",
    "\n",
    "data = final_assembler.transform(data)\n",
    "\n",
    "data.select(all_features).show(3)"
   ]
  },
  {
   "cell_type": "markdown",
   "id": "b614c30f",
   "metadata": {
    "id": "9f0a82f3"
   },
   "source": [
    "# Обучение моделей"
   ]
  },
  {
   "cell_type": "code",
   "execution_count": 15,
   "id": "34f6969d",
   "metadata": {
    "id": "bddb08c4"
   },
   "outputs": [
    {
     "name": "stdout",
     "output_type": "stream",
     "text": [
      "16463 4177\n"
     ]
    }
   ],
   "source": [
    "# Разделим датасет\n",
    "\n",
    "train_data, test_data = data.randomSplit([.8, .2], seed=RANDOM_SEED)\n",
    "\n",
    "print(train_data.count(), test_data.count())"
   ]
  },
  {
   "cell_type": "markdown",
   "id": "e9eb222e",
   "metadata": {},
   "source": [
    "## Обучение модели на всех данных"
   ]
  },
  {
   "cell_type": "code",
   "execution_count": 16,
   "id": "c6f88214",
   "metadata": {},
   "outputs": [],
   "source": [
    "lr_full = LinearRegression(labelCol=target, featuresCol='features')\n",
    "\n",
    "model_full = lr_full.fit(train_data)"
   ]
  },
  {
   "cell_type": "code",
   "execution_count": 17,
   "id": "e80054f6",
   "metadata": {},
   "outputs": [
    {
     "name": "stdout",
     "output_type": "stream",
     "text": [
      "+------------------+------------------+\n",
      "|median_house_value|        prediction|\n",
      "+------------------+------------------+\n",
      "|          111400.0|190296.03048393782|\n",
      "|           50800.0| 212626.7991843545|\n",
      "|           73200.0|123821.45584555529|\n",
      "|           70000.0|147366.33497304423|\n",
      "|           74600.0|102818.04068596382|\n",
      "|          107000.0| 188681.2917989632|\n",
      "|           85100.0| 177896.3006086601|\n",
      "|           90600.0| 178738.3447544491|\n",
      "|           92700.0|182998.17272855528|\n",
      "|          100600.0| 190340.0296095647|\n",
      "|           67500.0|146309.03733594855|\n",
      "|           99600.0| 184647.2714346042|\n",
      "|           94800.0| 215796.0043739425|\n",
      "|           86900.0|150594.16947201127|\n",
      "|           92800.0|  206524.572040305|\n",
      "|           96100.0| 154126.6468826388|\n",
      "|           90200.0| 151983.3717899355|\n",
      "|           92600.0|167682.66757511767|\n",
      "|           75000.0|113516.35807134723|\n",
      "|          150000.0| 119872.0266682012|\n",
      "+------------------+------------------+\n",
      "only showing top 20 rows\n",
      "\n"
     ]
    }
   ],
   "source": [
    "predictions_full = model_full.transform(test_data)\n",
    "\n",
    "predictedLabels_full = predictions_full.select(target, 'prediction')\n",
    "\n",
    "predictedLabels_full.show()"
   ]
  },
  {
   "cell_type": "code",
   "execution_count": 18,
   "id": "2f16a9a1",
   "metadata": {},
   "outputs": [
    {
     "name": "stdout",
     "output_type": "stream",
     "text": [
      "RMSE:  69035.31031569629\n",
      "MAE:  49651.64429302908\n",
      "R2:  0.6586737670520186\n"
     ]
    }
   ],
   "source": [
    "# RMSE MAE R2\n",
    "\n",
    "RMSE = RegressionEvaluator(labelCol=target).evaluate(predictions_full)\n",
    "MAE = RegressionEvaluator(labelCol=target, metricName='mae').evaluate(predictions_full)\n",
    "R2 = RegressionEvaluator(labelCol=target, metricName='r2').evaluate(predictions_full)\n",
    "\n",
    "print('RMSE: ', RMSE)\n",
    "print('MAE: ', MAE)\n",
    "print('R2: ', R2)"
   ]
  },
  {
   "cell_type": "markdown",
   "id": "5fa1d3c2",
   "metadata": {},
   "source": [
    "## Обучение модели на числовых фичах"
   ]
  },
  {
   "cell_type": "code",
   "execution_count": 19,
   "id": "7c0837f3",
   "metadata": {},
   "outputs": [],
   "source": [
    "# Обучим модель без категориальных фичей, использовав ранее определенные числовые колонки\n",
    "lr_cut = LinearRegression(labelCol=target, featuresCol='numerical_features_scaled')\n",
    "\n",
    "model_cut = lr_cut.fit(train_data)"
   ]
  },
  {
   "cell_type": "code",
   "execution_count": 20,
   "id": "6da4e9ee",
   "metadata": {},
   "outputs": [
    {
     "name": "stdout",
     "output_type": "stream",
     "text": [
      "+------------------+------------------+\n",
      "|median_house_value|        prediction|\n",
      "+------------------+------------------+\n",
      "|          111400.0|164235.37262760988|\n",
      "|           50800.0| 183287.0400344138|\n",
      "|           73200.0| 73900.74679343449|\n",
      "|           70000.0|115666.88016890315|\n",
      "|           74600.0|  52403.1854412267|\n",
      "|          107000.0|159936.30914820544|\n",
      "|           85100.0| 149382.4614269901|\n",
      "|           90600.0|147232.77891856432|\n",
      "|           92700.0|152115.75639728317|\n",
      "|          100600.0|157693.86561529106|\n",
      "|           67500.0| 114116.1406116467|\n",
      "|           99600.0| 152148.8145630043|\n",
      "|           94800.0|195689.13781347545|\n",
      "|           86900.0|117434.13975783857|\n",
      "|           92800.0| 174140.4559944435|\n",
      "|           96100.0| 119744.9209678336|\n",
      "|           90200.0| 115014.1973974742|\n",
      "|           92600.0| 131352.9400998312|\n",
      "|           75000.0| 77943.93870104104|\n",
      "|          150000.0| 84616.14367153728|\n",
      "+------------------+------------------+\n",
      "only showing top 20 rows\n",
      "\n"
     ]
    }
   ],
   "source": [
    "predictions_cut = model_cut.transform(test_data)\n",
    "\n",
    "predictedLabels_cut = predictions_cut.select(target, 'prediction')\n",
    "\n",
    "predictedLabels_cut.show()"
   ]
  },
  {
   "cell_type": "code",
   "execution_count": 21,
   "id": "f018af0d",
   "metadata": {},
   "outputs": [
    {
     "name": "stdout",
     "output_type": "stream",
     "text": [
      "RMSE:  70077.29458745479\n",
      "MAE:  50991.78979509102\n",
      "R2:  0.6482923951034327\n"
     ]
    }
   ],
   "source": [
    "# RMSE MAE R2\n",
    "\n",
    "RMSE_cut = RegressionEvaluator(labelCol=target).evaluate(predictions_cut)\n",
    "MAE_cut = RegressionEvaluator(labelCol=target, metricName='mae').evaluate(predictions_cut)\n",
    "R2_cut = RegressionEvaluator(labelCol=target, metricName='r2').evaluate(predictions_cut)\n",
    "\n",
    "print('RMSE: ', RMSE_cut)\n",
    "print('MAE: ', MAE_cut)\n",
    "print('R2: ', R2_cut)"
   ]
  },
  {
   "cell_type": "markdown",
   "id": "efa7acb0",
   "metadata": {
    "id": "757fd103"
   },
   "source": [
    "# Анализ результатов"
   ]
  },
  {
   "cell_type": "code",
   "execution_count": 22,
   "id": "16c1d862",
   "metadata": {},
   "outputs": [
    {
     "data": {
      "text/html": [
       "<div>\n",
       "<style scoped>\n",
       "    .dataframe tbody tr th:only-of-type {\n",
       "        vertical-align: middle;\n",
       "    }\n",
       "\n",
       "    .dataframe tbody tr th {\n",
       "        vertical-align: top;\n",
       "    }\n",
       "\n",
       "    .dataframe thead th {\n",
       "        text-align: right;\n",
       "    }\n",
       "</style>\n",
       "<table border=\"1\" class=\"dataframe\">\n",
       "  <thead>\n",
       "    <tr style=\"text-align: right;\">\n",
       "      <th></th>\n",
       "      <th>data_name</th>\n",
       "      <th>RMSE</th>\n",
       "      <th>MAE</th>\n",
       "      <th>R2</th>\n",
       "    </tr>\n",
       "  </thead>\n",
       "  <tbody>\n",
       "    <tr>\n",
       "      <td>0</td>\n",
       "      <td>full data predictions</td>\n",
       "      <td>69035.310</td>\n",
       "      <td>49651.644</td>\n",
       "      <td>0.659</td>\n",
       "    </tr>\n",
       "    <tr>\n",
       "      <td>1</td>\n",
       "      <td>num data predictions</td>\n",
       "      <td>70077.295</td>\n",
       "      <td>50991.790</td>\n",
       "      <td>0.648</td>\n",
       "    </tr>\n",
       "  </tbody>\n",
       "</table>\n",
       "</div>"
      ],
      "text/plain": [
       "               data_name       RMSE        MAE     R2\n",
       "0  full data predictions  69035.310  49651.644  0.659\n",
       "1   num data predictions  70077.295  50991.790  0.648"
      ]
     },
     "execution_count": 22,
     "metadata": {},
     "output_type": "execute_result"
    }
   ],
   "source": [
    "# Соберем наши метрики в общую таблицу для наглядного сравнения\n",
    "\n",
    "pred_data = [\n",
    "    ['full data predictions', \n",
    "    round(RMSE, 3),\n",
    "    round(MAE, 3),\n",
    "    round(R2, 3)], \n",
    "    ['num data predictions', \n",
    "    round(RMSE_cut, 3),\n",
    "    round(MAE_cut, 3),\n",
    "    round(R2_cut, 3)]]\n",
    "\n",
    "pred_cols = ['data_name', \n",
    "            'RMSE', \n",
    "            'MAE', \n",
    "            'R2']\n",
    "\n",
    "pred_data_models = pd.DataFrame(data=pred_data, columns=pred_cols)\n",
    "\n",
    "pred_data_models"
   ]
  },
  {
   "cell_type": "markdown",
   "id": "8d55ee52",
   "metadata": {},
   "source": [
    "**Вывод**\n",
    "\n",
    "- Были обучены два варианта моделей:\n",
    "    - С полным набором фичей\n",
    "    - Только с численными фичами\n",
    "- Модель, обученная на полном наборе данных показала более точный результат:\n",
    "    - Значение R2 выше\n",
    "    - Значения RMSE и MAE ниже\n"
   ]
  }
 ],
 "metadata": {
  "ExecuteTimeLog": [
   {
    "duration": 1082,
    "start_time": "2022-03-14T15:38:15.014Z"
   },
   {
    "duration": 3,
    "start_time": "2022-03-14T15:39:30.756Z"
   },
   {
    "duration": 4,
    "start_time": "2022-03-14T15:48:28.017Z"
   },
   {
    "duration": 75,
    "start_time": "2022-03-14T15:52:18.791Z"
   },
   {
    "duration": 20151,
    "start_time": "2022-03-14T15:52:54.851Z"
   },
   {
    "duration": 700,
    "start_time": "2022-03-14T16:07:23.568Z"
   },
   {
    "duration": 410,
    "start_time": "2022-03-14T16:08:22.664Z"
   },
   {
    "duration": 323,
    "start_time": "2022-03-14T16:08:59.784Z"
   },
   {
    "duration": 1579,
    "start_time": "2022-03-14T16:09:34.823Z"
   },
   {
    "duration": 4714,
    "start_time": "2022-03-14T16:22:18.065Z"
   },
   {
    "duration": 3353,
    "start_time": "2022-03-14T16:22:58.847Z"
   },
   {
    "duration": 1133,
    "start_time": "2022-03-14T16:24:55.221Z"
   },
   {
    "duration": 2807,
    "start_time": "2022-03-14T16:27:14.557Z"
   },
   {
    "duration": 3,
    "start_time": "2022-03-14T16:32:28.875Z"
   },
   {
    "duration": 1715,
    "start_time": "2022-03-14T16:35:11.776Z"
   },
   {
    "duration": 630,
    "start_time": "2022-03-14T16:35:59.607Z"
   },
   {
    "duration": 1057,
    "start_time": "2022-03-14T16:36:19.657Z"
   },
   {
    "duration": 20757,
    "start_time": "2022-03-14T16:36:20.716Z"
   },
   {
    "duration": 711,
    "start_time": "2022-03-14T16:36:41.477Z"
   },
   {
    "duration": 1518,
    "start_time": "2022-03-14T16:36:42.190Z"
   },
   {
    "duration": 4771,
    "start_time": "2022-03-14T16:36:43.711Z"
   },
   {
    "duration": 3478,
    "start_time": "2022-03-14T16:36:48.484Z"
   },
   {
    "duration": 2,
    "start_time": "2022-03-14T16:36:51.965Z"
   },
   {
    "duration": 1694,
    "start_time": "2022-03-14T16:36:51.969Z"
   },
   {
    "duration": 986,
    "start_time": "2022-03-14T16:38:15.106Z"
   },
   {
    "duration": 22084,
    "start_time": "2022-03-14T16:38:16.094Z"
   },
   {
    "duration": 710,
    "start_time": "2022-03-14T16:38:38.180Z"
   },
   {
    "duration": 1381,
    "start_time": "2022-03-14T16:38:38.891Z"
   },
   {
    "duration": 5121,
    "start_time": "2022-03-14T16:38:40.273Z"
   },
   {
    "duration": 3295,
    "start_time": "2022-03-14T16:38:45.396Z"
   },
   {
    "duration": 3,
    "start_time": "2022-03-14T16:38:48.693Z"
   },
   {
    "duration": 3792,
    "start_time": "2022-03-14T16:38:48.698Z"
   },
   {
    "duration": 153,
    "start_time": "2022-03-14T16:39:10.569Z"
   },
   {
    "duration": 1997,
    "start_time": "2022-03-14T16:39:32.895Z"
   },
   {
    "duration": 6,
    "start_time": "2022-03-14T16:39:54.487Z"
   },
   {
    "duration": 692,
    "start_time": "2022-03-14T16:40:14.574Z"
   },
   {
    "duration": 307,
    "start_time": "2022-03-14T16:40:32.983Z"
   },
   {
    "duration": 230,
    "start_time": "2022-03-14T16:40:57.038Z"
   },
   {
    "duration": 248,
    "start_time": "2022-03-14T16:41:40.432Z"
   },
   {
    "duration": 1105,
    "start_time": "2022-03-14T16:42:08.969Z"
   },
   {
    "duration": 22503,
    "start_time": "2022-03-14T16:42:10.076Z"
   },
   {
    "duration": 782,
    "start_time": "2022-03-14T16:42:32.581Z"
   },
   {
    "duration": 2199,
    "start_time": "2022-03-14T16:42:33.365Z"
   },
   {
    "duration": 4738,
    "start_time": "2022-03-14T16:42:35.567Z"
   },
   {
    "duration": 4057,
    "start_time": "2022-03-14T16:42:40.307Z"
   },
   {
    "duration": 3,
    "start_time": "2022-03-14T16:42:44.366Z"
   },
   {
    "duration": 1634,
    "start_time": "2022-03-14T16:42:44.371Z"
   },
   {
    "duration": 1385,
    "start_time": "2022-03-14T16:46:36.659Z"
   },
   {
    "duration": 1315,
    "start_time": "2022-03-14T16:47:42.253Z"
   },
   {
    "duration": 1203,
    "start_time": "2022-03-14T16:49:10.460Z"
   },
   {
    "duration": 1440,
    "start_time": "2022-03-14T16:49:43.192Z"
   },
   {
    "duration": 4,
    "start_time": "2022-03-14T16:51:12.254Z"
   },
   {
    "duration": 1114,
    "start_time": "2022-03-14T16:51:19.071Z"
   },
   {
    "duration": 854,
    "start_time": "2022-03-14T16:51:53.051Z"
   },
   {
    "duration": 21300,
    "start_time": "2022-03-14T16:51:53.907Z"
   },
   {
    "duration": 703,
    "start_time": "2022-03-14T16:52:15.264Z"
   },
   {
    "duration": 1659,
    "start_time": "2022-03-14T16:52:15.970Z"
   },
   {
    "duration": 4572,
    "start_time": "2022-03-14T16:52:17.631Z"
   },
   {
    "duration": 3037,
    "start_time": "2022-03-14T16:52:22.264Z"
   },
   {
    "duration": 3,
    "start_time": "2022-03-14T16:52:25.303Z"
   },
   {
    "duration": 1705,
    "start_time": "2022-03-14T16:52:25.364Z"
   },
   {
    "duration": 1884,
    "start_time": "2022-03-14T16:52:27.071Z"
   },
   {
    "duration": 8,
    "start_time": "2022-03-14T16:53:04.928Z"
   },
   {
    "duration": 5,
    "start_time": "2022-03-14T16:53:46.032Z"
   },
   {
    "duration": 4,
    "start_time": "2022-03-14T16:54:01.240Z"
   },
   {
    "duration": 1494,
    "start_time": "2022-03-14T16:54:22.088Z"
   },
   {
    "duration": 511,
    "start_time": "2022-03-14T16:58:31.670Z"
   },
   {
    "duration": 4,
    "start_time": "2022-03-14T16:59:16.300Z"
   },
   {
    "duration": 1051,
    "start_time": "2022-03-14T17:01:18.306Z"
   },
   {
    "duration": 751,
    "start_time": "2022-03-14T17:01:48.770Z"
   },
   {
    "duration": 4,
    "start_time": "2022-03-14T17:01:56.019Z"
   },
   {
    "duration": 1976,
    "start_time": "2022-03-14T17:02:39.187Z"
   },
   {
    "duration": 23998,
    "start_time": "2022-03-14T17:02:41.165Z"
   },
   {
    "duration": 737,
    "start_time": "2022-03-14T17:03:05.166Z"
   },
   {
    "duration": 2388,
    "start_time": "2022-03-14T17:03:05.905Z"
   },
   {
    "duration": 4675,
    "start_time": "2022-03-14T17:03:08.295Z"
   },
   {
    "duration": 3987,
    "start_time": "2022-03-14T17:03:12.972Z"
   },
   {
    "duration": 3,
    "start_time": "2022-03-14T17:03:16.963Z"
   },
   {
    "duration": 1623,
    "start_time": "2022-03-14T17:03:16.967Z"
   },
   {
    "duration": 577,
    "start_time": "2022-03-14T17:03:18.592Z"
   },
   {
    "duration": 4,
    "start_time": "2022-03-14T17:19:50.990Z"
   },
   {
    "duration": 1079,
    "start_time": "2022-03-14T17:25:12.497Z"
   },
   {
    "duration": 23215,
    "start_time": "2022-03-14T17:25:13.578Z"
   },
   {
    "duration": 692,
    "start_time": "2022-03-14T17:25:36.795Z"
   },
   {
    "duration": 1808,
    "start_time": "2022-03-14T17:25:37.489Z"
   },
   {
    "duration": 4664,
    "start_time": "2022-03-14T17:25:39.299Z"
   },
   {
    "duration": 8795,
    "start_time": "2022-03-14T17:25:43.965Z"
   },
   {
    "duration": 3,
    "start_time": "2022-03-14T17:25:52.761Z"
   },
   {
    "duration": 1524,
    "start_time": "2022-03-14T17:25:52.766Z"
   },
   {
    "duration": 503,
    "start_time": "2022-03-14T17:25:54.292Z"
   },
   {
    "duration": 252,
    "start_time": "2022-03-14T18:18:54.781Z"
   },
   {
    "duration": 169,
    "start_time": "2022-03-14T18:19:05.672Z"
   },
   {
    "duration": 181,
    "start_time": "2022-03-14T18:19:16.423Z"
   },
   {
    "duration": 87,
    "start_time": "2022-03-14T18:19:21.377Z"
   },
   {
    "duration": 3,
    "start_time": "2022-03-14T18:21:22.453Z"
   },
   {
    "duration": 54,
    "start_time": "2022-03-14T18:22:04.883Z"
   },
   {
    "duration": 978,
    "start_time": "2022-03-14T18:24:09.892Z"
   },
   {
    "duration": 7,
    "start_time": "2022-03-14T18:24:29.693Z"
   },
   {
    "duration": 186,
    "start_time": "2022-03-14T18:24:45.126Z"
   },
   {
    "duration": 3,
    "start_time": "2022-03-14T18:24:55.748Z"
   },
   {
    "duration": 4,
    "start_time": "2022-03-14T18:25:21.164Z"
   },
   {
    "duration": 801,
    "start_time": "2022-03-14T18:29:21.065Z"
   },
   {
    "duration": 3615,
    "start_time": "2022-03-14T18:34:06.661Z"
   },
   {
    "duration": 7047,
    "start_time": "2022-03-14T18:36:19.434Z"
   },
   {
    "duration": 1069,
    "start_time": "2022-03-14T18:39:40.396Z"
   },
   {
    "duration": 5,
    "start_time": "2022-03-14T18:41:21.498Z"
   },
   {
    "duration": 264,
    "start_time": "2022-03-14T18:46:53.891Z"
   },
   {
    "duration": 241,
    "start_time": "2022-03-14T18:47:01.837Z"
   },
   {
    "duration": 943,
    "start_time": "2022-03-14T18:48:27.460Z"
   },
   {
    "duration": 1828,
    "start_time": "2022-03-14T18:49:31.178Z"
   },
   {
    "duration": 2107,
    "start_time": "2022-03-14T18:50:04.797Z"
   },
   {
    "duration": 4696,
    "start_time": "2022-03-14T18:54:49.279Z"
   },
   {
    "duration": 928,
    "start_time": "2022-03-14T18:55:17.370Z"
   },
   {
    "duration": 2456,
    "start_time": "2022-03-14T18:55:47.766Z"
   },
   {
    "duration": 1699,
    "start_time": "2022-03-14T18:56:35.993Z"
   },
   {
    "duration": 3005,
    "start_time": "2022-03-14T18:57:19.392Z"
   },
   {
    "duration": 10,
    "start_time": "2022-03-14T19:06:45.504Z"
   },
   {
    "duration": 581,
    "start_time": "2022-03-14T19:08:25.310Z"
   },
   {
    "duration": 9,
    "start_time": "2022-03-14T19:08:44.396Z"
   },
   {
    "duration": 15,
    "start_time": "2022-03-14T19:09:00.181Z"
   },
   {
    "duration": 10,
    "start_time": "2022-03-14T19:09:12.439Z"
   },
   {
    "duration": 1311,
    "start_time": "2022-03-14T19:12:12.963Z"
   },
   {
    "duration": 21090,
    "start_time": "2022-03-14T19:12:14.276Z"
   },
   {
    "duration": 794,
    "start_time": "2022-03-14T19:12:35.369Z"
   },
   {
    "duration": 1303,
    "start_time": "2022-03-14T19:12:36.165Z"
   },
   {
    "duration": 4917,
    "start_time": "2022-03-14T19:12:37.470Z"
   },
   {
    "duration": 9208,
    "start_time": "2022-03-14T19:12:42.390Z"
   },
   {
    "duration": 2,
    "start_time": "2022-03-14T19:12:51.600Z"
   },
   {
    "duration": 1584,
    "start_time": "2022-03-14T19:12:51.604Z"
   },
   {
    "duration": 581,
    "start_time": "2022-03-14T19:12:53.191Z"
   },
   {
    "duration": 191,
    "start_time": "2022-03-14T19:12:53.774Z"
   },
   {
    "duration": 127,
    "start_time": "2022-03-14T19:12:53.968Z"
   },
   {
    "duration": 1109,
    "start_time": "2022-03-14T19:12:54.097Z"
   },
   {
    "duration": 13,
    "start_time": "2022-03-14T19:12:55.263Z"
   },
   {
    "duration": 725,
    "start_time": "2022-03-14T19:12:55.278Z"
   },
   {
    "duration": 3285,
    "start_time": "2022-03-14T19:12:56.005Z"
   },
   {
    "duration": 6177,
    "start_time": "2022-03-14T19:12:59.292Z"
   },
   {
    "duration": 1128,
    "start_time": "2022-03-14T19:13:05.471Z"
   },
   {
    "duration": 2962,
    "start_time": "2022-03-14T19:13:06.601Z"
   },
   {
    "duration": 4507,
    "start_time": "2022-03-14T19:13:09.566Z"
   },
   {
    "duration": 957,
    "start_time": "2022-03-14T19:13:14.075Z"
   },
   {
    "duration": 1945,
    "start_time": "2022-03-14T19:13:15.064Z"
   },
   {
    "duration": 62,
    "start_time": "2022-03-14T19:13:17.011Z"
   }
  ],
  "colab": {
   "name": "PySparkSprint.ipynb",
   "provenance": []
  },
  "kernelspec": {
   "display_name": "Python 3.9.12 ('practicum')",
   "language": "python",
   "name": "python3"
  },
  "language_info": {
   "codemirror_mode": {
    "name": "ipython",
    "version": 3
   },
   "file_extension": ".py",
   "mimetype": "text/x-python",
   "name": "python",
   "nbconvert_exporter": "python",
   "pygments_lexer": "ipython3",
   "version": "3.9.12"
  },
  "toc": {
   "base_numbering": 1,
   "nav_menu": {},
   "number_sections": true,
   "sideBar": true,
   "skip_h1_title": true,
   "title_cell": "Table of Contents",
   "title_sidebar": "Contents",
   "toc_cell": false,
   "toc_position": {},
   "toc_section_display": true,
   "toc_window_display": true
  },
  "vscode": {
   "interpreter": {
    "hash": "e9b40e9b7776d6804bbf4a6b40cf4d5db7ef3d8998b5f4289d5f917a9ea7efc4"
   }
  }
 },
 "nbformat": 4,
 "nbformat_minor": 5
}
