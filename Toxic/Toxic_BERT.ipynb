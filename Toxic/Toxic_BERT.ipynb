{
  "cells": [
    {
      "cell_type": "markdown",
      "id": "30199516",
      "metadata": {
        "id": "30199516"
      },
      "source": [
        "# Определение токсичных комментариев"
      ]
    },
    {
      "cell_type": "markdown",
      "id": "23af5fed",
      "metadata": {
        "id": "23af5fed"
      },
      "source": [
        "### Вариант решения с использованием BERT"
      ]
    },
    {
      "cell_type": "markdown",
      "id": "0d2dfc35",
      "metadata": {
        "id": "0d2dfc35"
      },
      "source": [
        "Интернет-магазин «Викишоп» запускает новый сервис. Теперь пользователи могут редактировать и дополнять описания товаров, как в вики-сообществах. \n",
        "\n",
        "То есть клиенты предлагают свои правки и комментируют изменения других. Магазину нужен инструмент, который будет искать токсичные комментарии и отправлять их на модерацию. "
      ]
    },
    {
      "cell_type": "markdown",
      "id": "86f5dbd0",
      "metadata": {
        "id": "86f5dbd0"
      },
      "source": [
        "**Цель:**\n",
        "- создать модель определения токсичныхъ комментариев\n",
        "\n",
        "**Метрика:**\n",
        "- метрика для оценки качества модели F1\n",
        "\n",
        "**Точность:**\n",
        "- F1 лучшей модели должено быть не ниже **0.75**"
      ]
    },
    {
      "cell_type": "markdown",
      "id": "17e19cbc",
      "metadata": {
        "id": "17e19cbc"
      },
      "source": [
        "В нашем распоряжении набор данных с разметкой о токсичности правок."
      ]
    },
    {
      "cell_type": "markdown",
      "id": "a958733a",
      "metadata": {
        "id": "a958733a"
      },
      "source": [
        "## Импорт библиотек"
      ]
    },
    {
      "cell_type": "code",
      "execution_count": null,
      "id": "dedUby6WaFP-",
      "metadata": {
        "colab": {
          "base_uri": "https://localhost:8080/"
        },
        "id": "dedUby6WaFP-",
        "outputId": "7cafee2c-f913-4399-b98f-f680e5131040",
        "trusted": false
      },
      "outputs": [],
      "source": [
        "!pip install transformers"
      ]
    },
    {
      "cell_type": "code",
      "execution_count": null,
      "id": "kt9TEYKEaKA7",
      "metadata": {
        "colab": {
          "base_uri": "https://localhost:8080/"
        },
        "id": "kt9TEYKEaKA7",
        "outputId": "7db9438e-e961-49fb-957c-3d69cfa502f9",
        "trusted": false
      },
      "outputs": [],
      "source": [
        "!pip install catboost"
      ]
    },
    {
      "cell_type": "code",
      "execution_count": 3,
      "id": "d9390626",
      "metadata": {
        "id": "d9390626",
        "trusted": false
      },
      "outputs": [],
      "source": [
        "import pandas as pd\n",
        "import numpy as np\n",
        "\n",
        "import torch\n",
        "import transformers\n",
        "from tqdm import notebook\n",
        "from sklearn.linear_model import LogisticRegression\n",
        "from sklearn.ensemble import RandomForestClassifier\n",
        "from sklearn.preprocessing import StandardScaler\n",
        "\n",
        "from catboost import CatBoostClassifier\n",
        "import lightgbm\n",
        "\n",
        "\n",
        "from sklearn.model_selection import RandomizedSearchCV, GridSearchCV\n",
        "from sklearn.metrics import f1_score, confusion_matrix, ConfusionMatrixDisplay\n",
        "from sklearn.model_selection import train_test_split\n",
        "\n",
        "import nltk\n",
        "from nltk.corpus import stopwords as nltk_stopwords\n",
        "import re\n",
        "from tqdm import tqdm\n",
        "\n",
        "import seaborn as sns\n",
        "import matplotlib.pyplot as plt\n",
        "\n",
        "\n",
        "from imblearn.over_sampling import RandomOverSampler, SMOTE, ADASYN"
      ]
    },
    {
      "cell_type": "code",
      "execution_count": 4,
      "id": "eb840eb0",
      "metadata": {
        "id": "eb840eb0",
        "trusted": false
      },
      "outputs": [],
      "source": [
        "sns.set_theme(style=\"whitegrid\")"
      ]
    },
    {
      "cell_type": "code",
      "execution_count": 5,
      "id": "144a6db1",
      "metadata": {
        "id": "144a6db1",
        "trusted": false
      },
      "outputs": [],
      "source": [
        "RANDOM = 12345\n",
        "scaler = StandardScaler()"
      ]
    },
    {
      "cell_type": "code",
      "execution_count": 6,
      "id": "d8f3a371",
      "metadata": {
        "id": "d8f3a371",
        "trusted": false
      },
      "outputs": [],
      "source": [
        "import warnings\n",
        "warnings.filterwarnings('ignore')"
      ]
    },
    {
      "cell_type": "code",
      "execution_count": 7,
      "id": "1258774c",
      "metadata": {
        "colab": {
          "base_uri": "https://localhost:8080/"
        },
        "id": "1258774c",
        "outputId": "43a22597-dc78-4240-8f60-f06531869dd0",
        "trusted": false
      },
      "outputs": [
        {
          "name": "stderr",
          "output_type": "stream",
          "text": [
            "[nltk_data] Downloading package stopwords to /root/nltk_data...\n",
            "[nltk_data]   Unzipping corpora/stopwords.zip.\n"
          ]
        }
      ],
      "source": [
        "nltk.download('stopwords')\n",
        "stopwords = set(nltk_stopwords.words('english'))"
      ]
    },
    {
      "cell_type": "code",
      "execution_count": 8,
      "id": "f8f5cced",
      "metadata": {
        "colab": {
          "base_uri": "https://localhost:8080/"
        },
        "id": "f8f5cced",
        "outputId": "91bb804b-49a5-403a-dab8-241d0dd6f745",
        "trusted": false
      },
      "outputs": [
        {
          "data": {
            "text/plain": [
              "True"
            ]
          },
          "execution_count": 8,
          "metadata": {},
          "output_type": "execute_result"
        }
      ],
      "source": [
        "torch.cuda.is_available()"
      ]
    },
    {
      "cell_type": "code",
      "execution_count": 9,
      "id": "ggH60Fq7hXjn",
      "metadata": {
        "colab": {
          "base_uri": "https://localhost:8080/"
        },
        "id": "ggH60Fq7hXjn",
        "outputId": "e6d20a47-5c52-448a-aa9c-24267324fad2",
        "trusted": false
      },
      "outputs": [
        {
          "data": {
            "text/plain": [
              "1"
            ]
          },
          "execution_count": 9,
          "metadata": {},
          "output_type": "execute_result"
        }
      ],
      "source": [
        "torch.cuda.device_count()"
      ]
    },
    {
      "cell_type": "code",
      "execution_count": 10,
      "id": "lyLzdRx9iBtD",
      "metadata": {
        "id": "lyLzdRx9iBtD",
        "trusted": false
      },
      "outputs": [],
      "source": [
        "device = torch.device('cuda:0')"
      ]
    },
    {
      "cell_type": "code",
      "execution_count": 11,
      "id": "f290ada9",
      "metadata": {
        "id": "f290ada9",
        "trusted": false
      },
      "outputs": [],
      "source": [
        "# Confusion Matrix Plot\n",
        "\n",
        "def plot_cm(target, predictions, model):\n",
        "    cm = confusion_matrix(target, predictions, labels=model.classes_)\n",
        "    disp = ConfusionMatrixDisplay(confusion_matrix=cm ,display_labels=model.classes_)\n",
        "    disp.plot()\n",
        "    plt.show()"
      ]
    },
    {
      "cell_type": "markdown",
      "id": "d1fad8e6",
      "metadata": {
        "id": "d1fad8e6"
      },
      "source": [
        "## Загрузка и обработка текста"
      ]
    },
    {
      "cell_type": "code",
      "execution_count": null,
      "id": "bd162cea",
      "metadata": {
        "colab": {
          "base_uri": "https://localhost:8080/"
        },
        "id": "bd162cea",
        "outputId": "3a180e69-521d-4351-8c15-f3c16e47ed4b",
        "trusted": false
      },
      "outputs": [],
      "source": [
        "import os\n",
        "\n",
        "pth1 = '../datasets/toxic_comments.csv'\n",
        "pth2 = '/content/toxic_comments.csv'\n",
        "\n",
        "if os.path.exists(pth1):\n",
        "    df = pd.read_csv(pth1, error_bad_lines=False)\n",
        "elif os.path.exists(pth2):\n",
        "    df = pd.read_csv(pth2, error_bad_lines=False)\n",
        "else:\n",
        "    print('Проверьте пути к датасету')"
      ]
    },
    {
      "cell_type": "code",
      "execution_count": 13,
      "id": "051c8943",
      "metadata": {
        "colab": {
          "base_uri": "https://localhost:8080/"
        },
        "id": "051c8943",
        "outputId": "17a81042-14e6-49a3-e15b-53de591bd0c0",
        "trusted": false
      },
      "outputs": [
        {
          "data": {
            "text/plain": [
              "array(['0', '1', nan, ' removed also by ALR. Why.',\n",
              "       ' and possibly edit the article. Thank you for your time.99.41.251.5 (talk)”',\n",
              "       ' but you judge.', ' and on pages like votes for deletion',\n",
              "       ' Sime Darby is poised with the potential for more in the future\"\"\"\". This statement is also somewhat judgemental.',\n",
              "       ' anything yet?',\n",
              "       \" Wikipedia's most-viewed board has declared a specific living person has terminal cancer.\",\n",
              "       ',0\\nquestion', ' re:Open access publishing',\n",
              "       ',0\\nSockpuppet Investigation of User:Anyones Else For Nutley ',\n",
              "       ' you are absolutely correct.  Keep up the good work.  ',\n",
              "       \" I suspect there's a great deal of history that I'm woefully unaware of.  Thank you. —   \\xa0?\\xa0 \",\n",
              "       ' though a minority opinion.\"\"\"\" - Enough evidence to include parent systems in Infobox.',\n",
              "       ' you will be blocked from editing.   (T) ',\n",
              "       ' Time Magazine Article & The New Statesmen. ',\n",
              "       ' in that it infers that Noel Stanton was the Baptist pastor rather than being within the Baptist laity at Bugbrooke at the time. ',\n",
              "       ' 2012. ', ' aren´t you? ', ' inflation\"\"\"\"',\n",
              "       ' Here are a few excerpts of Dr BR Ambedkar(who was also an anthropologist and a respected historian).: ',\n",
              "       ' but its a MUST-READ regarding the topic. (talk . contr . mail) ',\n",
              "       ' ', ' there is a week pause before the 2-hour Finale',\n",
              "       \" the Sozin's Comet Book (which releases May 20th) will be on-time with the tv \",\n",
              "       ' I do play Go (though not so much for a while)',\n",
              "       ' \"\"\"\"Bosnia and Herzegovina [...] will try to keep a neutral position due to a complex domestic political scene and numerous unsolved political and economic issues in the country.\"\"\"\"',\n",
              "       ',0\\n\"',\n",
              "       \" you are described as a USMC reserve corporal. Now you say you are not a marine. Which is it? Surely you should know whether or not you're a marine or not.  \"],\n",
              "      dtype=object)"
            ]
          },
          "execution_count": 13,
          "metadata": {},
          "output_type": "execute_result"
        }
      ],
      "source": [
        "df['toxic'].unique()"
      ]
    },
    {
      "cell_type": "code",
      "execution_count": 14,
      "id": "37ad6670",
      "metadata": {
        "colab": {
          "base_uri": "https://localhost:8080/"
        },
        "id": "37ad6670",
        "outputId": "084e5123-b076-4422-a5a7-0bcae39403bf",
        "trusted": false
      },
      "outputs": [
        {
          "data": {
            "text/plain": [
              "text       0\n",
              "toxic    131\n",
              "dtype: int64"
            ]
          },
          "execution_count": 14,
          "metadata": {},
          "output_type": "execute_result"
        }
      ],
      "source": [
        "df.isna().sum()"
      ]
    },
    {
      "cell_type": "code",
      "execution_count": 15,
      "id": "8db657ad",
      "metadata": {
        "id": "8db657ad",
        "trusted": false
      },
      "outputs": [],
      "source": [
        "df = df.dropna().reset_index(drop=True)"
      ]
    },
    {
      "cell_type": "code",
      "execution_count": 16,
      "id": "73b49dee",
      "metadata": {
        "colab": {
          "base_uri": "https://localhost:8080/"
        },
        "id": "73b49dee",
        "outputId": "7e9eb89f-6a49-4bbc-9b83-1d605390f04d",
        "trusted": false
      },
      "outputs": [
        {
          "data": {
            "text/plain": [
              "0                                                                                                                                                                                          143106\n",
              "1                                                                                                                                                                                           16186\n",
              ",0\\n\"                                                                                                                                                                                           1\n",
              " \"\"\"\"Bosnia and Herzegovina [...] will try to keep a neutral position due to a complex domestic political scene and numerous unsolved political and economic issues in the country.\"\"\"\"         1\n",
              " I do play Go (though not so much for a while)                                                                                                                                                  1\n",
              " the Sozin's Comet Book (which releases May 20th) will be on-time with the tv                                                                                                                   1\n",
              " there is a week pause before the 2-hour Finale                                                                                                                                                 1\n",
              "                                                                                                                                                                                                1\n",
              " but its a MUST-READ regarding the topic. (talk . contr . mail)                                                                                                                                 1\n",
              " Here are a few excerpts of Dr BR Ambedkar(who was also an anthropologist and a respected historian).:                                                                                          1\n",
              " inflation\"\"\"\"                                                                                                                                                                                  1\n",
              " aren´t you?                                                                                                                                                                                    1\n",
              " 2012.                                                                                                                                                                                          1\n",
              " in that it infers that Noel Stanton was the Baptist pastor rather than being within the Baptist laity at Bugbrooke at the time.                                                                1\n",
              " Time Magazine Article & The New Statesmen.                                                                                                                                                     1\n",
              " you will be blocked from editing.   (T)                                                                                                                                                        1\n",
              " though a minority opinion.\"\"\"\" - Enough evidence to include parent systems in Infobox.                                                                                                         1\n",
              " I suspect there's a great deal of history that I'm woefully unaware of.  Thank you. —    ?                                                                                                     1\n",
              " you are absolutely correct.  Keep up the good work.                                                                                                                                            1\n",
              ",0\\nSockpuppet Investigation of User:Anyones Else For Nutley                                                                                                                                    1\n",
              " re:Open access publishing                                                                                                                                                                      1\n",
              ",0\\nquestion                                                                                                                                                                                    1\n",
              " Wikipedia's most-viewed board has declared a specific living person has terminal cancer.                                                                                                       1\n",
              " anything yet?                                                                                                                                                                                  1\n",
              " Sime Darby is poised with the potential for more in the future\"\"\"\". This statement is also somewhat judgemental.                                                                               1\n",
              " and on pages like votes for deletion                                                                                                                                                           1\n",
              " but you judge.                                                                                                                                                                                 1\n",
              " and possibly edit the article. Thank you for your time.99.41.251.5 (talk)”                                                                                                                     1\n",
              " removed also by ALR. Why.                                                                                                                                                                      1\n",
              " you are described as a USMC reserve corporal. Now you say you are not a marine. Which is it? Surely you should know whether or not you're a marine or not.                                     1\n",
              "Name: toxic, dtype: int64"
            ]
          },
          "execution_count": 16,
          "metadata": {},
          "output_type": "execute_result"
        }
      ],
      "source": [
        "df['toxic'].value_counts()"
      ]
    },
    {
      "cell_type": "markdown",
      "id": "7b289613",
      "metadata": {
        "id": "7b289613"
      },
      "source": [
        "В таргет затесались комментарии - избавимся от них"
      ]
    },
    {
      "cell_type": "code",
      "execution_count": 17,
      "id": "2d9ffe77",
      "metadata": {
        "id": "2d9ffe77",
        "trusted": false
      },
      "outputs": [],
      "source": [
        "drop_index = df.query('toxic != \"0\" and toxic != \"1\"').index"
      ]
    },
    {
      "cell_type": "code",
      "execution_count": 18,
      "id": "1fb6a170",
      "metadata": {
        "id": "1fb6a170",
        "trusted": false
      },
      "outputs": [],
      "source": [
        "df_comm = df.drop(index=drop_index).reset_index(drop=True)"
      ]
    },
    {
      "cell_type": "code",
      "execution_count": 19,
      "id": "1b0edf8d",
      "metadata": {
        "colab": {
          "base_uri": "https://localhost:8080/",
          "height": 424
        },
        "id": "1b0edf8d",
        "outputId": "1ba2cbbf-433d-4f0a-a4ea-4700e7b9c929",
        "trusted": false
      },
      "outputs": [
        {
          "data": {
            "text/html": [
              "\n",
              "  <div id=\"df-e8c24e3c-7ebf-40e4-9dd8-38014823e5ae\">\n",
              "    <div class=\"colab-df-container\">\n",
              "      <div>\n",
              "<style scoped>\n",
              "    .dataframe tbody tr th:only-of-type {\n",
              "        vertical-align: middle;\n",
              "    }\n",
              "\n",
              "    .dataframe tbody tr th {\n",
              "        vertical-align: top;\n",
              "    }\n",
              "\n",
              "    .dataframe thead th {\n",
              "        text-align: right;\n",
              "    }\n",
              "</style>\n",
              "<table border=\"1\" class=\"dataframe\">\n",
              "  <thead>\n",
              "    <tr style=\"text-align: right;\">\n",
              "      <th></th>\n",
              "      <th>text</th>\n",
              "      <th>toxic</th>\n",
              "    </tr>\n",
              "  </thead>\n",
              "  <tbody>\n",
              "    <tr>\n",
              "      <th>0</th>\n",
              "      <td>Explanation\\nWhy the edits made under my usern...</td>\n",
              "      <td>0</td>\n",
              "    </tr>\n",
              "    <tr>\n",
              "      <th>1</th>\n",
              "      <td>D'aww! He matches this background colour I'm s...</td>\n",
              "      <td>0</td>\n",
              "    </tr>\n",
              "    <tr>\n",
              "      <th>2</th>\n",
              "      <td>Hey man, I'm really not trying to edit war. It...</td>\n",
              "      <td>0</td>\n",
              "    </tr>\n",
              "    <tr>\n",
              "      <th>3</th>\n",
              "      <td>\"\\nMore\\nI can't make any real suggestions on ...</td>\n",
              "      <td>0</td>\n",
              "    </tr>\n",
              "    <tr>\n",
              "      <th>4</th>\n",
              "      <td>You, sir, are my hero. Any chance you remember...</td>\n",
              "      <td>0</td>\n",
              "    </tr>\n",
              "    <tr>\n",
              "      <th>...</th>\n",
              "      <td>...</td>\n",
              "      <td>...</td>\n",
              "    </tr>\n",
              "    <tr>\n",
              "      <th>159287</th>\n",
              "      <td>\":::::And for the second time of asking, when ...</td>\n",
              "      <td>0</td>\n",
              "    </tr>\n",
              "    <tr>\n",
              "      <th>159288</th>\n",
              "      <td>You should be ashamed of yourself \\n\\nThat is ...</td>\n",
              "      <td>0</td>\n",
              "    </tr>\n",
              "    <tr>\n",
              "      <th>159289</th>\n",
              "      <td>Spitzer \\n\\nUmm, theres no actual article for ...</td>\n",
              "      <td>0</td>\n",
              "    </tr>\n",
              "    <tr>\n",
              "      <th>159290</th>\n",
              "      <td>And it looks like it was actually you who put ...</td>\n",
              "      <td>0</td>\n",
              "    </tr>\n",
              "    <tr>\n",
              "      <th>159291</th>\n",
              "      <td>\"\\nAnd ... I really don't think you understand...</td>\n",
              "      <td>0</td>\n",
              "    </tr>\n",
              "  </tbody>\n",
              "</table>\n",
              "<p>159292 rows × 2 columns</p>\n",
              "</div>\n",
              "      <button class=\"colab-df-convert\" onclick=\"convertToInteractive('df-e8c24e3c-7ebf-40e4-9dd8-38014823e5ae')\"\n",
              "              title=\"Convert this dataframe to an interactive table.\"\n",
              "              style=\"display:none;\">\n",
              "        \n",
              "  <svg xmlns=\"http://www.w3.org/2000/svg\" height=\"24px\"viewBox=\"0 0 24 24\"\n",
              "       width=\"24px\">\n",
              "    <path d=\"M0 0h24v24H0V0z\" fill=\"none\"/>\n",
              "    <path d=\"M18.56 5.44l.94 2.06.94-2.06 2.06-.94-2.06-.94-.94-2.06-.94 2.06-2.06.94zm-11 1L8.5 8.5l.94-2.06 2.06-.94-2.06-.94L8.5 2.5l-.94 2.06-2.06.94zm10 10l.94 2.06.94-2.06 2.06-.94-2.06-.94-.94-2.06-.94 2.06-2.06.94z\"/><path d=\"M17.41 7.96l-1.37-1.37c-.4-.4-.92-.59-1.43-.59-.52 0-1.04.2-1.43.59L10.3 9.45l-7.72 7.72c-.78.78-.78 2.05 0 2.83L4 21.41c.39.39.9.59 1.41.59.51 0 1.02-.2 1.41-.59l7.78-7.78 2.81-2.81c.8-.78.8-2.07 0-2.86zM5.41 20L4 18.59l7.72-7.72 1.47 1.35L5.41 20z\"/>\n",
              "  </svg>\n",
              "      </button>\n",
              "      \n",
              "  <style>\n",
              "    .colab-df-container {\n",
              "      display:flex;\n",
              "      flex-wrap:wrap;\n",
              "      gap: 12px;\n",
              "    }\n",
              "\n",
              "    .colab-df-convert {\n",
              "      background-color: #E8F0FE;\n",
              "      border: none;\n",
              "      border-radius: 50%;\n",
              "      cursor: pointer;\n",
              "      display: none;\n",
              "      fill: #1967D2;\n",
              "      height: 32px;\n",
              "      padding: 0 0 0 0;\n",
              "      width: 32px;\n",
              "    }\n",
              "\n",
              "    .colab-df-convert:hover {\n",
              "      background-color: #E2EBFA;\n",
              "      box-shadow: 0px 1px 2px rgba(60, 64, 67, 0.3), 0px 1px 3px 1px rgba(60, 64, 67, 0.15);\n",
              "      fill: #174EA6;\n",
              "    }\n",
              "\n",
              "    [theme=dark] .colab-df-convert {\n",
              "      background-color: #3B4455;\n",
              "      fill: #D2E3FC;\n",
              "    }\n",
              "\n",
              "    [theme=dark] .colab-df-convert:hover {\n",
              "      background-color: #434B5C;\n",
              "      box-shadow: 0px 1px 3px 1px rgba(0, 0, 0, 0.15);\n",
              "      filter: drop-shadow(0px 1px 2px rgba(0, 0, 0, 0.3));\n",
              "      fill: #FFFFFF;\n",
              "    }\n",
              "  </style>\n",
              "\n",
              "      <script>\n",
              "        const buttonEl =\n",
              "          document.querySelector('#df-e8c24e3c-7ebf-40e4-9dd8-38014823e5ae button.colab-df-convert');\n",
              "        buttonEl.style.display =\n",
              "          google.colab.kernel.accessAllowed ? 'block' : 'none';\n",
              "\n",
              "        async function convertToInteractive(key) {\n",
              "          const element = document.querySelector('#df-e8c24e3c-7ebf-40e4-9dd8-38014823e5ae');\n",
              "          const dataTable =\n",
              "            await google.colab.kernel.invokeFunction('convertToInteractive',\n",
              "                                                     [key], {});\n",
              "          if (!dataTable) return;\n",
              "\n",
              "          const docLinkHtml = 'Like what you see? Visit the ' +\n",
              "            '<a target=\"_blank\" href=https://colab.research.google.com/notebooks/data_table.ipynb>data table notebook</a>'\n",
              "            + ' to learn more about interactive tables.';\n",
              "          element.innerHTML = '';\n",
              "          dataTable['output_type'] = 'display_data';\n",
              "          await google.colab.output.renderOutput(dataTable, element);\n",
              "          const docLink = document.createElement('div');\n",
              "          docLink.innerHTML = docLinkHtml;\n",
              "          element.appendChild(docLink);\n",
              "        }\n",
              "      </script>\n",
              "    </div>\n",
              "  </div>\n",
              "  "
            ],
            "text/plain": [
              "                                                     text toxic\n",
              "0       Explanation\\nWhy the edits made under my usern...     0\n",
              "1       D'aww! He matches this background colour I'm s...     0\n",
              "2       Hey man, I'm really not trying to edit war. It...     0\n",
              "3       \"\\nMore\\nI can't make any real suggestions on ...     0\n",
              "4       You, sir, are my hero. Any chance you remember...     0\n",
              "...                                                   ...   ...\n",
              "159287  \":::::And for the second time of asking, when ...     0\n",
              "159288  You should be ashamed of yourself \\n\\nThat is ...     0\n",
              "159289  Spitzer \\n\\nUmm, theres no actual article for ...     0\n",
              "159290  And it looks like it was actually you who put ...     0\n",
              "159291  \"\\nAnd ... I really don't think you understand...     0\n",
              "\n",
              "[159292 rows x 2 columns]"
            ]
          },
          "execution_count": 19,
          "metadata": {},
          "output_type": "execute_result"
        }
      ],
      "source": [
        "df_comm"
      ]
    },
    {
      "cell_type": "code",
      "execution_count": 20,
      "id": "9d9719fe",
      "metadata": {
        "id": "9d9719fe",
        "trusted": false
      },
      "outputs": [],
      "source": [
        "def clear_text(text):\n",
        "    text = re.sub(r'[^a-zA-Z ]', ' ', text)\n",
        "    text = text.split()\n",
        "    text = \" \".join(text)\n",
        "    return text"
      ]
    },
    {
      "cell_type": "markdown",
      "id": "5aa47990",
      "metadata": {
        "id": "5aa47990"
      },
      "source": [
        "Выберем сэмплы"
      ]
    },
    {
      "cell_type": "code",
      "execution_count": 21,
      "id": "a12d3325",
      "metadata": {
        "id": "a12d3325",
        "trusted": false
      },
      "outputs": [],
      "source": [
        "df_comm = df_comm.sample(1000, random_state=RANDOM).reset_index(drop=True)"
      ]
    },
    {
      "cell_type": "code",
      "execution_count": 22,
      "id": "6d5489eb",
      "metadata": {
        "colab": {
          "base_uri": "https://localhost:8080/"
        },
        "id": "6d5489eb",
        "outputId": "8e2c013f-7ba6-45c1-98af-28f150936f86",
        "trusted": false
      },
      "outputs": [
        {
          "name": "stdout",
          "output_type": "stream",
          "text": [
            "<class 'pandas.core.frame.DataFrame'>\n",
            "RangeIndex: 1000 entries, 0 to 999\n",
            "Data columns (total 2 columns):\n",
            " #   Column  Non-Null Count  Dtype \n",
            "---  ------  --------------  ----- \n",
            " 0   text    1000 non-null   object\n",
            " 1   toxic   1000 non-null   object\n",
            "dtypes: object(2)\n",
            "memory usage: 15.8+ KB\n"
          ]
        }
      ],
      "source": [
        "df_comm.info()"
      ]
    },
    {
      "cell_type": "code",
      "execution_count": 23,
      "id": "bfa035e0",
      "metadata": {
        "colab": {
          "base_uri": "https://localhost:8080/"
        },
        "id": "bfa035e0",
        "outputId": "8e972a02-4c71-40fb-8c94-79ba4610eebe",
        "trusted": false
      },
      "outputs": [
        {
          "data": {
            "text/plain": [
              "array(['0', '1'], dtype=object)"
            ]
          },
          "execution_count": 23,
          "metadata": {},
          "output_type": "execute_result"
        }
      ],
      "source": [
        "X, y = df_comm.text, df_comm.toxic\n",
        "\n",
        "y.unique()"
      ]
    },
    {
      "cell_type": "code",
      "execution_count": 24,
      "id": "_zafIyFqX_ml",
      "metadata": {
        "colab": {
          "base_uri": "https://localhost:8080/"
        },
        "id": "_zafIyFqX_ml",
        "outputId": "497b78b6-0103-4041-c72e-b01118c525c4",
        "trusted": false
      },
      "outputs": [
        {
          "data": {
            "text/plain": [
              "array([0, 1])"
            ]
          },
          "execution_count": 24,
          "metadata": {},
          "output_type": "execute_result"
        }
      ],
      "source": [
        "y = y.astype(int)\n",
        "\n",
        "y.unique()"
      ]
    },
    {
      "cell_type": "code",
      "execution_count": 25,
      "id": "93feb60e",
      "metadata": {
        "colab": {
          "base_uri": "https://localhost:8080/"
        },
        "id": "93feb60e",
        "outputId": "49928dc8-660a-431e-90e0-85ab8201db55",
        "trusted": false
      },
      "outputs": [
        {
          "data": {
            "text/plain": [
              "0      Expert Categorizers  \\n\\nWhy is there no menti...\n",
              "1                         \"\\n\\n Noise \\n\\nfart*  talk. \"\n",
              "2      An indefinite block is appropriate, even for a...\n",
              "3      I don't understand why we have a screenshot of...\n",
              "4      Hello! Some of the people, places or things yo...\n",
              "                             ...                        \n",
              "995    \"\\n Your submission at Articles for creation \\...\n",
              "996    So they didn't see anything, as there isn't an...\n",
              "997    RE:\\nHave a look:\\n all listed pages \\nFalse g...\n",
              "998    \"\\n\\n Dear Helladios can you stop deleting my ...\n",
              "999    PS. Saxifrage after you are done gobbling on t...\n",
              "Name: text, Length: 1000, dtype: object"
            ]
          },
          "execution_count": 25,
          "metadata": {},
          "output_type": "execute_result"
        }
      ],
      "source": [
        "X"
      ]
    },
    {
      "cell_type": "code",
      "execution_count": 26,
      "id": "5166facc",
      "metadata": {
        "id": "5166facc",
        "trusted": false
      },
      "outputs": [],
      "source": [
        "X = X.apply(lambda x: clear_text(x))"
      ]
    },
    {
      "cell_type": "code",
      "execution_count": 27,
      "id": "4cd39fd6",
      "metadata": {
        "colab": {
          "base_uri": "https://localhost:8080/"
        },
        "id": "4cd39fd6",
        "outputId": "9dd98c42-58ef-405c-aff1-9dab7f9c85a0",
        "trusted": false
      },
      "outputs": [
        {
          "data": {
            "text/plain": [
              "0      Expert Categorizers Why is there no mention of...\n",
              "1                                        Noise fart talk\n",
              "2      An indefinite block is appropriate even for a ...\n",
              "3      I don t understand why we have a screenshot of...\n",
              "4      Hello Some of the people places or things you ...\n",
              "                             ...                        \n",
              "995    Your submission at Articles for creation NOVA ...\n",
              "996    So they didn t see anything as there isn t any...\n",
              "997    RE Have a look all listed pages False garden m...\n",
              "998    Dear Helladios can you stop deleting my input ...\n",
              "999    PS Saxifrage after you are done gobbling on th...\n",
              "Name: text, Length: 1000, dtype: object"
            ]
          },
          "execution_count": 27,
          "metadata": {},
          "output_type": "execute_result"
        }
      ],
      "source": [
        "X"
      ]
    },
    {
      "cell_type": "markdown",
      "id": "bfd3d3d9",
      "metadata": {
        "id": "bfd3d3d9"
      },
      "source": [
        "При использовании BERT ручная обработка комментариев не понадобится.\n",
        "\n",
        "Используем встроенный токенайзер"
      ]
    },
    {
      "cell_type": "code",
      "execution_count": 28,
      "id": "5e888888",
      "metadata": {
        "colab": {
          "base_uri": "https://localhost:8080/",
          "height": 145,
          "referenced_widgets": [
            "32e769d706014f2690a30e49541baf55",
            "34450d703fd94313adc003233d50ff73",
            "4f6454118621493092cb1352f2203ffa",
            "68bcae0407b64249bfebb5b1856eb6bc",
            "8b02d34b6f774b859233d123f993733c",
            "3ac97023d4fd47daac1ba3b0521b0f47",
            "d6833f0b1ee6498391c5a09161e3e31f",
            "042a0aac7fff4c3997cf6b6522315a00",
            "364604cf313a4ff2b5846bde49677371",
            "7be6fb704b56442392ef7d69d0d855e0",
            "0c85fba66ff141c7950cdb772a071e58",
            "9867325978994a429a1eaeda6fb68d23",
            "80a8f537c8dd4ea88bfa59ff6ea5126d",
            "3d64443871f34a81adbafddd2c6e119c",
            "06815105b1c84cc4bd20588e2dbcc2e4",
            "66e3e1b0b96c4ff8bb8a0111e699dfba",
            "06bd1aba64f447618ea51966d996f2ae",
            "5790fae3946a49e380629710e08aea8d",
            "15ecf9af666b43ad97de3fd4e4166bcf",
            "e46a6473d00d4c9994498546aacf21cf",
            "5150abf695924a70a03fb03b735c1312",
            "a7aeb42d0d23490f884255b0852ce194",
            "1f2c2cbc5b3d42e2a7892eb24843e2ca",
            "2a4f1fdb3d1a48618028a0dd7d2d84b0",
            "2113b07ca9dc49c18efb07cbeb2a4bb8",
            "0703b291ff1d4f43a11cfb2a4add2442",
            "0fde17daf65646809e76cf668dcdaa5c",
            "db81c03fe06f4f86afaf67693ad4b540",
            "9b69104686b54af7913cbe37691a8748",
            "cb951cd58f014cda964e454a158a130a",
            "b62e953ba5484d0a84857ad5f54ae488",
            "2bf825033ba741ff9ba136bd1767e6d5",
            "6247b26fc133401da99719d6957e873a",
            "ba05776da41944a6862caad75db25a0c",
            "a25aa9d32f2942a9b78cc9ece37e73fb",
            "a7b467b1cc6746aba91020ce18a3d338",
            "307f101fb0ad406a864f2f39ace21acb",
            "12fa7da2c1fc42ba9db1725347a666ae",
            "fec10c81f8214d7c859fed85f33a6e62",
            "4ad82591e648465fab2815f1ada5a71e",
            "96f2ba959d084ef390980d4e39663440",
            "c2f9058d1a3c43f0921c37147504a396",
            "19e1e42636ca4c57b9115e24d773eb51",
            "20cc3eeff09546698d484a8d0e3ba445"
          ]
        },
        "id": "5e888888",
        "outputId": "f5b0871d-8e23-4986-9b9e-34dc6d28a388",
        "scrolled": true,
        "trusted": false
      },
      "outputs": [
        {
          "data": {
            "application/vnd.jupyter.widget-view+json": {
              "model_id": "32e769d706014f2690a30e49541baf55",
              "version_major": 2,
              "version_minor": 0
            },
            "text/plain": [
              "Downloading:   0%|          | 0.00/28.0 [00:00<?, ?B/s]"
            ]
          },
          "metadata": {},
          "output_type": "display_data"
        },
        {
          "data": {
            "application/vnd.jupyter.widget-view+json": {
              "model_id": "9867325978994a429a1eaeda6fb68d23",
              "version_major": 2,
              "version_minor": 0
            },
            "text/plain": [
              "Downloading:   0%|          | 0.00/483 [00:00<?, ?B/s]"
            ]
          },
          "metadata": {},
          "output_type": "display_data"
        },
        {
          "data": {
            "application/vnd.jupyter.widget-view+json": {
              "model_id": "1f2c2cbc5b3d42e2a7892eb24843e2ca",
              "version_major": 2,
              "version_minor": 0
            },
            "text/plain": [
              "Downloading:   0%|          | 0.00/232k [00:00<?, ?B/s]"
            ]
          },
          "metadata": {},
          "output_type": "display_data"
        },
        {
          "data": {
            "application/vnd.jupyter.widget-view+json": {
              "model_id": "ba05776da41944a6862caad75db25a0c",
              "version_major": 2,
              "version_minor": 0
            },
            "text/plain": [
              "Downloading:   0%|          | 0.00/466k [00:00<?, ?B/s]"
            ]
          },
          "metadata": {},
          "output_type": "display_data"
        }
      ],
      "source": [
        "# Задаем максимально возможную длину, тк при поиске результат был 2145)\n",
        "max_length = 512\n",
        "\n",
        "tokenizer = transformers.AutoTokenizer.from_pretrained(\"distilbert-base-uncased\")\n",
        "\n",
        "tokenized = X.apply(\n",
        "    lambda x: tokenizer.encode(x, add_special_tokens=True, max_length=max_length, truncation=True))\n",
        "\n",
        "\n",
        "        \n",
        "padded = np.array([i + [0]*(max_length - len(i)) for i in tokenized.values])\n",
        "\n",
        "attention_mask = np.where(padded != 0, 1, 0)"
      ]
    },
    {
      "cell_type": "code",
      "execution_count": 29,
      "id": "4b9fcf9e",
      "metadata": {
        "colab": {
          "base_uri": "https://localhost:8080/"
        },
        "id": "4b9fcf9e",
        "outputId": "ccdcf24f-b10c-4faa-9e85-3c8fbc6585c1",
        "trusted": false
      },
      "outputs": [
        {
          "data": {
            "text/plain": [
              "0      [101, 6739, 4937, 20265, 25709, 2869, 2339, 20...\n",
              "1                     [101, 5005, 2521, 2102, 2831, 102]\n",
              "2      [101, 2019, 25617, 3796, 2003, 6413, 2130, 200...\n",
              "3      [101, 1045, 2123, 1056, 3305, 2339, 2057, 2031...\n",
              "4      [101, 7592, 2070, 1997, 1996, 2111, 3182, 2030...\n",
              "                             ...                        \n",
              "995    [101, 2115, 12339, 2012, 4790, 2005, 4325, 684...\n",
              "996    [101, 2061, 2027, 2134, 1056, 2156, 2505, 2004...\n",
              "997    [101, 2128, 2031, 1037, 2298, 2035, 3205, 5530...\n",
              "998    [101, 6203, 3109, 17190, 2891, 2064, 2017, 264...\n",
              "999    [101, 8827, 19656, 10128, 24449, 2044, 2017, 2...\n",
              "Name: text, Length: 1000, dtype: object"
            ]
          },
          "execution_count": 29,
          "metadata": {},
          "output_type": "execute_result"
        }
      ],
      "source": [
        "tokenized"
      ]
    },
    {
      "cell_type": "code",
      "execution_count": 30,
      "id": "4c218ea2",
      "metadata": {
        "colab": {
          "base_uri": "https://localhost:8080/",
          "height": 49,
          "referenced_widgets": [
            "392a67cce6014da6b9764e1981701cdb",
            "54819df090c3484d88539d4873b1457f",
            "82f3e52c736f4829a68e8c7d5c421c3e",
            "17c39392e0f44a3e99950012df4bf69a",
            "b659835b2d65441ea66e0aab347da49c",
            "b9e79b45089441e291ec243f70b737c4",
            "51e8e2b4c36a4063a5923a94d8f7e506",
            "7929d5cf39e54816a3d8b378f6b7bd46",
            "5ab642728a3141099129e8b6e81081a2",
            "0b2f94c8a8e54dcdbeec01be4b0294dd",
            "beb486c364b7461198e24062af71f429"
          ]
        },
        "id": "4c218ea2",
        "outputId": "9d0d3d96-9c15-4ed7-cbde-e12196fdb823",
        "scrolled": false,
        "trusted": false
      },
      "outputs": [
        {
          "data": {
            "application/vnd.jupyter.widget-view+json": {
              "model_id": "392a67cce6014da6b9764e1981701cdb",
              "version_major": 2,
              "version_minor": 0
            },
            "text/plain": [
              "Downloading:   0%|          | 0.00/268M [00:00<?, ?B/s]"
            ]
          },
          "metadata": {},
          "output_type": "display_data"
        }
      ],
      "source": [
        "model = transformers.AutoModelForMaskedLM.from_pretrained(\"distilbert-base-uncased\").to(device)"
      ]
    },
    {
      "cell_type": "code",
      "execution_count": 31,
      "id": "046c7060",
      "metadata": {
        "colab": {
          "base_uri": "https://localhost:8080/",
          "height": 49,
          "referenced_widgets": [
            "004ebc448b1f46919a80a7699574f617",
            "9a4365c6b125460c93d9e1619d0b0a63",
            "7d03696aae9c4f01912a57882ef55e2a",
            "899fc0a9b8b24e1e8b9e36226059cd25",
            "82032e91a3d84e7a920def6b94775ba1",
            "f5cc52b5c28a4466b9f66455f57ff80a",
            "2ceb8f3c630a4a6eb0f25ba25eedae3f",
            "fbb6cd72d0cf4c96b7889e6a040b1099",
            "054df7f2f1a94e6b8d63e6bf38f408d4",
            "f91f3c1db4d9426a870faa2c634db408",
            "f5b82299b9b2499f9d5b6d473dde6224"
          ]
        },
        "id": "046c7060",
        "outputId": "d54679ed-225f-482e-b6d6-48dbdfadcfd9",
        "trusted": false
      },
      "outputs": [
        {
          "data": {
            "application/vnd.jupyter.widget-view+json": {
              "model_id": "004ebc448b1f46919a80a7699574f617",
              "version_major": 2,
              "version_minor": 0
            },
            "text/plain": [
              "  0%|          | 0/50 [00:00<?, ?it/s]"
            ]
          },
          "metadata": {},
          "output_type": "display_data"
        }
      ],
      "source": [
        "batch_size = 20\n",
        "embeddings = []\n",
        "for i in notebook.tqdm(range(padded.shape[0] // batch_size)):\n",
        "        batch = torch.LongTensor(padded[batch_size*i:batch_size*(i+1)]).to(device)\n",
        "        attention_mask_batch = torch.LongTensor(attention_mask[batch_size*i:batch_size*(i+1)]).to(device)\n",
        "        \n",
        "        with torch.no_grad():\n",
        "            batch_embeddings = model(batch, attention_mask=attention_mask_batch)\n",
        "        \n",
        "        embeddings.append(batch_embeddings[0][:,0,:].cpu().numpy())"
      ]
    },
    {
      "cell_type": "code",
      "execution_count": 32,
      "id": "6f1da3ca",
      "metadata": {
        "id": "6f1da3ca",
        "trusted": false
      },
      "outputs": [],
      "source": [
        "features = np.concatenate(embeddings)\n",
        "target = y\n",
        "\n",
        "X_train, X_test, y_train, y_test = train_test_split(features, target, test_size=.2, random_state=RANDOM, shuffle=True)\n",
        "\n"
      ]
    },
    {
      "cell_type": "markdown",
      "id": "73057a8d",
      "metadata": {
        "id": "73057a8d"
      },
      "source": [
        "## Logistic Regression"
      ]
    },
    {
      "cell_type": "code",
      "execution_count": 33,
      "id": "26f29ea1",
      "metadata": {
        "id": "26f29ea1",
        "trusted": false
      },
      "outputs": [],
      "source": [
        "lr_model = LogisticRegression(n_jobs=-1, class_weight='balanced', random_state=RANDOM)\n",
        "\n",
        "lr_model.fit(X_train, y_train)\n",
        "\n",
        "lr_predictions = lr_model.predict(X_test)"
      ]
    },
    {
      "cell_type": "code",
      "execution_count": 34,
      "id": "713f7c20",
      "metadata": {
        "id": "713f7c20",
        "trusted": false
      },
      "outputs": [],
      "source": [
        "lr_f1 = f1_score(y_test, lr_predictions, average='binary')"
      ]
    },
    {
      "cell_type": "code",
      "execution_count": 35,
      "id": "7081c82f",
      "metadata": {
        "colab": {
          "base_uri": "https://localhost:8080/"
        },
        "id": "7081c82f",
        "outputId": "070e73dc-cece-4895-b509-29ea007d2651",
        "trusted": false
      },
      "outputs": [
        {
          "data": {
            "text/plain": [
              "0.6956521739130435"
            ]
          },
          "execution_count": 35,
          "metadata": {},
          "output_type": "execute_result"
        }
      ],
      "source": [
        "lr_f1"
      ]
    },
    {
      "cell_type": "code",
      "execution_count": 36,
      "id": "9c84c995",
      "metadata": {
        "colab": {
          "base_uri": "https://localhost:8080/",
          "height": 285
        },
        "id": "9c84c995",
        "outputId": "b3680a33-80ab-4011-aa51-185f4091b80d",
        "trusted": false
      },
      "outputs": [
        {
          "data": {
            "image/png": "[encoded data removed]",
            "text/plain": [
              "<Figure size 432x288 with 2 Axes>"
            ]
          },
          "metadata": {},
          "output_type": "display_data"
        }
      ],
      "source": [
        "plot_cm(y_test, lr_predictions, lr_model)"
      ]
    },
    {
      "cell_type": "markdown",
      "id": "ucD1z8U7S7TJ",
      "metadata": {
        "id": "ucD1z8U7S7TJ"
      },
      "source": [
        "### Upsampling"
      ]
    },
    {
      "cell_type": "markdown",
      "id": "1LQakFS7Up8G",
      "metadata": {
        "id": "1LQakFS7Up8G"
      },
      "source": [
        "## Logistic Regression с ресемплированным датасетом RandomOverSample"
      ]
    },
    {
      "cell_type": "code",
      "execution_count": 37,
      "id": "oi6OVPk1S-QL",
      "metadata": {
        "id": "oi6OVPk1S-QL"
      },
      "outputs": [],
      "source": [
        "ros = RandomOverSampler(random_state=RANDOM)\n",
        "\n",
        "X_ros, y_ros = ros.fit_resample(X_train, y_train)"
      ]
    },
    {
      "cell_type": "code",
      "execution_count": 38,
      "id": "T7z7F4J5Ux7k",
      "metadata": {
        "id": "T7z7F4J5Ux7k"
      },
      "outputs": [],
      "source": [
        "lr_ros_model = LogisticRegression(n_jobs=-1, class_weight='balanced', random_state=RANDOM)\n",
        "\n",
        "lr_ros_model.fit(X_ros, y_ros)\n",
        "\n",
        "lr_ros_predictions = lr_ros_model.predict(X_test)"
      ]
    },
    {
      "cell_type": "code",
      "execution_count": 39,
      "id": "kkUkutiRU8_w",
      "metadata": {
        "id": "kkUkutiRU8_w"
      },
      "outputs": [],
      "source": [
        "lr_ros_f1 = f1_score(y_test, lr_ros_predictions, average='binary')"
      ]
    },
    {
      "cell_type": "code",
      "execution_count": 40,
      "id": "6g3eUr8MVA2-",
      "metadata": {
        "colab": {
          "base_uri": "https://localhost:8080/"
        },
        "id": "6g3eUr8MVA2-",
        "outputId": "11b14656-e838-4d0c-fdaa-649a0ab7ddb3"
      },
      "outputs": [
        {
          "data": {
            "text/plain": [
              "0.68"
            ]
          },
          "execution_count": 40,
          "metadata": {},
          "output_type": "execute_result"
        }
      ],
      "source": [
        "lr_ros_f1"
      ]
    },
    {
      "cell_type": "code",
      "execution_count": 41,
      "id": "4IegyIVmVjYw",
      "metadata": {
        "colab": {
          "base_uri": "https://localhost:8080/",
          "height": 285
        },
        "id": "4IegyIVmVjYw",
        "outputId": "9a748289-7620-4b28-d470-8fdd861a6c15"
      },
      "outputs": [
        {
          "data": {
            "image/png": "[encoded data removed]",
            "text/plain": [
              "<Figure size 432x288 with 2 Axes>"
            ]
          },
          "metadata": {},
          "output_type": "display_data"
        }
      ],
      "source": [
        "plot_cm(y_test, lr_ros_predictions, lr_ros_model)"
      ]
    },
    {
      "cell_type": "markdown",
      "id": "ZrK4vNrYVsLg",
      "metadata": {
        "id": "ZrK4vNrYVsLg"
      },
      "source": [
        "## Logistic Regression с ресемплированным датасетом SMOTE"
      ]
    },
    {
      "cell_type": "code",
      "execution_count": 42,
      "id": "pQCQpCSJWKvD",
      "metadata": {
        "id": "pQCQpCSJWKvD"
      },
      "outputs": [],
      "source": [
        "X_smote, y_smote = SMOTE().fit_resample(X_train, y_train)"
      ]
    },
    {
      "cell_type": "code",
      "execution_count": 43,
      "id": "qf2xCZxxV1XO",
      "metadata": {
        "id": "qf2xCZxxV1XO"
      },
      "outputs": [],
      "source": [
        "lr_smote_model = LogisticRegression(n_jobs=-1, class_weight='balanced', random_state=RANDOM)\n",
        "\n",
        "lr_smote_model.fit(X_smote, y_smote)\n",
        "\n",
        "lr_smote_predictions = lr_smote_model.predict(X_test)"
      ]
    },
    {
      "cell_type": "code",
      "execution_count": 44,
      "id": "3q_K5ADIV0iX",
      "metadata": {
        "id": "3q_K5ADIV0iX"
      },
      "outputs": [],
      "source": [
        "lr_smote_f1 = f1_score(y_test, lr_smote_predictions, average='binary')"
      ]
    },
    {
      "cell_type": "code",
      "execution_count": 45,
      "id": "V0ufAcwvWeaa",
      "metadata": {
        "colab": {
          "base_uri": "https://localhost:8080/"
        },
        "id": "V0ufAcwvWeaa",
        "outputId": "e0d337a0-bab3-424f-bfaa-8e1cd6fdde94"
      },
      "outputs": [
        {
          "data": {
            "text/plain": [
              "0.6521739130434783"
            ]
          },
          "execution_count": 45,
          "metadata": {},
          "output_type": "execute_result"
        }
      ],
      "source": [
        "lr_smote_f1"
      ]
    },
    {
      "cell_type": "markdown",
      "id": "n5I1UOELWxsc",
      "metadata": {
        "id": "n5I1UOELWxsc"
      },
      "source": [
        "## Logistic Regression с ресемплированным датасетом ADASYN"
      ]
    },
    {
      "cell_type": "code",
      "execution_count": 46,
      "id": "nm8ULkgzW4T3",
      "metadata": {
        "id": "nm8ULkgzW4T3"
      },
      "outputs": [],
      "source": [
        "X_ada, y_ada = ADASYN().fit_resample(X_train, y_train)"
      ]
    },
    {
      "cell_type": "code",
      "execution_count": 47,
      "id": "mL4L--cLW9mh",
      "metadata": {
        "id": "mL4L--cLW9mh"
      },
      "outputs": [],
      "source": [
        "lr_ada_model = LogisticRegression(n_jobs=-1, class_weight='balanced', random_state=RANDOM)\n",
        "\n",
        "lr_ada_model.fit(X_ada, y_ada)\n",
        "\n",
        "lr_ada_predictions = lr_ada_model.predict(X_test)"
      ]
    },
    {
      "cell_type": "code",
      "execution_count": 48,
      "id": "pYWAEJdLXCbd",
      "metadata": {
        "id": "pYWAEJdLXCbd"
      },
      "outputs": [],
      "source": [
        "lr_ada_f1 = f1_score(y_test, lr_ada_predictions, average='binary')"
      ]
    },
    {
      "cell_type": "code",
      "execution_count": 49,
      "id": "7ocq9UxwXFlj",
      "metadata": {
        "colab": {
          "base_uri": "https://localhost:8080/"
        },
        "id": "7ocq9UxwXFlj",
        "outputId": "63b91886-12e7-4ddd-f2eb-89058d093be3"
      },
      "outputs": [
        {
          "data": {
            "text/plain": [
              "0.68"
            ]
          },
          "execution_count": 49,
          "metadata": {},
          "output_type": "execute_result"
        }
      ],
      "source": [
        "lr_ada_f1"
      ]
    },
    {
      "cell_type": "markdown",
      "id": "K9QsTiNpYS75",
      "metadata": {
        "id": "K9QsTiNpYS75"
      },
      "source": [
        "SMOTE показал лучший результат. Попробую разные вариации, которые есть."
      ]
    },
    {
      "cell_type": "code",
      "execution_count": 50,
      "id": "B-0o0UObYSXy",
      "metadata": {
        "id": "B-0o0UObYSXy"
      },
      "outputs": [],
      "source": [
        "from imblearn.over_sampling import BorderlineSMOTE, SMOTEN"
      ]
    },
    {
      "cell_type": "code",
      "execution_count": 51,
      "id": "FhWrgLlHY1ek",
      "metadata": {
        "id": "FhWrgLlHY1ek"
      },
      "outputs": [],
      "source": [
        "X_bls, y_bls = BorderlineSMOTE().fit_resample(X_train, y_train)"
      ]
    },
    {
      "cell_type": "code",
      "execution_count": 52,
      "id": "vM62_N15ZAkK",
      "metadata": {
        "colab": {
          "base_uri": "https://localhost:8080/"
        },
        "id": "vM62_N15ZAkK",
        "outputId": "753fdbc3-6a6b-409c-fae2-cbe22c154f4f"
      },
      "outputs": [
        {
          "data": {
            "text/plain": [
              "0.6666666666666666"
            ]
          },
          "execution_count": 52,
          "metadata": {},
          "output_type": "execute_result"
        }
      ],
      "source": [
        "lr_bls_model = LogisticRegression(n_jobs=-1, class_weight='balanced', random_state=RANDOM)\n",
        "\n",
        "lr_bls_model.fit(X_bls, y_bls)\n",
        "\n",
        "lr_bls_predictions = lr_bls_model.predict(X_test)\n",
        "\n",
        "lr_bls_f1 = f1_score(y_test, lr_bls_predictions, average='binary')\n",
        "\n",
        "lr_bls_f1"
      ]
    },
    {
      "cell_type": "code",
      "execution_count": 53,
      "id": "k7V2UDYtZKMA",
      "metadata": {
        "id": "k7V2UDYtZKMA"
      },
      "outputs": [],
      "source": [
        "X_smt, y_smt = SMOTEN(random_state=RANDOM).fit_resample(X_train, y_train)"
      ]
    },
    {
      "cell_type": "code",
      "execution_count": 54,
      "id": "6wRu5rpdZZTb",
      "metadata": {
        "colab": {
          "base_uri": "https://localhost:8080/"
        },
        "id": "6wRu5rpdZZTb",
        "outputId": "f945220a-5eef-45df-9f84-58379bc9dbe1"
      },
      "outputs": [
        {
          "data": {
            "text/plain": [
              "0.6511627906976744"
            ]
          },
          "execution_count": 54,
          "metadata": {},
          "output_type": "execute_result"
        }
      ],
      "source": [
        "lr_smt_model = LogisticRegression(n_jobs=-1, class_weight='balanced', random_state=RANDOM)\n",
        "\n",
        "lr_smt_model.fit(X_smt, y_smt)\n",
        "\n",
        "lr_smt_predictions = lr_smt_model.predict(X_test)\n",
        "\n",
        "lr_smt_f1 = f1_score(y_test, lr_smt_predictions, average='binary')\n",
        "\n",
        "lr_smt_f1"
      ]
    },
    {
      "cell_type": "code",
      "execution_count": null,
      "id": "5K7VOYpG9GIs",
      "metadata": {
        "id": "5K7VOYpG9GIs",
        "trusted": false
      },
      "outputs": [],
      "source": [
        "!pip install optuna"
      ]
    },
    {
      "cell_type": "code",
      "execution_count": 56,
      "id": "-gaPXIb98y-_",
      "metadata": {
        "id": "-gaPXIb98y-_",
        "trusted": false
      },
      "outputs": [],
      "source": [
        "import optuna\n",
        "\n",
        "param_distrs = {\n",
        "                'C':optuna.distributions.LogUniformDistribution(0.1, 20),\n",
        "                'max_iter':optuna.distributions.IntUniformDistribution(800, 1200, 100)\n",
        "                }\n",
        "\n",
        "opt_search = optuna.integration.OptunaSearchCV(lr_smote_model, param_distrs, cv = 4,\n",
        "                                                n_trials=5, scoring='f1', timeout=500)"
      ]
    },
    {
      "cell_type": "code",
      "execution_count": 57,
      "id": "7SAKbEa49xu_",
      "metadata": {
        "colab": {
          "base_uri": "https://localhost:8080/"
        },
        "id": "7SAKbEa49xu_",
        "outputId": "03c9ed39-de9d-4cea-d256-d393ec5648ab",
        "trusted": false
      },
      "outputs": [
        {
          "data": {
            "text/plain": [
              "dict_keys(['C', 'class_weight', 'dual', 'fit_intercept', 'intercept_scaling', 'l1_ratio', 'max_iter', 'multi_class', 'n_jobs', 'penalty', 'random_state', 'solver', 'tol', 'verbose', 'warm_start'])"
            ]
          },
          "execution_count": 57,
          "metadata": {},
          "output_type": "execute_result"
        }
      ],
      "source": [
        "LogisticRegression().get_params().keys()"
      ]
    },
    {
      "cell_type": "code",
      "execution_count": 57,
      "id": "nVC0lyN35u6O",
      "metadata": {
        "id": "nVC0lyN35u6O"
      },
      "outputs": [],
      "source": []
    },
    {
      "cell_type": "markdown",
      "id": "mPFHU0Rh5vdv",
      "metadata": {
        "id": "mPFHU0Rh5vdv"
      },
      "source": [
        "Тк upsampling SMOTE показал лучшие результаты - возьмем данные для длальнейштх экспериментов"
      ]
    },
    {
      "cell_type": "code",
      "execution_count": 58,
      "id": "foj9UtYy9pq9",
      "metadata": {
        "colab": {
          "base_uri": "https://localhost:8080/"
        },
        "id": "foj9UtYy9pq9",
        "outputId": "b6445a3b-33d7-4b46-8e68-2a85f1b19ca3",
        "trusted": false
      },
      "outputs": [
        {
          "name": "stderr",
          "output_type": "stream",
          "text": [
            "\u001b[32m[I 2022-11-23 21:47:15,895]\u001b[0m A new study created in memory with name: no-name-a14b80cb-fc6d-47f3-a948-1cc657867d99\u001b[0m\n",
            "\u001b[32m[I 2022-11-23 21:50:23,549]\u001b[0m Trial 0 finished with value: 0.9654392332885863 and parameters: {'C': 0.389631861883641, 'max_iter': 800}. Best is trial 0 with value: 0.9654392332885863.\u001b[0m\n",
            "\u001b[32m[I 2022-11-23 21:54:16,288]\u001b[0m Trial 1 finished with value: 0.9667608061087336 and parameters: {'C': 1.5625725198255107, 'max_iter': 1200}. Best is trial 1 with value: 0.9667608061087336.\u001b[0m\n",
            "\u001b[32m[I 2022-11-23 21:57:18,506]\u001b[0m Trial 2 finished with value: 0.9661159346482809 and parameters: {'C': 4.221775721069465, 'max_iter': 800}. Best is trial 1 with value: 0.9667608061087336.\u001b[0m\n"
          ]
        },
        {
          "data": {
            "text/plain": [
              "OptunaSearchCV(cv=4,\n",
              "               estimator=LogisticRegression(class_weight='balanced', n_jobs=-1,\n",
              "                                            random_state=12345),\n",
              "               n_trials=5,\n",
              "               param_distributions={'C': FloatDistribution(high=20.0, log=True, low=0.1, step=None),\n",
              "                                    'max_iter': IntDistribution(high=1200, log=False, low=800, step=100)},\n",
              "               scoring='f1', timeout=500)"
            ]
          },
          "execution_count": 58,
          "metadata": {},
          "output_type": "execute_result"
        }
      ],
      "source": [
        "opt_search.fit(X_smote, y_smote)"
      ]
    },
    {
      "cell_type": "code",
      "execution_count": 59,
      "id": "4ywXuokY9b_w",
      "metadata": {
        "colab": {
          "base_uri": "https://localhost:8080/"
        },
        "id": "4ywXuokY9b_w",
        "outputId": "9f619b23-3c5f-4772-e6bb-12a26b222c2e",
        "trusted": false
      },
      "outputs": [
        {
          "data": {
            "text/plain": [
              "{'C': 1.5625725198255107, 'max_iter': 1200}"
            ]
          },
          "execution_count": 59,
          "metadata": {},
          "output_type": "execute_result"
        }
      ],
      "source": [
        "opt_search.best_params_"
      ]
    },
    {
      "cell_type": "code",
      "execution_count": 60,
      "id": "r-WJGMiz-T5w",
      "metadata": {
        "colab": {
          "base_uri": "https://localhost:8080/"
        },
        "id": "r-WJGMiz-T5w",
        "outputId": "8389cb99-15e7-42bb-a10f-b6a86d0391a1",
        "trusted": false
      },
      "outputs": [
        {
          "data": {
            "text/plain": [
              "0.9667608061087336"
            ]
          },
          "execution_count": 60,
          "metadata": {},
          "output_type": "execute_result"
        }
      ],
      "source": [
        "opt_search.best_score_"
      ]
    },
    {
      "cell_type": "code",
      "execution_count": 61,
      "id": "Zo7OYCwwRhGY",
      "metadata": {
        "colab": {
          "base_uri": "https://localhost:8080/"
        },
        "id": "Zo7OYCwwRhGY",
        "outputId": "d65b4b11-3886-452d-a8d4-e2298ed8bd8e",
        "trusted": false
      },
      "outputs": [
        {
          "data": {
            "text/plain": [
              "LogisticRegression(C=1.5625725198255107, class_weight='balanced', max_iter=1200,\n",
              "                   n_jobs=-1, random_state=12345)"
            ]
          },
          "execution_count": 61,
          "metadata": {},
          "output_type": "execute_result"
        }
      ],
      "source": [
        "opt_search.best_estimator_"
      ]
    },
    {
      "cell_type": "code",
      "execution_count": 62,
      "id": "MPn3jT7QRYJs",
      "metadata": {
        "colab": {
          "base_uri": "https://localhost:8080/"
        },
        "id": "MPn3jT7QRYJs",
        "outputId": "e5044c8c-6f5f-4f31-9d64-04c0a6787047",
        "trusted": false
      },
      "outputs": [
        {
          "name": "stdout",
          "output_type": "stream",
          "text": [
            "0.6382978723404256\n"
          ]
        }
      ],
      "source": [
        "opt_lr = opt_search.best_estimator_\n",
        "\n",
        "opt_lr_predictions = opt_lr.predict(X_test)\n",
        "\n",
        "opt_lr_f1 = f1_score(y_test, opt_lr_predictions, average='binary')\n",
        "\n",
        "print(opt_lr_f1)"
      ]
    },
    {
      "cell_type": "markdown",
      "id": "PRBHvB49iQHP",
      "metadata": {
        "id": "PRBHvB49iQHP"
      },
      "source": [
        "Прошлый результат был 0.6. С Апсемплом стал: 0.62. Не лучший результат\n",
        "\n",
        "Ищем дальше\n"
      ]
    },
    {
      "cell_type": "markdown",
      "id": "c6b13438",
      "metadata": {
        "id": "c6b13438"
      },
      "source": [
        "## Random Forest"
      ]
    },
    {
      "cell_type": "code",
      "execution_count": 63,
      "id": "985df2ab",
      "metadata": {
        "id": "985df2ab",
        "trusted": false
      },
      "outputs": [],
      "source": [
        "rf_model = RandomForestClassifier(n_jobs=-1, random_state=RANDOM)\n",
        "\n",
        "rf_model.fit(X_smote, y_smote)\n",
        "\n",
        "rf_predictions = rf_model.predict(X_test)"
      ]
    },
    {
      "cell_type": "code",
      "execution_count": 64,
      "id": "5da794d6",
      "metadata": {
        "colab": {
          "base_uri": "https://localhost:8080/"
        },
        "id": "5da794d6",
        "outputId": "fcbc0bef-0047-4472-f9ca-cfd95f791641",
        "trusted": false
      },
      "outputs": [
        {
          "data": {
            "text/plain": [
              "0.6842105263157896"
            ]
          },
          "execution_count": 64,
          "metadata": {},
          "output_type": "execute_result"
        }
      ],
      "source": [
        "rf_f1 = f1_score(y_test, rf_predictions, average='binary')\n",
        "\n",
        "rf_f1"
      ]
    },
    {
      "cell_type": "code",
      "execution_count": 65,
      "id": "ed02a317",
      "metadata": {
        "colab": {
          "base_uri": "https://localhost:8080/",
          "height": 285
        },
        "id": "ed02a317",
        "outputId": "ad6679d4-c906-4d44-acc0-b42ff1fc6eb9",
        "trusted": false
      },
      "outputs": [
        {
          "data": {
            "image/png": "[encoded data removed]",
            "text/plain": [
              "<Figure size 432x288 with 2 Axes>"
            ]
          },
          "metadata": {},
          "output_type": "display_data"
        }
      ],
      "source": [
        "plot_cm(y_test, rf_predictions, rf_model)"
      ]
    },
    {
      "cell_type": "markdown",
      "id": "5338792d",
      "metadata": {
        "id": "5338792d"
      },
      "source": [
        "## Cat Boost"
      ]
    },
    {
      "cell_type": "code",
      "execution_count": 66,
      "id": "63e55118",
      "metadata": {
        "colab": {
          "base_uri": "https://localhost:8080/"
        },
        "id": "63e55118",
        "outputId": "099e0f12-109b-44aa-cb01-e4659f4c1a56",
        "trusted": false
      },
      "outputs": [
        {
          "name": "stderr",
          "output_type": "stream",
          "text": [
            "\u001b[32m[I 2022-11-23 21:59:03,045]\u001b[0m A new study created in memory with name: no-name-a7dbd906-a3ef-4fd0-8144-2c9cff93eca3\u001b[0m\n"
          ]
        },
        {
          "name": "stdout",
          "output_type": "stream",
          "text": [
            "0:\tlearn: 0.6581159\ttotal: 3.61s\tremaining: 2m 56s\n",
            "20:\tlearn: 0.2659828\ttotal: 59.4s\tremaining: 1m 22s\n",
            "40:\tlearn: 0.1688448\ttotal: 1m 53s\tremaining: 25s\n",
            "49:\tlearn: 0.1427594\ttotal: 2m 18s\tremaining: 0us\n",
            "0:\tlearn: 0.6544184\ttotal: 3.28s\tremaining: 2m 40s\n",
            "20:\tlearn: 0.2911299\ttotal: 57.5s\tremaining: 1m 19s\n",
            "40:\tlearn: 0.1839503\ttotal: 1m 50s\tremaining: 24.3s\n",
            "49:\tlearn: 0.1551693\ttotal: 2m 15s\tremaining: 0us\n",
            "0:\tlearn: 0.6522714\ttotal: 3.16s\tremaining: 2m 34s\n",
            "20:\tlearn: 0.2806180\ttotal: 57.6s\tremaining: 1m 19s\n",
            "40:\tlearn: 0.1791892\ttotal: 1m 51s\tremaining: 24.6s\n",
            "49:\tlearn: 0.1479271\ttotal: 2m 16s\tremaining: 0us\n",
            "0:\tlearn: 0.6573465\ttotal: 3.21s\tremaining: 2m 37s\n",
            "20:\tlearn: 0.2891569\ttotal: 56.2s\tremaining: 1m 17s\n",
            "40:\tlearn: 0.1867373\ttotal: 1m 50s\tremaining: 24.3s\n",
            "49:\tlearn: 0.1588648\ttotal: 2m 15s\tremaining: 0us\n"
          ]
        },
        {
          "name": "stderr",
          "output_type": "stream",
          "text": [
            "\u001b[32m[I 2022-11-23 22:09:01,544]\u001b[0m Trial 0 finished with value: 0.9534116603299445 and parameters: {'learning_rate': 0.04480132905109042, 'max_depth': 4, 'n_estimators': 50}. Best is trial 0 with value: 0.9534116603299445.\u001b[0m\n"
          ]
        },
        {
          "name": "stdout",
          "output_type": "stream",
          "text": [
            "0:\tlearn: 0.6528052\ttotal: 3.22s\tremaining: 2m 37s\n",
            "20:\tlearn: 0.2848206\ttotal: 57.8s\tremaining: 1m 19s\n",
            "40:\tlearn: 0.1809114\ttotal: 1m 52s\tremaining: 24.6s\n",
            "49:\tlearn: 0.1518748\ttotal: 2m 16s\tremaining: 0us\n",
            "Лучший результат: 0.9534116603299445\n",
            "Лучшие параметры: {'learning_rate': 0.04480132905109042, 'max_depth': 4, 'n_estimators': 50}\n"
          ]
        }
      ],
      "source": [
        "cb_model = CatBoostClassifier(random_state=RANDOM, verbose=20)\n",
        "\n",
        "param_distrs = {\n",
        "                'learning_rate':optuna.distributions.LogUniformDistribution(0.01, 0.1),\n",
        "                'max_depth':optuna.distributions.IntUniformDistribution(3, 5),\n",
        "                'n_estimators':optuna.distributions.IntUniformDistribution(10, 50, 20)\n",
        "                }\n",
        "\n",
        "opt_search_CB = optuna.integration.OptunaSearchCV(cb_model, param_distrs, cv = 4,\n",
        "                                                n_trials=3, scoring='f1', timeout=500)\n",
        "\n",
        "opt_search_CB.fit(X_smote, y_smote)\n",
        "\n",
        "print(f'Лучший результат: {opt_search_CB.best_score_}')\n",
        "print(f'Лучшие параметры: {opt_search_CB.best_params_}')"
      ]
    },
    {
      "cell_type": "code",
      "execution_count": 67,
      "id": "823fdd17",
      "metadata": {
        "colab": {
          "base_uri": "https://localhost:8080/"
        },
        "id": "823fdd17",
        "outputId": "0a113633-26d6-4c71-eef8-4b1503e84ae1",
        "trusted": false
      },
      "outputs": [
        {
          "name": "stdout",
          "output_type": "stream",
          "text": [
            "0:\tlearn: 0.6508868\ttotal: 3.17s\tremaining: 2m 35s\n",
            "1:\tlearn: 0.6145661\ttotal: 5.74s\tremaining: 2m 17s\n",
            "2:\tlearn: 0.5810912\ttotal: 8.35s\tremaining: 2m 10s\n",
            "3:\tlearn: 0.5510196\ttotal: 10.9s\tremaining: 2m 5s\n",
            "4:\tlearn: 0.5162676\ttotal: 13.5s\tremaining: 2m 1s\n",
            "5:\tlearn: 0.4901490\ttotal: 16.1s\tremaining: 1m 58s\n",
            "6:\tlearn: 0.4672853\ttotal: 18.8s\tremaining: 1m 55s\n",
            "7:\tlearn: 0.4418079\ttotal: 22.9s\tremaining: 2m\n",
            "8:\tlearn: 0.4237982\ttotal: 25.5s\tremaining: 1m 56s\n",
            "9:\tlearn: 0.4056264\ttotal: 28.1s\tremaining: 1m 52s\n",
            "10:\tlearn: 0.3912148\ttotal: 30.7s\tremaining: 1m 48s\n",
            "11:\tlearn: 0.3781523\ttotal: 33.3s\tremaining: 1m 45s\n",
            "12:\tlearn: 0.3631274\ttotal: 35.9s\tremaining: 1m 42s\n",
            "13:\tlearn: 0.3486755\ttotal: 38.5s\tremaining: 1m 38s\n",
            "14:\tlearn: 0.3351350\ttotal: 41s\tremaining: 1m 35s\n",
            "15:\tlearn: 0.3265057\ttotal: 43.6s\tremaining: 1m 32s\n",
            "16:\tlearn: 0.3165255\ttotal: 46.2s\tremaining: 1m 29s\n",
            "17:\tlearn: 0.3069174\ttotal: 48.8s\tremaining: 1m 26s\n",
            "18:\tlearn: 0.2979672\ttotal: 51.4s\tremaining: 1m 23s\n",
            "19:\tlearn: 0.2892517\ttotal: 53.9s\tremaining: 1m 20s\n",
            "20:\tlearn: 0.2810500\ttotal: 56.5s\tremaining: 1m 18s\n",
            "21:\tlearn: 0.2754713\ttotal: 59.2s\tremaining: 1m 15s\n",
            "22:\tlearn: 0.2650004\ttotal: 1m 2s\tremaining: 1m 13s\n",
            "23:\tlearn: 0.2563936\ttotal: 1m 5s\tremaining: 1m 11s\n",
            "24:\tlearn: 0.2510464\ttotal: 1m 8s\tremaining: 1m 8s\n",
            "25:\tlearn: 0.2444052\ttotal: 1m 11s\tremaining: 1m 5s\n",
            "26:\tlearn: 0.2375820\ttotal: 1m 13s\tremaining: 1m 2s\n",
            "27:\tlearn: 0.2307535\ttotal: 1m 16s\tremaining: 59.8s\n",
            "28:\tlearn: 0.2260807\ttotal: 1m 18s\tremaining: 57s\n",
            "29:\tlearn: 0.2196001\ttotal: 1m 21s\tremaining: 54.2s\n",
            "30:\tlearn: 0.2145303\ttotal: 1m 23s\tremaining: 51.4s\n",
            "31:\tlearn: 0.2084091\ttotal: 1m 26s\tremaining: 48.6s\n",
            "32:\tlearn: 0.2037741\ttotal: 1m 29s\tremaining: 45.9s\n",
            "33:\tlearn: 0.1991181\ttotal: 1m 31s\tremaining: 43.1s\n",
            "34:\tlearn: 0.1957176\ttotal: 1m 34s\tremaining: 40.4s\n",
            "35:\tlearn: 0.1923404\ttotal: 1m 36s\tremaining: 37.6s\n",
            "36:\tlearn: 0.1879696\ttotal: 1m 39s\tremaining: 34.9s\n",
            "37:\tlearn: 0.1836857\ttotal: 1m 41s\tremaining: 32.2s\n",
            "38:\tlearn: 0.1800962\ttotal: 1m 45s\tremaining: 29.8s\n",
            "39:\tlearn: 0.1767298\ttotal: 1m 48s\tremaining: 27.1s\n",
            "40:\tlearn: 0.1737536\ttotal: 1m 51s\tremaining: 24.4s\n",
            "41:\tlearn: 0.1709549\ttotal: 1m 53s\tremaining: 21.7s\n",
            "42:\tlearn: 0.1682972\ttotal: 1m 56s\tremaining: 18.9s\n",
            "43:\tlearn: 0.1646340\ttotal: 1m 58s\tremaining: 16.2s\n",
            "44:\tlearn: 0.1609563\ttotal: 2m 1s\tremaining: 13.5s\n",
            "45:\tlearn: 0.1586307\ttotal: 2m 4s\tremaining: 10.8s\n",
            "46:\tlearn: 0.1555718\ttotal: 2m 8s\tremaining: 8.18s\n",
            "47:\tlearn: 0.1524894\ttotal: 2m 10s\tremaining: 5.45s\n",
            "48:\tlearn: 0.1500309\ttotal: 2m 13s\tremaining: 2.72s\n",
            "49:\tlearn: 0.1473103\ttotal: 2m 15s\tremaining: 0us\n"
          ]
        }
      ],
      "source": [
        "cb_model = CatBoostClassifier(**opt_search_CB.best_params_)\n",
        "\n",
        "cb_model.fit(X_smote, y_smote, plot=False, verbose=None)\n",
        "\n",
        "cb_predictions = cb_model.predict(X_test)"
      ]
    },
    {
      "cell_type": "code",
      "execution_count": 68,
      "id": "3d1d604e",
      "metadata": {
        "colab": {
          "base_uri": "https://localhost:8080/"
        },
        "id": "3d1d604e",
        "outputId": "0fc63906-83f8-4f17-9f40-1a7c978e2472",
        "trusted": false
      },
      "outputs": [
        {
          "data": {
            "text/plain": [
              "0.6666666666666667"
            ]
          },
          "execution_count": 68,
          "metadata": {},
          "output_type": "execute_result"
        }
      ],
      "source": [
        "cb_f1 = f1_score(y_test, cb_predictions, average='binary')\n",
        "\n",
        "cb_f1"
      ]
    },
    {
      "cell_type": "code",
      "execution_count": 71,
      "id": "ry4udDuLkIIL",
      "metadata": {
        "id": "ry4udDuLkIIL"
      },
      "outputs": [],
      "source": [
        "from lightgbm import LGBMClassifier as lgb"
      ]
    },
    {
      "cell_type": "code",
      "execution_count": 72,
      "id": "hxRsUI1ZkG3j",
      "metadata": {
        "colab": {
          "base_uri": "https://localhost:8080/"
        },
        "id": "hxRsUI1ZkG3j",
        "outputId": "03bfa791-0920-434b-eb43-f48ea1e2692d"
      },
      "outputs": [
        {
          "name": "stdout",
          "output_type": "stream",
          "text": [
            "[100]\tvalid_0's auc: 0.938968\n",
            "[200]\tvalid_0's auc: 0.942543\n",
            "[300]\tvalid_0's auc: 0.945352\n",
            "[400]\tvalid_0's auc: 0.945097\n",
            "[500]\tvalid_0's auc: 0.945097\n",
            "[600]\tvalid_0's auc: 0.945097\n",
            "[700]\tvalid_0's auc: 0.945097\n",
            "[800]\tvalid_0's auc: 0.945097\n",
            "[900]\tvalid_0's auc: 0.945097\n",
            "[1000]\tvalid_0's auc: 0.945097\n",
            "[1100]\tvalid_0's auc: 0.945097\n",
            "[1200]\tvalid_0's auc: 0.945097\n",
            "[1300]\tvalid_0's auc: 0.945097\n",
            "[1400]\tvalid_0's auc: 0.945097\n",
            "[1500]\tvalid_0's auc: 0.945097\n",
            "[1600]\tvalid_0's auc: 0.945097\n",
            "[1700]\tvalid_0's auc: 0.945097\n",
            "[1800]\tvalid_0's auc: 0.945097\n",
            "[1900]\tvalid_0's auc: 0.945097\n",
            "[2000]\tvalid_0's auc: 0.945097\n"
          ]
        }
      ],
      "source": [
        "params = {\n",
        "    'learning_rate': 0.1,\n",
        "    \"num_leaves\": 50,  \n",
        "    \"max_depth\": 5,\n",
        "    \"max_bin\" : 100,\n",
        "    \"num_iterations\": 2000,\n",
        "    \"metric\" : 'auc'\n",
        "}\n",
        "lgb_model = lgb(**params, n_jobs=-1)\n",
        "lgb_model.fit(X_smote, y_smote, eval_set=(X_test, y_test), verbose=100)\n",
        "\n",
        "lgb_preds = lgb_model.predict(X_test)\n",
        "\n",
        "lgb_f1_res = f1_score(y_test, lgb_preds)"
      ]
    },
    {
      "cell_type": "code",
      "execution_count": 73,
      "id": "y-LvvvDIkogi",
      "metadata": {
        "colab": {
          "base_uri": "https://localhost:8080/"
        },
        "id": "y-LvvvDIkogi",
        "outputId": "741a85b9-0879-4526-ddd1-cf20f08d7996"
      },
      "outputs": [
        {
          "data": {
            "text/plain": [
              "0.6363636363636364"
            ]
          },
          "execution_count": 73,
          "metadata": {},
          "output_type": "execute_result"
        }
      ],
      "source": [
        "lgb_f1_res"
      ]
    },
    {
      "cell_type": "markdown",
      "id": "c2cf1924",
      "metadata": {
        "id": "c2cf1924"
      },
      "source": [
        "## Вывод"
      ]
    },
    {
      "cell_type": "code",
      "execution_count": 74,
      "id": "433b7918",
      "metadata": {
        "id": "433b7918",
        "trusted": false
      },
      "outputs": [],
      "source": [
        "best_model = {\n",
        "    'CatBoost' : round(cb_f1, 4),\n",
        "    'Random Forest' : round(rf_f1, 4),\n",
        "    'LogReg' : round(lr_f1, 4),\n",
        "    'LogReg_opt' : round(opt_lr_f1, 4),\n",
        "    'LGB' : round(lgb_f1_res, 4)\n",
        "}\n",
        "index = ['f1_score']\n",
        "\n",
        "best_model = pd.DataFrame(best_model, index=index)"
      ]
    },
    {
      "cell_type": "code",
      "execution_count": 75,
      "id": "804cd9a7",
      "metadata": {
        "colab": {
          "base_uri": "https://localhost:8080/",
          "height": 206
        },
        "id": "804cd9a7",
        "outputId": "31626261-4da9-481a-e460-8a019a04dfd2",
        "trusted": false
      },
      "outputs": [
        {
          "data": {
            "text/html": [
              "\n",
              "  <div id=\"df-bf6c578e-c759-4d37-8dd1-7035c8e0a2f2\">\n",
              "    <div class=\"colab-df-container\">\n",
              "      <div>\n",
              "<style scoped>\n",
              "    .dataframe tbody tr th:only-of-type {\n",
              "        vertical-align: middle;\n",
              "    }\n",
              "\n",
              "    .dataframe tbody tr th {\n",
              "        vertical-align: top;\n",
              "    }\n",
              "\n",
              "    .dataframe thead th {\n",
              "        text-align: right;\n",
              "    }\n",
              "</style>\n",
              "<table border=\"1\" class=\"dataframe\">\n",
              "  <thead>\n",
              "    <tr style=\"text-align: right;\">\n",
              "      <th></th>\n",
              "      <th>f1_score</th>\n",
              "    </tr>\n",
              "  </thead>\n",
              "  <tbody>\n",
              "    <tr>\n",
              "      <th>LogReg</th>\n",
              "      <td>0.6957</td>\n",
              "    </tr>\n",
              "    <tr>\n",
              "      <th>Random Forest</th>\n",
              "      <td>0.6842</td>\n",
              "    </tr>\n",
              "    <tr>\n",
              "      <th>CatBoost</th>\n",
              "      <td>0.6667</td>\n",
              "    </tr>\n",
              "    <tr>\n",
              "      <th>LogReg_opt</th>\n",
              "      <td>0.6383</td>\n",
              "    </tr>\n",
              "    <tr>\n",
              "      <th>LGB</th>\n",
              "      <td>0.6364</td>\n",
              "    </tr>\n",
              "  </tbody>\n",
              "</table>\n",
              "</div>\n",
              "      <button class=\"colab-df-convert\" onclick=\"convertToInteractive('df-bf6c578e-c759-4d37-8dd1-7035c8e0a2f2')\"\n",
              "              title=\"Convert this dataframe to an interactive table.\"\n",
              "              style=\"display:none;\">\n",
              "        \n",
              "  <svg xmlns=\"http://www.w3.org/2000/svg\" height=\"24px\"viewBox=\"0 0 24 24\"\n",
              "       width=\"24px\">\n",
              "    <path d=\"M0 0h24v24H0V0z\" fill=\"none\"/>\n",
              "    <path d=\"M18.56 5.44l.94 2.06.94-2.06 2.06-.94-2.06-.94-.94-2.06-.94 2.06-2.06.94zm-11 1L8.5 8.5l.94-2.06 2.06-.94-2.06-.94L8.5 2.5l-.94 2.06-2.06.94zm10 10l.94 2.06.94-2.06 2.06-.94-2.06-.94-.94-2.06-.94 2.06-2.06.94z\"/><path d=\"M17.41 7.96l-1.37-1.37c-.4-.4-.92-.59-1.43-.59-.52 0-1.04.2-1.43.59L10.3 9.45l-7.72 7.72c-.78.78-.78 2.05 0 2.83L4 21.41c.39.39.9.59 1.41.59.51 0 1.02-.2 1.41-.59l7.78-7.78 2.81-2.81c.8-.78.8-2.07 0-2.86zM5.41 20L4 18.59l7.72-7.72 1.47 1.35L5.41 20z\"/>\n",
              "  </svg>\n",
              "      </button>\n",
              "      \n",
              "  <style>\n",
              "    .colab-df-container {\n",
              "      display:flex;\n",
              "      flex-wrap:wrap;\n",
              "      gap: 12px;\n",
              "    }\n",
              "\n",
              "    .colab-df-convert {\n",
              "      background-color: #E8F0FE;\n",
              "      border: none;\n",
              "      border-radius: 50%;\n",
              "      cursor: pointer;\n",
              "      display: none;\n",
              "      fill: #1967D2;\n",
              "      height: 32px;\n",
              "      padding: 0 0 0 0;\n",
              "      width: 32px;\n",
              "    }\n",
              "\n",
              "    .colab-df-convert:hover {\n",
              "      background-color: #E2EBFA;\n",
              "      box-shadow: 0px 1px 2px rgba(60, 64, 67, 0.3), 0px 1px 3px 1px rgba(60, 64, 67, 0.15);\n",
              "      fill: #174EA6;\n",
              "    }\n",
              "\n",
              "    [theme=dark] .colab-df-convert {\n",
              "      background-color: #3B4455;\n",
              "      fill: #D2E3FC;\n",
              "    }\n",
              "\n",
              "    [theme=dark] .colab-df-convert:hover {\n",
              "      background-color: #434B5C;\n",
              "      box-shadow: 0px 1px 3px 1px rgba(0, 0, 0, 0.15);\n",
              "      filter: drop-shadow(0px 1px 2px rgba(0, 0, 0, 0.3));\n",
              "      fill: #FFFFFF;\n",
              "    }\n",
              "  </style>\n",
              "\n",
              "      <script>\n",
              "        const buttonEl =\n",
              "          document.querySelector('#df-bf6c578e-c759-4d37-8dd1-7035c8e0a2f2 button.colab-df-convert');\n",
              "        buttonEl.style.display =\n",
              "          google.colab.kernel.accessAllowed ? 'block' : 'none';\n",
              "\n",
              "        async function convertToInteractive(key) {\n",
              "          const element = document.querySelector('#df-bf6c578e-c759-4d37-8dd1-7035c8e0a2f2');\n",
              "          const dataTable =\n",
              "            await google.colab.kernel.invokeFunction('convertToInteractive',\n",
              "                                                     [key], {});\n",
              "          if (!dataTable) return;\n",
              "\n",
              "          const docLinkHtml = 'Like what you see? Visit the ' +\n",
              "            '<a target=\"_blank\" href=https://colab.research.google.com/notebooks/data_table.ipynb>data table notebook</a>'\n",
              "            + ' to learn more about interactive tables.';\n",
              "          element.innerHTML = '';\n",
              "          dataTable['output_type'] = 'display_data';\n",
              "          await google.colab.output.renderOutput(dataTable, element);\n",
              "          const docLink = document.createElement('div');\n",
              "          docLink.innerHTML = docLinkHtml;\n",
              "          element.appendChild(docLink);\n",
              "        }\n",
              "      </script>\n",
              "    </div>\n",
              "  </div>\n",
              "  "
            ],
            "text/plain": [
              "               f1_score\n",
              "LogReg           0.6957\n",
              "Random Forest    0.6842\n",
              "CatBoost         0.6667\n",
              "LogReg_opt       0.6383\n",
              "LGB              0.6364"
            ]
          },
          "execution_count": 75,
          "metadata": {},
          "output_type": "execute_result"
        }
      ],
      "source": [
        "best_model.T.sort_values('f1_score', ascending=False)"
      ]
    },
    {
      "cell_type": "markdown",
      "id": "6b81a780",
      "metadata": {
        "id": "6b81a780"
      },
      "source": [
        "# Вывод\n",
        "\n",
        "Данные обработаны и осмотрены\n",
        "\n",
        "Проведена токенизация и векторизация текста\n",
        "\n",
        "Порог по метрике модель не прошла.\n",
        "\n",
        "Для данной задачи BERT не совсем подходит в моем случае:\n",
        "- нет вычислительных мощностей, для работы с большим количеством текста\n",
        "- следовательно слишком мало данных для обучения\n",
        "\n",
        "Вариант с TF-IDF показал лучшие результаты на представленных данных."
      ]
    }
  ],
  "metadata": {
    "ExecuteTimeLog": [
      {
        "duration": 89908,
        "start_time": "2022-08-18T22:55:39.596Z"
      },
      {
        "duration": 8,
        "start_time": "2022-08-18T22:59:55.825Z"
      },
      {
        "duration": 3,
        "start_time": "2022-08-18T22:59:56.245Z"
      },
      {
        "duration": 2,
        "start_time": "2022-08-18T23:00:01.069Z"
      },
      {
        "duration": 423,
        "start_time": "2022-08-18T23:00:01.472Z"
      },
      {
        "duration": 4,
        "start_time": "2022-08-18T23:00:04.076Z"
      },
      {
        "duration": 4,
        "start_time": "2022-08-18T23:00:05.050Z"
      },
      {
        "duration": 2662,
        "start_time": "2022-08-18T23:00:58.198Z"
      },
      {
        "duration": 416,
        "start_time": "2022-08-18T23:01:03.350Z"
      },
      {
        "duration": 201,
        "start_time": "2022-08-18T23:07:40.468Z"
      },
      {
        "duration": 71,
        "start_time": "2022-08-18T23:13:53.643Z"
      },
      {
        "duration": 77167,
        "start_time": "2022-08-19T23:57:06.462Z"
      },
      {
        "duration": 9,
        "start_time": "2022-08-19T23:58:23.632Z"
      },
      {
        "duration": 8,
        "start_time": "2022-08-19T23:58:23.642Z"
      },
      {
        "duration": 5,
        "start_time": "2022-08-19T23:58:23.652Z"
      },
      {
        "duration": 500,
        "start_time": "2022-08-19T23:58:23.658Z"
      },
      {
        "duration": 4,
        "start_time": "2022-08-19T23:58:24.160Z"
      },
      {
        "duration": 5,
        "start_time": "2022-08-19T23:58:24.166Z"
      },
      {
        "duration": 2178,
        "start_time": "2022-08-19T23:58:24.173Z"
      },
      {
        "duration": 6,
        "start_time": "2022-08-19T23:58:26.353Z"
      },
      {
        "duration": 30,
        "start_time": "2022-08-19T23:58:26.362Z"
      },
      {
        "duration": 55,
        "start_time": "2022-08-19T23:58:26.393Z"
      },
      {
        "duration": 5,
        "start_time": "2022-08-19T23:58:26.450Z"
      },
      {
        "duration": 43,
        "start_time": "2022-08-19T23:58:26.457Z"
      },
      {
        "duration": 30,
        "start_time": "2022-08-19T23:58:26.502Z"
      },
      {
        "duration": 10,
        "start_time": "2022-08-19T23:58:26.533Z"
      },
      {
        "duration": 614,
        "start_time": "2022-08-19T23:58:26.545Z"
      },
      {
        "duration": 0,
        "start_time": "2022-08-19T23:58:27.160Z"
      },
      {
        "duration": 0,
        "start_time": "2022-08-19T23:58:27.162Z"
      },
      {
        "duration": 0,
        "start_time": "2022-08-19T23:58:27.163Z"
      },
      {
        "duration": 0,
        "start_time": "2022-08-19T23:58:27.164Z"
      },
      {
        "duration": 0,
        "start_time": "2022-08-19T23:58:27.165Z"
      },
      {
        "duration": 0,
        "start_time": "2022-08-19T23:58:27.166Z"
      },
      {
        "duration": 0,
        "start_time": "2022-08-19T23:58:27.167Z"
      },
      {
        "duration": 736,
        "start_time": "2022-08-20T00:04:38.122Z"
      },
      {
        "duration": 5,
        "start_time": "2022-08-20T00:04:41.742Z"
      },
      {
        "duration": 177,
        "start_time": "2022-08-20T00:04:47.304Z"
      },
      {
        "duration": 73,
        "start_time": "2022-08-20T00:04:49.875Z"
      },
      {
        "duration": 774,
        "start_time": "2022-08-20T00:04:51.401Z"
      },
      {
        "duration": 86,
        "start_time": "2022-08-20T00:04:53.222Z"
      },
      {
        "duration": 725,
        "start_time": "2022-08-20T00:04:59.475Z"
      },
      {
        "duration": 111,
        "start_time": "2022-08-20T00:05:01.773Z"
      },
      {
        "duration": 743,
        "start_time": "2022-08-20T00:05:05.562Z"
      },
      {
        "duration": 20,
        "start_time": "2022-08-20T00:09:06.821Z"
      },
      {
        "duration": 19,
        "start_time": "2022-08-20T00:09:06.936Z"
      },
      {
        "duration": 4670,
        "start_time": "2022-08-20T00:09:08.582Z"
      },
      {
        "duration": 0,
        "start_time": "2022-08-20T00:09:13.254Z"
      },
      {
        "duration": 0,
        "start_time": "2022-08-20T00:09:13.255Z"
      },
      {
        "duration": 4,
        "start_time": "2022-08-20T00:09:21.204Z"
      },
      {
        "duration": 2742,
        "start_time": "2022-08-20T00:09:23.191Z"
      },
      {
        "duration": 6,
        "start_time": "2022-08-20T00:09:25.935Z"
      },
      {
        "duration": 11,
        "start_time": "2022-08-20T00:09:25.943Z"
      },
      {
        "duration": 2175,
        "start_time": "2022-08-20T00:09:33.193Z"
      },
      {
        "duration": 2,
        "start_time": "2022-08-20T00:09:37.232Z"
      },
      {
        "duration": 69,
        "start_time": "2022-08-20T00:12:34.381Z"
      },
      {
        "duration": 77,
        "start_time": "2022-08-20T00:12:46.622Z"
      },
      {
        "duration": 74,
        "start_time": "2022-08-20T00:12:52.991Z"
      },
      {
        "duration": 1360,
        "start_time": "2022-08-20T00:13:04.352Z"
      },
      {
        "duration": 10,
        "start_time": "2022-08-20T00:13:11.415Z"
      },
      {
        "duration": 34,
        "start_time": "2022-08-20T00:13:11.784Z"
      },
      {
        "duration": 53,
        "start_time": "2022-08-20T00:13:11.915Z"
      },
      {
        "duration": 14,
        "start_time": "2022-08-20T00:13:12.171Z"
      },
      {
        "duration": 13,
        "start_time": "2022-08-20T00:13:12.488Z"
      },
      {
        "duration": 23,
        "start_time": "2022-08-20T00:13:12.821Z"
      },
      {
        "duration": 9,
        "start_time": "2022-08-20T00:13:12.942Z"
      },
      {
        "duration": 8,
        "start_time": "2022-08-20T00:13:13.363Z"
      },
      {
        "duration": 11,
        "start_time": "2022-08-20T00:13:14.491Z"
      },
      {
        "duration": 5,
        "start_time": "2022-08-20T00:13:14.812Z"
      },
      {
        "duration": 4,
        "start_time": "2022-08-20T00:13:15.111Z"
      },
      {
        "duration": 6,
        "start_time": "2022-08-20T00:13:16.032Z"
      },
      {
        "duration": 12,
        "start_time": "2022-08-20T00:13:16.159Z"
      },
      {
        "duration": 6,
        "start_time": "2022-08-20T00:13:16.361Z"
      },
      {
        "duration": 8867,
        "start_time": "2022-08-20T00:13:22.853Z"
      },
      {
        "duration": 8,
        "start_time": "2022-08-20T00:13:31.722Z"
      },
      {
        "duration": 5503,
        "start_time": "2022-08-20T00:13:31.731Z"
      }
    ],
    "accelerator": "GPU",
    "colab": {
      "provenance": []
    },
    "gpuClass": "standard",
    "kernelspec": {
      "display_name": "Python 3.9.12 ('practicum')",
      "language": "python",
      "name": "python3"
    },
    "language_info": {
      "codemirror_mode": {
        "name": "ipython",
        "version": 3
      },
      "file_extension": ".py",
      "mimetype": "text/x-python",
      "name": "python",
      "nbconvert_exporter": "python",
      "pygments_lexer": "ipython3",
      "version": "3.9.12"
    },
    "toc": {
      "base_numbering": 1,
      "nav_menu": {},
      "number_sections": true,
      "sideBar": true,
      "skip_h1_title": false,
      "title_cell": "Table of Contents",
      "title_sidebar": "Contents",
      "toc_cell": false,
      "toc_position": {
        "height": "calc(100% - 180px)",
        "left": "10px",
        "top": "150px",
        "width": "374px"
      },
      "toc_section_display": true,
      "toc_window_display": true
    },
    "vscode": {
      "interpreter": {
        "hash": "e9b40e9b7776d6804bbf4a6b40cf4d5db7ef3d8998b5f4289d5f917a9ea7efc4"
      }
    },
    "widgets": {
      "application/vnd.jupyter.widget-state+json": {
        "004ebc448b1f46919a80a7699574f617": {
          "model_module": "@jupyter-widgets/controls",
          "model_module_version": "1.5.0",
          "model_name": "HBoxModel",
          "state": {
            "_dom_classes": [],
            "_model_module": "@jupyter-widgets/controls",
            "_model_module_version": "1.5.0",
            "_model_name": "HBoxModel",
            "_view_count": null,
            "_view_module": "@jupyter-widgets/controls",
            "_view_module_version": "1.5.0",
            "_view_name": "HBoxView",
            "box_style": "",
            "children": [
              "IPY_MODEL_9a4365c6b125460c93d9e1619d0b0a63",
              "IPY_MODEL_7d03696aae9c4f01912a57882ef55e2a",
              "IPY_MODEL_899fc0a9b8b24e1e8b9e36226059cd25"
            ],
            "layout": "IPY_MODEL_82032e91a3d84e7a920def6b94775ba1"
          }
        },
        "042a0aac7fff4c3997cf6b6522315a00": {
          "model_module": "@jupyter-widgets/base",
          "model_module_version": "1.2.0",
          "model_name": "LayoutModel",
          "state": {
            "_model_module": "@jupyter-widgets/base",
            "_model_module_version": "1.2.0",
            "_model_name": "LayoutModel",
            "_view_count": null,
            "_view_module": "@jupyter-widgets/base",
            "_view_module_version": "1.2.0",
            "_view_name": "LayoutView",
            "align_content": null,
            "align_items": null,
            "align_self": null,
            "border": null,
            "bottom": null,
            "display": null,
            "flex": null,
            "flex_flow": null,
            "grid_area": null,
            "grid_auto_columns": null,
            "grid_auto_flow": null,
            "grid_auto_rows": null,
            "grid_column": null,
            "grid_gap": null,
            "grid_row": null,
            "grid_template_areas": null,
            "grid_template_columns": null,
            "grid_template_rows": null,
            "height": null,
            "justify_content": null,
            "justify_items": null,
            "left": null,
            "margin": null,
            "max_height": null,
            "max_width": null,
            "min_height": null,
            "min_width": null,
            "object_fit": null,
            "object_position": null,
            "order": null,
            "overflow": null,
            "overflow_x": null,
            "overflow_y": null,
            "padding": null,
            "right": null,
            "top": null,
            "visibility": null,
            "width": null
          }
        },
        "054df7f2f1a94e6b8d63e6bf38f408d4": {
          "model_module": "@jupyter-widgets/controls",
          "model_module_version": "1.5.0",
          "model_name": "ProgressStyleModel",
          "state": {
            "_model_module": "@jupyter-widgets/controls",
            "_model_module_version": "1.5.0",
            "_model_name": "ProgressStyleModel",
            "_view_count": null,
            "_view_module": "@jupyter-widgets/base",
            "_view_module_version": "1.2.0",
            "_view_name": "StyleView",
            "bar_color": null,
            "description_width": ""
          }
        },
        "06815105b1c84cc4bd20588e2dbcc2e4": {
          "model_module": "@jupyter-widgets/controls",
          "model_module_version": "1.5.0",
          "model_name": "HTMLModel",
          "state": {
            "_dom_classes": [],
            "_model_module": "@jupyter-widgets/controls",
            "_model_module_version": "1.5.0",
            "_model_name": "HTMLModel",
            "_view_count": null,
            "_view_module": "@jupyter-widgets/controls",
            "_view_module_version": "1.5.0",
            "_view_name": "HTMLView",
            "description": "",
            "description_tooltip": null,
            "layout": "IPY_MODEL_5150abf695924a70a03fb03b735c1312",
            "placeholder": "​",
            "style": "IPY_MODEL_a7aeb42d0d23490f884255b0852ce194",
            "value": " 483/483 [00:00&lt;00:00, 14.6kB/s]"
          }
        },
        "06bd1aba64f447618ea51966d996f2ae": {
          "model_module": "@jupyter-widgets/base",
          "model_module_version": "1.2.0",
          "model_name": "LayoutModel",
          "state": {
            "_model_module": "@jupyter-widgets/base",
            "_model_module_version": "1.2.0",
            "_model_name": "LayoutModel",
            "_view_count": null,
            "_view_module": "@jupyter-widgets/base",
            "_view_module_version": "1.2.0",
            "_view_name": "LayoutView",
            "align_content": null,
            "align_items": null,
            "align_self": null,
            "border": null,
            "bottom": null,
            "display": null,
            "flex": null,
            "flex_flow": null,
            "grid_area": null,
            "grid_auto_columns": null,
            "grid_auto_flow": null,
            "grid_auto_rows": null,
            "grid_column": null,
            "grid_gap": null,
            "grid_row": null,
            "grid_template_areas": null,
            "grid_template_columns": null,
            "grid_template_rows": null,
            "height": null,
            "justify_content": null,
            "justify_items": null,
            "left": null,
            "margin": null,
            "max_height": null,
            "max_width": null,
            "min_height": null,
            "min_width": null,
            "object_fit": null,
            "object_position": null,
            "order": null,
            "overflow": null,
            "overflow_x": null,
            "overflow_y": null,
            "padding": null,
            "right": null,
            "top": null,
            "visibility": null,
            "width": null
          }
        },
        "0703b291ff1d4f43a11cfb2a4add2442": {
          "model_module": "@jupyter-widgets/controls",
          "model_module_version": "1.5.0",
          "model_name": "HTMLModel",
          "state": {
            "_dom_classes": [],
            "_model_module": "@jupyter-widgets/controls",
            "_model_module_version": "1.5.0",
            "_model_name": "HTMLModel",
            "_view_count": null,
            "_view_module": "@jupyter-widgets/controls",
            "_view_module_version": "1.5.0",
            "_view_name": "HTMLView",
            "description": "",
            "description_tooltip": null,
            "layout": "IPY_MODEL_2bf825033ba741ff9ba136bd1767e6d5",
            "placeholder": "​",
            "style": "IPY_MODEL_6247b26fc133401da99719d6957e873a",
            "value": " 232k/232k [00:00&lt;00:00, 1.04MB/s]"
          }
        },
        "0b2f94c8a8e54dcdbeec01be4b0294dd": {
          "model_module": "@jupyter-widgets/base",
          "model_module_version": "1.2.0",
          "model_name": "LayoutModel",
          "state": {
            "_model_module": "@jupyter-widgets/base",
            "_model_module_version": "1.2.0",
            "_model_name": "LayoutModel",
            "_view_count": null,
            "_view_module": "@jupyter-widgets/base",
            "_view_module_version": "1.2.0",
            "_view_name": "LayoutView",
            "align_content": null,
            "align_items": null,
            "align_self": null,
            "border": null,
            "bottom": null,
            "display": null,
            "flex": null,
            "flex_flow": null,
            "grid_area": null,
            "grid_auto_columns": null,
            "grid_auto_flow": null,
            "grid_auto_rows": null,
            "grid_column": null,
            "grid_gap": null,
            "grid_row": null,
            "grid_template_areas": null,
            "grid_template_columns": null,
            "grid_template_rows": null,
            "height": null,
            "justify_content": null,
            "justify_items": null,
            "left": null,
            "margin": null,
            "max_height": null,
            "max_width": null,
            "min_height": null,
            "min_width": null,
            "object_fit": null,
            "object_position": null,
            "order": null,
            "overflow": null,
            "overflow_x": null,
            "overflow_y": null,
            "padding": null,
            "right": null,
            "top": null,
            "visibility": null,
            "width": null
          }
        },
        "0c85fba66ff141c7950cdb772a071e58": {
          "model_module": "@jupyter-widgets/controls",
          "model_module_version": "1.5.0",
          "model_name": "DescriptionStyleModel",
          "state": {
            "_model_module": "@jupyter-widgets/controls",
            "_model_module_version": "1.5.0",
            "_model_name": "DescriptionStyleModel",
            "_view_count": null,
            "_view_module": "@jupyter-widgets/base",
            "_view_module_version": "1.2.0",
            "_view_name": "StyleView",
            "description_width": ""
          }
        },
        "0fde17daf65646809e76cf668dcdaa5c": {
          "model_module": "@jupyter-widgets/base",
          "model_module_version": "1.2.0",
          "model_name": "LayoutModel",
          "state": {
            "_model_module": "@jupyter-widgets/base",
            "_model_module_version": "1.2.0",
            "_model_name": "LayoutModel",
            "_view_count": null,
            "_view_module": "@jupyter-widgets/base",
            "_view_module_version": "1.2.0",
            "_view_name": "LayoutView",
            "align_content": null,
            "align_items": null,
            "align_self": null,
            "border": null,
            "bottom": null,
            "display": null,
            "flex": null,
            "flex_flow": null,
            "grid_area": null,
            "grid_auto_columns": null,
            "grid_auto_flow": null,
            "grid_auto_rows": null,
            "grid_column": null,
            "grid_gap": null,
            "grid_row": null,
            "grid_template_areas": null,
            "grid_template_columns": null,
            "grid_template_rows": null,
            "height": null,
            "justify_content": null,
            "justify_items": null,
            "left": null,
            "margin": null,
            "max_height": null,
            "max_width": null,
            "min_height": null,
            "min_width": null,
            "object_fit": null,
            "object_position": null,
            "order": null,
            "overflow": null,
            "overflow_x": null,
            "overflow_y": null,
            "padding": null,
            "right": null,
            "top": null,
            "visibility": null,
            "width": null
          }
        },
        "12fa7da2c1fc42ba9db1725347a666ae": {
          "model_module": "@jupyter-widgets/base",
          "model_module_version": "1.2.0",
          "model_name": "LayoutModel",
          "state": {
            "_model_module": "@jupyter-widgets/base",
            "_model_module_version": "1.2.0",
            "_model_name": "LayoutModel",
            "_view_count": null,
            "_view_module": "@jupyter-widgets/base",
            "_view_module_version": "1.2.0",
            "_view_name": "LayoutView",
            "align_content": null,
            "align_items": null,
            "align_self": null,
            "border": null,
            "bottom": null,
            "display": null,
            "flex": null,
            "flex_flow": null,
            "grid_area": null,
            "grid_auto_columns": null,
            "grid_auto_flow": null,
            "grid_auto_rows": null,
            "grid_column": null,
            "grid_gap": null,
            "grid_row": null,
            "grid_template_areas": null,
            "grid_template_columns": null,
            "grid_template_rows": null,
            "height": null,
            "justify_content": null,
            "justify_items": null,
            "left": null,
            "margin": null,
            "max_height": null,
            "max_width": null,
            "min_height": null,
            "min_width": null,
            "object_fit": null,
            "object_position": null,
            "order": null,
            "overflow": null,
            "overflow_x": null,
            "overflow_y": null,
            "padding": null,
            "right": null,
            "top": null,
            "visibility": null,
            "width": null
          }
        },
        "15ecf9af666b43ad97de3fd4e4166bcf": {
          "model_module": "@jupyter-widgets/base",
          "model_module_version": "1.2.0",
          "model_name": "LayoutModel",
          "state": {
            "_model_module": "@jupyter-widgets/base",
            "_model_module_version": "1.2.0",
            "_model_name": "LayoutModel",
            "_view_count": null,
            "_view_module": "@jupyter-widgets/base",
            "_view_module_version": "1.2.0",
            "_view_name": "LayoutView",
            "align_content": null,
            "align_items": null,
            "align_self": null,
            "border": null,
            "bottom": null,
            "display": null,
            "flex": null,
            "flex_flow": null,
            "grid_area": null,
            "grid_auto_columns": null,
            "grid_auto_flow": null,
            "grid_auto_rows": null,
            "grid_column": null,
            "grid_gap": null,
            "grid_row": null,
            "grid_template_areas": null,
            "grid_template_columns": null,
            "grid_template_rows": null,
            "height": null,
            "justify_content": null,
            "justify_items": null,
            "left": null,
            "margin": null,
            "max_height": null,
            "max_width": null,
            "min_height": null,
            "min_width": null,
            "object_fit": null,
            "object_position": null,
            "order": null,
            "overflow": null,
            "overflow_x": null,
            "overflow_y": null,
            "padding": null,
            "right": null,
            "top": null,
            "visibility": null,
            "width": null
          }
        },
        "17c39392e0f44a3e99950012df4bf69a": {
          "model_module": "@jupyter-widgets/controls",
          "model_module_version": "1.5.0",
          "model_name": "HTMLModel",
          "state": {
            "_dom_classes": [],
            "_model_module": "@jupyter-widgets/controls",
            "_model_module_version": "1.5.0",
            "_model_name": "HTMLModel",
            "_view_count": null,
            "_view_module": "@jupyter-widgets/controls",
            "_view_module_version": "1.5.0",
            "_view_name": "HTMLView",
            "description": "",
            "description_tooltip": null,
            "layout": "IPY_MODEL_0b2f94c8a8e54dcdbeec01be4b0294dd",
            "placeholder": "​",
            "style": "IPY_MODEL_beb486c364b7461198e24062af71f429",
            "value": " 268M/268M [00:11&lt;00:00, 23.3MB/s]"
          }
        },
        "19e1e42636ca4c57b9115e24d773eb51": {
          "model_module": "@jupyter-widgets/base",
          "model_module_version": "1.2.0",
          "model_name": "LayoutModel",
          "state": {
            "_model_module": "@jupyter-widgets/base",
            "_model_module_version": "1.2.0",
            "_model_name": "LayoutModel",
            "_view_count": null,
            "_view_module": "@jupyter-widgets/base",
            "_view_module_version": "1.2.0",
            "_view_name": "LayoutView",
            "align_content": null,
            "align_items": null,
            "align_self": null,
            "border": null,
            "bottom": null,
            "display": null,
            "flex": null,
            "flex_flow": null,
            "grid_area": null,
            "grid_auto_columns": null,
            "grid_auto_flow": null,
            "grid_auto_rows": null,
            "grid_column": null,
            "grid_gap": null,
            "grid_row": null,
            "grid_template_areas": null,
            "grid_template_columns": null,
            "grid_template_rows": null,
            "height": null,
            "justify_content": null,
            "justify_items": null,
            "left": null,
            "margin": null,
            "max_height": null,
            "max_width": null,
            "min_height": null,
            "min_width": null,
            "object_fit": null,
            "object_position": null,
            "order": null,
            "overflow": null,
            "overflow_x": null,
            "overflow_y": null,
            "padding": null,
            "right": null,
            "top": null,
            "visibility": null,
            "width": null
          }
        },
        "1f2c2cbc5b3d42e2a7892eb24843e2ca": {
          "model_module": "@jupyter-widgets/controls",
          "model_module_version": "1.5.0",
          "model_name": "HBoxModel",
          "state": {
            "_dom_classes": [],
            "_model_module": "@jupyter-widgets/controls",
            "_model_module_version": "1.5.0",
            "_model_name": "HBoxModel",
            "_view_count": null,
            "_view_module": "@jupyter-widgets/controls",
            "_view_module_version": "1.5.0",
            "_view_name": "HBoxView",
            "box_style": "",
            "children": [
              "IPY_MODEL_2a4f1fdb3d1a48618028a0dd7d2d84b0",
              "IPY_MODEL_2113b07ca9dc49c18efb07cbeb2a4bb8",
              "IPY_MODEL_0703b291ff1d4f43a11cfb2a4add2442"
            ],
            "layout": "IPY_MODEL_0fde17daf65646809e76cf668dcdaa5c"
          }
        },
        "20cc3eeff09546698d484a8d0e3ba445": {
          "model_module": "@jupyter-widgets/controls",
          "model_module_version": "1.5.0",
          "model_name": "DescriptionStyleModel",
          "state": {
            "_model_module": "@jupyter-widgets/controls",
            "_model_module_version": "1.5.0",
            "_model_name": "DescriptionStyleModel",
            "_view_count": null,
            "_view_module": "@jupyter-widgets/base",
            "_view_module_version": "1.2.0",
            "_view_name": "StyleView",
            "description_width": ""
          }
        },
        "2113b07ca9dc49c18efb07cbeb2a4bb8": {
          "model_module": "@jupyter-widgets/controls",
          "model_module_version": "1.5.0",
          "model_name": "FloatProgressModel",
          "state": {
            "_dom_classes": [],
            "_model_module": "@jupyter-widgets/controls",
            "_model_module_version": "1.5.0",
            "_model_name": "FloatProgressModel",
            "_view_count": null,
            "_view_module": "@jupyter-widgets/controls",
            "_view_module_version": "1.5.0",
            "_view_name": "ProgressView",
            "bar_style": "success",
            "description": "",
            "description_tooltip": null,
            "layout": "IPY_MODEL_cb951cd58f014cda964e454a158a130a",
            "max": 231508,
            "min": 0,
            "orientation": "horizontal",
            "style": "IPY_MODEL_b62e953ba5484d0a84857ad5f54ae488",
            "value": 231508
          }
        },
        "2a4f1fdb3d1a48618028a0dd7d2d84b0": {
          "model_module": "@jupyter-widgets/controls",
          "model_module_version": "1.5.0",
          "model_name": "HTMLModel",
          "state": {
            "_dom_classes": [],
            "_model_module": "@jupyter-widgets/controls",
            "_model_module_version": "1.5.0",
            "_model_name": "HTMLModel",
            "_view_count": null,
            "_view_module": "@jupyter-widgets/controls",
            "_view_module_version": "1.5.0",
            "_view_name": "HTMLView",
            "description": "",
            "description_tooltip": null,
            "layout": "IPY_MODEL_db81c03fe06f4f86afaf67693ad4b540",
            "placeholder": "​",
            "style": "IPY_MODEL_9b69104686b54af7913cbe37691a8748",
            "value": "Downloading: 100%"
          }
        },
        "2bf825033ba741ff9ba136bd1767e6d5": {
          "model_module": "@jupyter-widgets/base",
          "model_module_version": "1.2.0",
          "model_name": "LayoutModel",
          "state": {
            "_model_module": "@jupyter-widgets/base",
            "_model_module_version": "1.2.0",
            "_model_name": "LayoutModel",
            "_view_count": null,
            "_view_module": "@jupyter-widgets/base",
            "_view_module_version": "1.2.0",
            "_view_name": "LayoutView",
            "align_content": null,
            "align_items": null,
            "align_self": null,
            "border": null,
            "bottom": null,
            "display": null,
            "flex": null,
            "flex_flow": null,
            "grid_area": null,
            "grid_auto_columns": null,
            "grid_auto_flow": null,
            "grid_auto_rows": null,
            "grid_column": null,
            "grid_gap": null,
            "grid_row": null,
            "grid_template_areas": null,
            "grid_template_columns": null,
            "grid_template_rows": null,
            "height": null,
            "justify_content": null,
            "justify_items": null,
            "left": null,
            "margin": null,
            "max_height": null,
            "max_width": null,
            "min_height": null,
            "min_width": null,
            "object_fit": null,
            "object_position": null,
            "order": null,
            "overflow": null,
            "overflow_x": null,
            "overflow_y": null,
            "padding": null,
            "right": null,
            "top": null,
            "visibility": null,
            "width": null
          }
        },
        "2ceb8f3c630a4a6eb0f25ba25eedae3f": {
          "model_module": "@jupyter-widgets/controls",
          "model_module_version": "1.5.0",
          "model_name": "DescriptionStyleModel",
          "state": {
            "_model_module": "@jupyter-widgets/controls",
            "_model_module_version": "1.5.0",
            "_model_name": "DescriptionStyleModel",
            "_view_count": null,
            "_view_module": "@jupyter-widgets/base",
            "_view_module_version": "1.2.0",
            "_view_name": "StyleView",
            "description_width": ""
          }
        },
        "307f101fb0ad406a864f2f39ace21acb": {
          "model_module": "@jupyter-widgets/controls",
          "model_module_version": "1.5.0",
          "model_name": "HTMLModel",
          "state": {
            "_dom_classes": [],
            "_model_module": "@jupyter-widgets/controls",
            "_model_module_version": "1.5.0",
            "_model_name": "HTMLModel",
            "_view_count": null,
            "_view_module": "@jupyter-widgets/controls",
            "_view_module_version": "1.5.0",
            "_view_name": "HTMLView",
            "description": "",
            "description_tooltip": null,
            "layout": "IPY_MODEL_19e1e42636ca4c57b9115e24d773eb51",
            "placeholder": "​",
            "style": "IPY_MODEL_20cc3eeff09546698d484a8d0e3ba445",
            "value": " 466k/466k [00:00&lt;00:00, 1.54MB/s]"
          }
        },
        "32e769d706014f2690a30e49541baf55": {
          "model_module": "@jupyter-widgets/controls",
          "model_module_version": "1.5.0",
          "model_name": "HBoxModel",
          "state": {
            "_dom_classes": [],
            "_model_module": "@jupyter-widgets/controls",
            "_model_module_version": "1.5.0",
            "_model_name": "HBoxModel",
            "_view_count": null,
            "_view_module": "@jupyter-widgets/controls",
            "_view_module_version": "1.5.0",
            "_view_name": "HBoxView",
            "box_style": "",
            "children": [
              "IPY_MODEL_34450d703fd94313adc003233d50ff73",
              "IPY_MODEL_4f6454118621493092cb1352f2203ffa",
              "IPY_MODEL_68bcae0407b64249bfebb5b1856eb6bc"
            ],
            "layout": "IPY_MODEL_8b02d34b6f774b859233d123f993733c"
          }
        },
        "34450d703fd94313adc003233d50ff73": {
          "model_module": "@jupyter-widgets/controls",
          "model_module_version": "1.5.0",
          "model_name": "HTMLModel",
          "state": {
            "_dom_classes": [],
            "_model_module": "@jupyter-widgets/controls",
            "_model_module_version": "1.5.0",
            "_model_name": "HTMLModel",
            "_view_count": null,
            "_view_module": "@jupyter-widgets/controls",
            "_view_module_version": "1.5.0",
            "_view_name": "HTMLView",
            "description": "",
            "description_tooltip": null,
            "layout": "IPY_MODEL_3ac97023d4fd47daac1ba3b0521b0f47",
            "placeholder": "​",
            "style": "IPY_MODEL_d6833f0b1ee6498391c5a09161e3e31f",
            "value": "Downloading: 100%"
          }
        },
        "364604cf313a4ff2b5846bde49677371": {
          "model_module": "@jupyter-widgets/controls",
          "model_module_version": "1.5.0",
          "model_name": "ProgressStyleModel",
          "state": {
            "_model_module": "@jupyter-widgets/controls",
            "_model_module_version": "1.5.0",
            "_model_name": "ProgressStyleModel",
            "_view_count": null,
            "_view_module": "@jupyter-widgets/base",
            "_view_module_version": "1.2.0",
            "_view_name": "StyleView",
            "bar_color": null,
            "description_width": ""
          }
        },
        "392a67cce6014da6b9764e1981701cdb": {
          "model_module": "@jupyter-widgets/controls",
          "model_module_version": "1.5.0",
          "model_name": "HBoxModel",
          "state": {
            "_dom_classes": [],
            "_model_module": "@jupyter-widgets/controls",
            "_model_module_version": "1.5.0",
            "_model_name": "HBoxModel",
            "_view_count": null,
            "_view_module": "@jupyter-widgets/controls",
            "_view_module_version": "1.5.0",
            "_view_name": "HBoxView",
            "box_style": "",
            "children": [
              "IPY_MODEL_54819df090c3484d88539d4873b1457f",
              "IPY_MODEL_82f3e52c736f4829a68e8c7d5c421c3e",
              "IPY_MODEL_17c39392e0f44a3e99950012df4bf69a"
            ],
            "layout": "IPY_MODEL_b659835b2d65441ea66e0aab347da49c"
          }
        },
        "3ac97023d4fd47daac1ba3b0521b0f47": {
          "model_module": "@jupyter-widgets/base",
          "model_module_version": "1.2.0",
          "model_name": "LayoutModel",
          "state": {
            "_model_module": "@jupyter-widgets/base",
            "_model_module_version": "1.2.0",
            "_model_name": "LayoutModel",
            "_view_count": null,
            "_view_module": "@jupyter-widgets/base",
            "_view_module_version": "1.2.0",
            "_view_name": "LayoutView",
            "align_content": null,
            "align_items": null,
            "align_self": null,
            "border": null,
            "bottom": null,
            "display": null,
            "flex": null,
            "flex_flow": null,
            "grid_area": null,
            "grid_auto_columns": null,
            "grid_auto_flow": null,
            "grid_auto_rows": null,
            "grid_column": null,
            "grid_gap": null,
            "grid_row": null,
            "grid_template_areas": null,
            "grid_template_columns": null,
            "grid_template_rows": null,
            "height": null,
            "justify_content": null,
            "justify_items": null,
            "left": null,
            "margin": null,
            "max_height": null,
            "max_width": null,
            "min_height": null,
            "min_width": null,
            "object_fit": null,
            "object_position": null,
            "order": null,
            "overflow": null,
            "overflow_x": null,
            "overflow_y": null,
            "padding": null,
            "right": null,
            "top": null,
            "visibility": null,
            "width": null
          }
        },
        "3d64443871f34a81adbafddd2c6e119c": {
          "model_module": "@jupyter-widgets/controls",
          "model_module_version": "1.5.0",
          "model_name": "FloatProgressModel",
          "state": {
            "_dom_classes": [],
            "_model_module": "@jupyter-widgets/controls",
            "_model_module_version": "1.5.0",
            "_model_name": "FloatProgressModel",
            "_view_count": null,
            "_view_module": "@jupyter-widgets/controls",
            "_view_module_version": "1.5.0",
            "_view_name": "ProgressView",
            "bar_style": "success",
            "description": "",
            "description_tooltip": null,
            "layout": "IPY_MODEL_15ecf9af666b43ad97de3fd4e4166bcf",
            "max": 483,
            "min": 0,
            "orientation": "horizontal",
            "style": "IPY_MODEL_e46a6473d00d4c9994498546aacf21cf",
            "value": 483
          }
        },
        "4ad82591e648465fab2815f1ada5a71e": {
          "model_module": "@jupyter-widgets/controls",
          "model_module_version": "1.5.0",
          "model_name": "DescriptionStyleModel",
          "state": {
            "_model_module": "@jupyter-widgets/controls",
            "_model_module_version": "1.5.0",
            "_model_name": "DescriptionStyleModel",
            "_view_count": null,
            "_view_module": "@jupyter-widgets/base",
            "_view_module_version": "1.2.0",
            "_view_name": "StyleView",
            "description_width": ""
          }
        },
        "4f6454118621493092cb1352f2203ffa": {
          "model_module": "@jupyter-widgets/controls",
          "model_module_version": "1.5.0",
          "model_name": "FloatProgressModel",
          "state": {
            "_dom_classes": [],
            "_model_module": "@jupyter-widgets/controls",
            "_model_module_version": "1.5.0",
            "_model_name": "FloatProgressModel",
            "_view_count": null,
            "_view_module": "@jupyter-widgets/controls",
            "_view_module_version": "1.5.0",
            "_view_name": "ProgressView",
            "bar_style": "success",
            "description": "",
            "description_tooltip": null,
            "layout": "IPY_MODEL_042a0aac7fff4c3997cf6b6522315a00",
            "max": 28,
            "min": 0,
            "orientation": "horizontal",
            "style": "IPY_MODEL_364604cf313a4ff2b5846bde49677371",
            "value": 28
          }
        },
        "5150abf695924a70a03fb03b735c1312": {
          "model_module": "@jupyter-widgets/base",
          "model_module_version": "1.2.0",
          "model_name": "LayoutModel",
          "state": {
            "_model_module": "@jupyter-widgets/base",
            "_model_module_version": "1.2.0",
            "_model_name": "LayoutModel",
            "_view_count": null,
            "_view_module": "@jupyter-widgets/base",
            "_view_module_version": "1.2.0",
            "_view_name": "LayoutView",
            "align_content": null,
            "align_items": null,
            "align_self": null,
            "border": null,
            "bottom": null,
            "display": null,
            "flex": null,
            "flex_flow": null,
            "grid_area": null,
            "grid_auto_columns": null,
            "grid_auto_flow": null,
            "grid_auto_rows": null,
            "grid_column": null,
            "grid_gap": null,
            "grid_row": null,
            "grid_template_areas": null,
            "grid_template_columns": null,
            "grid_template_rows": null,
            "height": null,
            "justify_content": null,
            "justify_items": null,
            "left": null,
            "margin": null,
            "max_height": null,
            "max_width": null,
            "min_height": null,
            "min_width": null,
            "object_fit": null,
            "object_position": null,
            "order": null,
            "overflow": null,
            "overflow_x": null,
            "overflow_y": null,
            "padding": null,
            "right": null,
            "top": null,
            "visibility": null,
            "width": null
          }
        },
        "51e8e2b4c36a4063a5923a94d8f7e506": {
          "model_module": "@jupyter-widgets/controls",
          "model_module_version": "1.5.0",
          "model_name": "DescriptionStyleModel",
          "state": {
            "_model_module": "@jupyter-widgets/controls",
            "_model_module_version": "1.5.0",
            "_model_name": "DescriptionStyleModel",
            "_view_count": null,
            "_view_module": "@jupyter-widgets/base",
            "_view_module_version": "1.2.0",
            "_view_name": "StyleView",
            "description_width": ""
          }
        },
        "54819df090c3484d88539d4873b1457f": {
          "model_module": "@jupyter-widgets/controls",
          "model_module_version": "1.5.0",
          "model_name": "HTMLModel",
          "state": {
            "_dom_classes": [],
            "_model_module": "@jupyter-widgets/controls",
            "_model_module_version": "1.5.0",
            "_model_name": "HTMLModel",
            "_view_count": null,
            "_view_module": "@jupyter-widgets/controls",
            "_view_module_version": "1.5.0",
            "_view_name": "HTMLView",
            "description": "",
            "description_tooltip": null,
            "layout": "IPY_MODEL_b9e79b45089441e291ec243f70b737c4",
            "placeholder": "​",
            "style": "IPY_MODEL_51e8e2b4c36a4063a5923a94d8f7e506",
            "value": "Downloading: 100%"
          }
        },
        "5790fae3946a49e380629710e08aea8d": {
          "model_module": "@jupyter-widgets/controls",
          "model_module_version": "1.5.0",
          "model_name": "DescriptionStyleModel",
          "state": {
            "_model_module": "@jupyter-widgets/controls",
            "_model_module_version": "1.5.0",
            "_model_name": "DescriptionStyleModel",
            "_view_count": null,
            "_view_module": "@jupyter-widgets/base",
            "_view_module_version": "1.2.0",
            "_view_name": "StyleView",
            "description_width": ""
          }
        },
        "5ab642728a3141099129e8b6e81081a2": {
          "model_module": "@jupyter-widgets/controls",
          "model_module_version": "1.5.0",
          "model_name": "ProgressStyleModel",
          "state": {
            "_model_module": "@jupyter-widgets/controls",
            "_model_module_version": "1.5.0",
            "_model_name": "ProgressStyleModel",
            "_view_count": null,
            "_view_module": "@jupyter-widgets/base",
            "_view_module_version": "1.2.0",
            "_view_name": "StyleView",
            "bar_color": null,
            "description_width": ""
          }
        },
        "6247b26fc133401da99719d6957e873a": {
          "model_module": "@jupyter-widgets/controls",
          "model_module_version": "1.5.0",
          "model_name": "DescriptionStyleModel",
          "state": {
            "_model_module": "@jupyter-widgets/controls",
            "_model_module_version": "1.5.0",
            "_model_name": "DescriptionStyleModel",
            "_view_count": null,
            "_view_module": "@jupyter-widgets/base",
            "_view_module_version": "1.2.0",
            "_view_name": "StyleView",
            "description_width": ""
          }
        },
        "66e3e1b0b96c4ff8bb8a0111e699dfba": {
          "model_module": "@jupyter-widgets/base",
          "model_module_version": "1.2.0",
          "model_name": "LayoutModel",
          "state": {
            "_model_module": "@jupyter-widgets/base",
            "_model_module_version": "1.2.0",
            "_model_name": "LayoutModel",
            "_view_count": null,
            "_view_module": "@jupyter-widgets/base",
            "_view_module_version": "1.2.0",
            "_view_name": "LayoutView",
            "align_content": null,
            "align_items": null,
            "align_self": null,
            "border": null,
            "bottom": null,
            "display": null,
            "flex": null,
            "flex_flow": null,
            "grid_area": null,
            "grid_auto_columns": null,
            "grid_auto_flow": null,
            "grid_auto_rows": null,
            "grid_column": null,
            "grid_gap": null,
            "grid_row": null,
            "grid_template_areas": null,
            "grid_template_columns": null,
            "grid_template_rows": null,
            "height": null,
            "justify_content": null,
            "justify_items": null,
            "left": null,
            "margin": null,
            "max_height": null,
            "max_width": null,
            "min_height": null,
            "min_width": null,
            "object_fit": null,
            "object_position": null,
            "order": null,
            "overflow": null,
            "overflow_x": null,
            "overflow_y": null,
            "padding": null,
            "right": null,
            "top": null,
            "visibility": null,
            "width": null
          }
        },
        "68bcae0407b64249bfebb5b1856eb6bc": {
          "model_module": "@jupyter-widgets/controls",
          "model_module_version": "1.5.0",
          "model_name": "HTMLModel",
          "state": {
            "_dom_classes": [],
            "_model_module": "@jupyter-widgets/controls",
            "_model_module_version": "1.5.0",
            "_model_name": "HTMLModel",
            "_view_count": null,
            "_view_module": "@jupyter-widgets/controls",
            "_view_module_version": "1.5.0",
            "_view_name": "HTMLView",
            "description": "",
            "description_tooltip": null,
            "layout": "IPY_MODEL_7be6fb704b56442392ef7d69d0d855e0",
            "placeholder": "​",
            "style": "IPY_MODEL_0c85fba66ff141c7950cdb772a071e58",
            "value": " 28.0/28.0 [00:00&lt;00:00, 327B/s]"
          }
        },
        "7929d5cf39e54816a3d8b378f6b7bd46": {
          "model_module": "@jupyter-widgets/base",
          "model_module_version": "1.2.0",
          "model_name": "LayoutModel",
          "state": {
            "_model_module": "@jupyter-widgets/base",
            "_model_module_version": "1.2.0",
            "_model_name": "LayoutModel",
            "_view_count": null,
            "_view_module": "@jupyter-widgets/base",
            "_view_module_version": "1.2.0",
            "_view_name": "LayoutView",
            "align_content": null,
            "align_items": null,
            "align_self": null,
            "border": null,
            "bottom": null,
            "display": null,
            "flex": null,
            "flex_flow": null,
            "grid_area": null,
            "grid_auto_columns": null,
            "grid_auto_flow": null,
            "grid_auto_rows": null,
            "grid_column": null,
            "grid_gap": null,
            "grid_row": null,
            "grid_template_areas": null,
            "grid_template_columns": null,
            "grid_template_rows": null,
            "height": null,
            "justify_content": null,
            "justify_items": null,
            "left": null,
            "margin": null,
            "max_height": null,
            "max_width": null,
            "min_height": null,
            "min_width": null,
            "object_fit": null,
            "object_position": null,
            "order": null,
            "overflow": null,
            "overflow_x": null,
            "overflow_y": null,
            "padding": null,
            "right": null,
            "top": null,
            "visibility": null,
            "width": null
          }
        },
        "7be6fb704b56442392ef7d69d0d855e0": {
          "model_module": "@jupyter-widgets/base",
          "model_module_version": "1.2.0",
          "model_name": "LayoutModel",
          "state": {
            "_model_module": "@jupyter-widgets/base",
            "_model_module_version": "1.2.0",
            "_model_name": "LayoutModel",
            "_view_count": null,
            "_view_module": "@jupyter-widgets/base",
            "_view_module_version": "1.2.0",
            "_view_name": "LayoutView",
            "align_content": null,
            "align_items": null,
            "align_self": null,
            "border": null,
            "bottom": null,
            "display": null,
            "flex": null,
            "flex_flow": null,
            "grid_area": null,
            "grid_auto_columns": null,
            "grid_auto_flow": null,
            "grid_auto_rows": null,
            "grid_column": null,
            "grid_gap": null,
            "grid_row": null,
            "grid_template_areas": null,
            "grid_template_columns": null,
            "grid_template_rows": null,
            "height": null,
            "justify_content": null,
            "justify_items": null,
            "left": null,
            "margin": null,
            "max_height": null,
            "max_width": null,
            "min_height": null,
            "min_width": null,
            "object_fit": null,
            "object_position": null,
            "order": null,
            "overflow": null,
            "overflow_x": null,
            "overflow_y": null,
            "padding": null,
            "right": null,
            "top": null,
            "visibility": null,
            "width": null
          }
        },
        "7d03696aae9c4f01912a57882ef55e2a": {
          "model_module": "@jupyter-widgets/controls",
          "model_module_version": "1.5.0",
          "model_name": "FloatProgressModel",
          "state": {
            "_dom_classes": [],
            "_model_module": "@jupyter-widgets/controls",
            "_model_module_version": "1.5.0",
            "_model_name": "FloatProgressModel",
            "_view_count": null,
            "_view_module": "@jupyter-widgets/controls",
            "_view_module_version": "1.5.0",
            "_view_name": "ProgressView",
            "bar_style": "success",
            "description": "",
            "description_tooltip": null,
            "layout": "IPY_MODEL_fbb6cd72d0cf4c96b7889e6a040b1099",
            "max": 50,
            "min": 0,
            "orientation": "horizontal",
            "style": "IPY_MODEL_054df7f2f1a94e6b8d63e6bf38f408d4",
            "value": 50
          }
        },
        "80a8f537c8dd4ea88bfa59ff6ea5126d": {
          "model_module": "@jupyter-widgets/controls",
          "model_module_version": "1.5.0",
          "model_name": "HTMLModel",
          "state": {
            "_dom_classes": [],
            "_model_module": "@jupyter-widgets/controls",
            "_model_module_version": "1.5.0",
            "_model_name": "HTMLModel",
            "_view_count": null,
            "_view_module": "@jupyter-widgets/controls",
            "_view_module_version": "1.5.0",
            "_view_name": "HTMLView",
            "description": "",
            "description_tooltip": null,
            "layout": "IPY_MODEL_06bd1aba64f447618ea51966d996f2ae",
            "placeholder": "​",
            "style": "IPY_MODEL_5790fae3946a49e380629710e08aea8d",
            "value": "Downloading: 100%"
          }
        },
        "82032e91a3d84e7a920def6b94775ba1": {
          "model_module": "@jupyter-widgets/base",
          "model_module_version": "1.2.0",
          "model_name": "LayoutModel",
          "state": {
            "_model_module": "@jupyter-widgets/base",
            "_model_module_version": "1.2.0",
            "_model_name": "LayoutModel",
            "_view_count": null,
            "_view_module": "@jupyter-widgets/base",
            "_view_module_version": "1.2.0",
            "_view_name": "LayoutView",
            "align_content": null,
            "align_items": null,
            "align_self": null,
            "border": null,
            "bottom": null,
            "display": null,
            "flex": null,
            "flex_flow": null,
            "grid_area": null,
            "grid_auto_columns": null,
            "grid_auto_flow": null,
            "grid_auto_rows": null,
            "grid_column": null,
            "grid_gap": null,
            "grid_row": null,
            "grid_template_areas": null,
            "grid_template_columns": null,
            "grid_template_rows": null,
            "height": null,
            "justify_content": null,
            "justify_items": null,
            "left": null,
            "margin": null,
            "max_height": null,
            "max_width": null,
            "min_height": null,
            "min_width": null,
            "object_fit": null,
            "object_position": null,
            "order": null,
            "overflow": null,
            "overflow_x": null,
            "overflow_y": null,
            "padding": null,
            "right": null,
            "top": null,
            "visibility": null,
            "width": null
          }
        },
        "82f3e52c736f4829a68e8c7d5c421c3e": {
          "model_module": "@jupyter-widgets/controls",
          "model_module_version": "1.5.0",
          "model_name": "FloatProgressModel",
          "state": {
            "_dom_classes": [],
            "_model_module": "@jupyter-widgets/controls",
            "_model_module_version": "1.5.0",
            "_model_name": "FloatProgressModel",
            "_view_count": null,
            "_view_module": "@jupyter-widgets/controls",
            "_view_module_version": "1.5.0",
            "_view_name": "ProgressView",
            "bar_style": "success",
            "description": "",
            "description_tooltip": null,
            "layout": "IPY_MODEL_7929d5cf39e54816a3d8b378f6b7bd46",
            "max": 267967963,
            "min": 0,
            "orientation": "horizontal",
            "style": "IPY_MODEL_5ab642728a3141099129e8b6e81081a2",
            "value": 267967963
          }
        },
        "899fc0a9b8b24e1e8b9e36226059cd25": {
          "model_module": "@jupyter-widgets/controls",
          "model_module_version": "1.5.0",
          "model_name": "HTMLModel",
          "state": {
            "_dom_classes": [],
            "_model_module": "@jupyter-widgets/controls",
            "_model_module_version": "1.5.0",
            "_model_name": "HTMLModel",
            "_view_count": null,
            "_view_module": "@jupyter-widgets/controls",
            "_view_module_version": "1.5.0",
            "_view_name": "HTMLView",
            "description": "",
            "description_tooltip": null,
            "layout": "IPY_MODEL_f91f3c1db4d9426a870faa2c634db408",
            "placeholder": "​",
            "style": "IPY_MODEL_f5b82299b9b2499f9d5b6d473dde6224",
            "value": " 50/50 [00:23&lt;00:00,  2.46it/s]"
          }
        },
        "8b02d34b6f774b859233d123f993733c": {
          "model_module": "@jupyter-widgets/base",
          "model_module_version": "1.2.0",
          "model_name": "LayoutModel",
          "state": {
            "_model_module": "@jupyter-widgets/base",
            "_model_module_version": "1.2.0",
            "_model_name": "LayoutModel",
            "_view_count": null,
            "_view_module": "@jupyter-widgets/base",
            "_view_module_version": "1.2.0",
            "_view_name": "LayoutView",
            "align_content": null,
            "align_items": null,
            "align_self": null,
            "border": null,
            "bottom": null,
            "display": null,
            "flex": null,
            "flex_flow": null,
            "grid_area": null,
            "grid_auto_columns": null,
            "grid_auto_flow": null,
            "grid_auto_rows": null,
            "grid_column": null,
            "grid_gap": null,
            "grid_row": null,
            "grid_template_areas": null,
            "grid_template_columns": null,
            "grid_template_rows": null,
            "height": null,
            "justify_content": null,
            "justify_items": null,
            "left": null,
            "margin": null,
            "max_height": null,
            "max_width": null,
            "min_height": null,
            "min_width": null,
            "object_fit": null,
            "object_position": null,
            "order": null,
            "overflow": null,
            "overflow_x": null,
            "overflow_y": null,
            "padding": null,
            "right": null,
            "top": null,
            "visibility": null,
            "width": null
          }
        },
        "96f2ba959d084ef390980d4e39663440": {
          "model_module": "@jupyter-widgets/base",
          "model_module_version": "1.2.0",
          "model_name": "LayoutModel",
          "state": {
            "_model_module": "@jupyter-widgets/base",
            "_model_module_version": "1.2.0",
            "_model_name": "LayoutModel",
            "_view_count": null,
            "_view_module": "@jupyter-widgets/base",
            "_view_module_version": "1.2.0",
            "_view_name": "LayoutView",
            "align_content": null,
            "align_items": null,
            "align_self": null,
            "border": null,
            "bottom": null,
            "display": null,
            "flex": null,
            "flex_flow": null,
            "grid_area": null,
            "grid_auto_columns": null,
            "grid_auto_flow": null,
            "grid_auto_rows": null,
            "grid_column": null,
            "grid_gap": null,
            "grid_row": null,
            "grid_template_areas": null,
            "grid_template_columns": null,
            "grid_template_rows": null,
            "height": null,
            "justify_content": null,
            "justify_items": null,
            "left": null,
            "margin": null,
            "max_height": null,
            "max_width": null,
            "min_height": null,
            "min_width": null,
            "object_fit": null,
            "object_position": null,
            "order": null,
            "overflow": null,
            "overflow_x": null,
            "overflow_y": null,
            "padding": null,
            "right": null,
            "top": null,
            "visibility": null,
            "width": null
          }
        },
        "9867325978994a429a1eaeda6fb68d23": {
          "model_module": "@jupyter-widgets/controls",
          "model_module_version": "1.5.0",
          "model_name": "HBoxModel",
          "state": {
            "_dom_classes": [],
            "_model_module": "@jupyter-widgets/controls",
            "_model_module_version": "1.5.0",
            "_model_name": "HBoxModel",
            "_view_count": null,
            "_view_module": "@jupyter-widgets/controls",
            "_view_module_version": "1.5.0",
            "_view_name": "HBoxView",
            "box_style": "",
            "children": [
              "IPY_MODEL_80a8f537c8dd4ea88bfa59ff6ea5126d",
              "IPY_MODEL_3d64443871f34a81adbafddd2c6e119c",
              "IPY_MODEL_06815105b1c84cc4bd20588e2dbcc2e4"
            ],
            "layout": "IPY_MODEL_66e3e1b0b96c4ff8bb8a0111e699dfba"
          }
        },
        "9a4365c6b125460c93d9e1619d0b0a63": {
          "model_module": "@jupyter-widgets/controls",
          "model_module_version": "1.5.0",
          "model_name": "HTMLModel",
          "state": {
            "_dom_classes": [],
            "_model_module": "@jupyter-widgets/controls",
            "_model_module_version": "1.5.0",
            "_model_name": "HTMLModel",
            "_view_count": null,
            "_view_module": "@jupyter-widgets/controls",
            "_view_module_version": "1.5.0",
            "_view_name": "HTMLView",
            "description": "",
            "description_tooltip": null,
            "layout": "IPY_MODEL_f5cc52b5c28a4466b9f66455f57ff80a",
            "placeholder": "​",
            "style": "IPY_MODEL_2ceb8f3c630a4a6eb0f25ba25eedae3f",
            "value": "100%"
          }
        },
        "9b69104686b54af7913cbe37691a8748": {
          "model_module": "@jupyter-widgets/controls",
          "model_module_version": "1.5.0",
          "model_name": "DescriptionStyleModel",
          "state": {
            "_model_module": "@jupyter-widgets/controls",
            "_model_module_version": "1.5.0",
            "_model_name": "DescriptionStyleModel",
            "_view_count": null,
            "_view_module": "@jupyter-widgets/base",
            "_view_module_version": "1.2.0",
            "_view_name": "StyleView",
            "description_width": ""
          }
        },
        "a25aa9d32f2942a9b78cc9ece37e73fb": {
          "model_module": "@jupyter-widgets/controls",
          "model_module_version": "1.5.0",
          "model_name": "HTMLModel",
          "state": {
            "_dom_classes": [],
            "_model_module": "@jupyter-widgets/controls",
            "_model_module_version": "1.5.0",
            "_model_name": "HTMLModel",
            "_view_count": null,
            "_view_module": "@jupyter-widgets/controls",
            "_view_module_version": "1.5.0",
            "_view_name": "HTMLView",
            "description": "",
            "description_tooltip": null,
            "layout": "IPY_MODEL_fec10c81f8214d7c859fed85f33a6e62",
            "placeholder": "​",
            "style": "IPY_MODEL_4ad82591e648465fab2815f1ada5a71e",
            "value": "Downloading: 100%"
          }
        },
        "a7aeb42d0d23490f884255b0852ce194": {
          "model_module": "@jupyter-widgets/controls",
          "model_module_version": "1.5.0",
          "model_name": "DescriptionStyleModel",
          "state": {
            "_model_module": "@jupyter-widgets/controls",
            "_model_module_version": "1.5.0",
            "_model_name": "DescriptionStyleModel",
            "_view_count": null,
            "_view_module": "@jupyter-widgets/base",
            "_view_module_version": "1.2.0",
            "_view_name": "StyleView",
            "description_width": ""
          }
        },
        "a7b467b1cc6746aba91020ce18a3d338": {
          "model_module": "@jupyter-widgets/controls",
          "model_module_version": "1.5.0",
          "model_name": "FloatProgressModel",
          "state": {
            "_dom_classes": [],
            "_model_module": "@jupyter-widgets/controls",
            "_model_module_version": "1.5.0",
            "_model_name": "FloatProgressModel",
            "_view_count": null,
            "_view_module": "@jupyter-widgets/controls",
            "_view_module_version": "1.5.0",
            "_view_name": "ProgressView",
            "bar_style": "success",
            "description": "",
            "description_tooltip": null,
            "layout": "IPY_MODEL_96f2ba959d084ef390980d4e39663440",
            "max": 466062,
            "min": 0,
            "orientation": "horizontal",
            "style": "IPY_MODEL_c2f9058d1a3c43f0921c37147504a396",
            "value": 466062
          }
        },
        "b62e953ba5484d0a84857ad5f54ae488": {
          "model_module": "@jupyter-widgets/controls",
          "model_module_version": "1.5.0",
          "model_name": "ProgressStyleModel",
          "state": {
            "_model_module": "@jupyter-widgets/controls",
            "_model_module_version": "1.5.0",
            "_model_name": "ProgressStyleModel",
            "_view_count": null,
            "_view_module": "@jupyter-widgets/base",
            "_view_module_version": "1.2.0",
            "_view_name": "StyleView",
            "bar_color": null,
            "description_width": ""
          }
        },
        "b659835b2d65441ea66e0aab347da49c": {
          "model_module": "@jupyter-widgets/base",
          "model_module_version": "1.2.0",
          "model_name": "LayoutModel",
          "state": {
            "_model_module": "@jupyter-widgets/base",
            "_model_module_version": "1.2.0",
            "_model_name": "LayoutModel",
            "_view_count": null,
            "_view_module": "@jupyter-widgets/base",
            "_view_module_version": "1.2.0",
            "_view_name": "LayoutView",
            "align_content": null,
            "align_items": null,
            "align_self": null,
            "border": null,
            "bottom": null,
            "display": null,
            "flex": null,
            "flex_flow": null,
            "grid_area": null,
            "grid_auto_columns": null,
            "grid_auto_flow": null,
            "grid_auto_rows": null,
            "grid_column": null,
            "grid_gap": null,
            "grid_row": null,
            "grid_template_areas": null,
            "grid_template_columns": null,
            "grid_template_rows": null,
            "height": null,
            "justify_content": null,
            "justify_items": null,
            "left": null,
            "margin": null,
            "max_height": null,
            "max_width": null,
            "min_height": null,
            "min_width": null,
            "object_fit": null,
            "object_position": null,
            "order": null,
            "overflow": null,
            "overflow_x": null,
            "overflow_y": null,
            "padding": null,
            "right": null,
            "top": null,
            "visibility": null,
            "width": null
          }
        },
        "b9e79b45089441e291ec243f70b737c4": {
          "model_module": "@jupyter-widgets/base",
          "model_module_version": "1.2.0",
          "model_name": "LayoutModel",
          "state": {
            "_model_module": "@jupyter-widgets/base",
            "_model_module_version": "1.2.0",
            "_model_name": "LayoutModel",
            "_view_count": null,
            "_view_module": "@jupyter-widgets/base",
            "_view_module_version": "1.2.0",
            "_view_name": "LayoutView",
            "align_content": null,
            "align_items": null,
            "align_self": null,
            "border": null,
            "bottom": null,
            "display": null,
            "flex": null,
            "flex_flow": null,
            "grid_area": null,
            "grid_auto_columns": null,
            "grid_auto_flow": null,
            "grid_auto_rows": null,
            "grid_column": null,
            "grid_gap": null,
            "grid_row": null,
            "grid_template_areas": null,
            "grid_template_columns": null,
            "grid_template_rows": null,
            "height": null,
            "justify_content": null,
            "justify_items": null,
            "left": null,
            "margin": null,
            "max_height": null,
            "max_width": null,
            "min_height": null,
            "min_width": null,
            "object_fit": null,
            "object_position": null,
            "order": null,
            "overflow": null,
            "overflow_x": null,
            "overflow_y": null,
            "padding": null,
            "right": null,
            "top": null,
            "visibility": null,
            "width": null
          }
        },
        "ba05776da41944a6862caad75db25a0c": {
          "model_module": "@jupyter-widgets/controls",
          "model_module_version": "1.5.0",
          "model_name": "HBoxModel",
          "state": {
            "_dom_classes": [],
            "_model_module": "@jupyter-widgets/controls",
            "_model_module_version": "1.5.0",
            "_model_name": "HBoxModel",
            "_view_count": null,
            "_view_module": "@jupyter-widgets/controls",
            "_view_module_version": "1.5.0",
            "_view_name": "HBoxView",
            "box_style": "",
            "children": [
              "IPY_MODEL_a25aa9d32f2942a9b78cc9ece37e73fb",
              "IPY_MODEL_a7b467b1cc6746aba91020ce18a3d338",
              "IPY_MODEL_307f101fb0ad406a864f2f39ace21acb"
            ],
            "layout": "IPY_MODEL_12fa7da2c1fc42ba9db1725347a666ae"
          }
        },
        "beb486c364b7461198e24062af71f429": {
          "model_module": "@jupyter-widgets/controls",
          "model_module_version": "1.5.0",
          "model_name": "DescriptionStyleModel",
          "state": {
            "_model_module": "@jupyter-widgets/controls",
            "_model_module_version": "1.5.0",
            "_model_name": "DescriptionStyleModel",
            "_view_count": null,
            "_view_module": "@jupyter-widgets/base",
            "_view_module_version": "1.2.0",
            "_view_name": "StyleView",
            "description_width": ""
          }
        },
        "c2f9058d1a3c43f0921c37147504a396": {
          "model_module": "@jupyter-widgets/controls",
          "model_module_version": "1.5.0",
          "model_name": "ProgressStyleModel",
          "state": {
            "_model_module": "@jupyter-widgets/controls",
            "_model_module_version": "1.5.0",
            "_model_name": "ProgressStyleModel",
            "_view_count": null,
            "_view_module": "@jupyter-widgets/base",
            "_view_module_version": "1.2.0",
            "_view_name": "StyleView",
            "bar_color": null,
            "description_width": ""
          }
        },
        "cb951cd58f014cda964e454a158a130a": {
          "model_module": "@jupyter-widgets/base",
          "model_module_version": "1.2.0",
          "model_name": "LayoutModel",
          "state": {
            "_model_module": "@jupyter-widgets/base",
            "_model_module_version": "1.2.0",
            "_model_name": "LayoutModel",
            "_view_count": null,
            "_view_module": "@jupyter-widgets/base",
            "_view_module_version": "1.2.0",
            "_view_name": "LayoutView",
            "align_content": null,
            "align_items": null,
            "align_self": null,
            "border": null,
            "bottom": null,
            "display": null,
            "flex": null,
            "flex_flow": null,
            "grid_area": null,
            "grid_auto_columns": null,
            "grid_auto_flow": null,
            "grid_auto_rows": null,
            "grid_column": null,
            "grid_gap": null,
            "grid_row": null,
            "grid_template_areas": null,
            "grid_template_columns": null,
            "grid_template_rows": null,
            "height": null,
            "justify_content": null,
            "justify_items": null,
            "left": null,
            "margin": null,
            "max_height": null,
            "max_width": null,
            "min_height": null,
            "min_width": null,
            "object_fit": null,
            "object_position": null,
            "order": null,
            "overflow": null,
            "overflow_x": null,
            "overflow_y": null,
            "padding": null,
            "right": null,
            "top": null,
            "visibility": null,
            "width": null
          }
        },
        "d6833f0b1ee6498391c5a09161e3e31f": {
          "model_module": "@jupyter-widgets/controls",
          "model_module_version": "1.5.0",
          "model_name": "DescriptionStyleModel",
          "state": {
            "_model_module": "@jupyter-widgets/controls",
            "_model_module_version": "1.5.0",
            "_model_name": "DescriptionStyleModel",
            "_view_count": null,
            "_view_module": "@jupyter-widgets/base",
            "_view_module_version": "1.2.0",
            "_view_name": "StyleView",
            "description_width": ""
          }
        },
        "db81c03fe06f4f86afaf67693ad4b540": {
          "model_module": "@jupyter-widgets/base",
          "model_module_version": "1.2.0",
          "model_name": "LayoutModel",
          "state": {
            "_model_module": "@jupyter-widgets/base",
            "_model_module_version": "1.2.0",
            "_model_name": "LayoutModel",
            "_view_count": null,
            "_view_module": "@jupyter-widgets/base",
            "_view_module_version": "1.2.0",
            "_view_name": "LayoutView",
            "align_content": null,
            "align_items": null,
            "align_self": null,
            "border": null,
            "bottom": null,
            "display": null,
            "flex": null,
            "flex_flow": null,
            "grid_area": null,
            "grid_auto_columns": null,
            "grid_auto_flow": null,
            "grid_auto_rows": null,
            "grid_column": null,
            "grid_gap": null,
            "grid_row": null,
            "grid_template_areas": null,
            "grid_template_columns": null,
            "grid_template_rows": null,
            "height": null,
            "justify_content": null,
            "justify_items": null,
            "left": null,
            "margin": null,
            "max_height": null,
            "max_width": null,
            "min_height": null,
            "min_width": null,
            "object_fit": null,
            "object_position": null,
            "order": null,
            "overflow": null,
            "overflow_x": null,
            "overflow_y": null,
            "padding": null,
            "right": null,
            "top": null,
            "visibility": null,
            "width": null
          }
        },
        "e46a6473d00d4c9994498546aacf21cf": {
          "model_module": "@jupyter-widgets/controls",
          "model_module_version": "1.5.0",
          "model_name": "ProgressStyleModel",
          "state": {
            "_model_module": "@jupyter-widgets/controls",
            "_model_module_version": "1.5.0",
            "_model_name": "ProgressStyleModel",
            "_view_count": null,
            "_view_module": "@jupyter-widgets/base",
            "_view_module_version": "1.2.0",
            "_view_name": "StyleView",
            "bar_color": null,
            "description_width": ""
          }
        },
        "f5b82299b9b2499f9d5b6d473dde6224": {
          "model_module": "@jupyter-widgets/controls",
          "model_module_version": "1.5.0",
          "model_name": "DescriptionStyleModel",
          "state": {
            "_model_module": "@jupyter-widgets/controls",
            "_model_module_version": "1.5.0",
            "_model_name": "DescriptionStyleModel",
            "_view_count": null,
            "_view_module": "@jupyter-widgets/base",
            "_view_module_version": "1.2.0",
            "_view_name": "StyleView",
            "description_width": ""
          }
        },
        "f5cc52b5c28a4466b9f66455f57ff80a": {
          "model_module": "@jupyter-widgets/base",
          "model_module_version": "1.2.0",
          "model_name": "LayoutModel",
          "state": {
            "_model_module": "@jupyter-widgets/base",
            "_model_module_version": "1.2.0",
            "_model_name": "LayoutModel",
            "_view_count": null,
            "_view_module": "@jupyter-widgets/base",
            "_view_module_version": "1.2.0",
            "_view_name": "LayoutView",
            "align_content": null,
            "align_items": null,
            "align_self": null,
            "border": null,
            "bottom": null,
            "display": null,
            "flex": null,
            "flex_flow": null,
            "grid_area": null,
            "grid_auto_columns": null,
            "grid_auto_flow": null,
            "grid_auto_rows": null,
            "grid_column": null,
            "grid_gap": null,
            "grid_row": null,
            "grid_template_areas": null,
            "grid_template_columns": null,
            "grid_template_rows": null,
            "height": null,
            "justify_content": null,
            "justify_items": null,
            "left": null,
            "margin": null,
            "max_height": null,
            "max_width": null,
            "min_height": null,
            "min_width": null,
            "object_fit": null,
            "object_position": null,
            "order": null,
            "overflow": null,
            "overflow_x": null,
            "overflow_y": null,
            "padding": null,
            "right": null,
            "top": null,
            "visibility": null,
            "width": null
          }
        },
        "f91f3c1db4d9426a870faa2c634db408": {
          "model_module": "@jupyter-widgets/base",
          "model_module_version": "1.2.0",
          "model_name": "LayoutModel",
          "state": {
            "_model_module": "@jupyter-widgets/base",
            "_model_module_version": "1.2.0",
            "_model_name": "LayoutModel",
            "_view_count": null,
            "_view_module": "@jupyter-widgets/base",
            "_view_module_version": "1.2.0",
            "_view_name": "LayoutView",
            "align_content": null,
            "align_items": null,
            "align_self": null,
            "border": null,
            "bottom": null,
            "display": null,
            "flex": null,
            "flex_flow": null,
            "grid_area": null,
            "grid_auto_columns": null,
            "grid_auto_flow": null,
            "grid_auto_rows": null,
            "grid_column": null,
            "grid_gap": null,
            "grid_row": null,
            "grid_template_areas": null,
            "grid_template_columns": null,
            "grid_template_rows": null,
            "height": null,
            "justify_content": null,
            "justify_items": null,
            "left": null,
            "margin": null,
            "max_height": null,
            "max_width": null,
            "min_height": null,
            "min_width": null,
            "object_fit": null,
            "object_position": null,
            "order": null,
            "overflow": null,
            "overflow_x": null,
            "overflow_y": null,
            "padding": null,
            "right": null,
            "top": null,
            "visibility": null,
            "width": null
          }
        },
        "fbb6cd72d0cf4c96b7889e6a040b1099": {
          "model_module": "@jupyter-widgets/base",
          "model_module_version": "1.2.0",
          "model_name": "LayoutModel",
          "state": {
            "_model_module": "@jupyter-widgets/base",
            "_model_module_version": "1.2.0",
            "_model_name": "LayoutModel",
            "_view_count": null,
            "_view_module": "@jupyter-widgets/base",
            "_view_module_version": "1.2.0",
            "_view_name": "LayoutView",
            "align_content": null,
            "align_items": null,
            "align_self": null,
            "border": null,
            "bottom": null,
            "display": null,
            "flex": null,
            "flex_flow": null,
            "grid_area": null,
            "grid_auto_columns": null,
            "grid_auto_flow": null,
            "grid_auto_rows": null,
            "grid_column": null,
            "grid_gap": null,
            "grid_row": null,
            "grid_template_areas": null,
            "grid_template_columns": null,
            "grid_template_rows": null,
            "height": null,
            "justify_content": null,
            "justify_items": null,
            "left": null,
            "margin": null,
            "max_height": null,
            "max_width": null,
            "min_height": null,
            "min_width": null,
            "object_fit": null,
            "object_position": null,
            "order": null,
            "overflow": null,
            "overflow_x": null,
            "overflow_y": null,
            "padding": null,
            "right": null,
            "top": null,
            "visibility": null,
            "width": null
          }
        },
        "fec10c81f8214d7c859fed85f33a6e62": {
          "model_module": "@jupyter-widgets/base",
          "model_module_version": "1.2.0",
          "model_name": "LayoutModel",
          "state": {
            "_model_module": "@jupyter-widgets/base",
            "_model_module_version": "1.2.0",
            "_model_name": "LayoutModel",
            "_view_count": null,
            "_view_module": "@jupyter-widgets/base",
            "_view_module_version": "1.2.0",
            "_view_name": "LayoutView",
            "align_content": null,
            "align_items": null,
            "align_self": null,
            "border": null,
            "bottom": null,
            "display": null,
            "flex": null,
            "flex_flow": null,
            "grid_area": null,
            "grid_auto_columns": null,
            "grid_auto_flow": null,
            "grid_auto_rows": null,
            "grid_column": null,
            "grid_gap": null,
            "grid_row": null,
            "grid_template_areas": null,
            "grid_template_columns": null,
            "grid_template_rows": null,
            "height": null,
            "justify_content": null,
            "justify_items": null,
            "left": null,
            "margin": null,
            "max_height": null,
            "max_width": null,
            "min_height": null,
            "min_width": null,
            "object_fit": null,
            "object_position": null,
            "order": null,
            "overflow": null,
            "overflow_x": null,
            "overflow_y": null,
            "padding": null,
            "right": null,
            "top": null,
            "visibility": null,
            "width": null
          }
        }
      }
    }
  },
  "nbformat": 4,
  "nbformat_minor": 5
}
