{
  "cells": [
    {
      "cell_type": "markdown",
      "id": "30199516",
      "metadata": {
        "id": "30199516"
      },
      "source": [
        "# Определение токсичных комментариев"
      ]
    },
    {
      "cell_type": "markdown",
      "id": "0d2dfc35",
      "metadata": {
        "id": "0d2dfc35"
      },
      "source": [
        "Интернет-магазин «Викишоп» запускает новый сервис. Теперь пользователи могут редактировать и дополнять описания товаров, как в вики-сообществах. \n",
        "\n",
        "То есть клиенты предлагают свои правки и комментируют изменения других. Магазину нужен инструмент, который будет искать токсичные комментарии и отправлять их на модерацию. "
      ]
    },
    {
      "cell_type": "markdown",
      "id": "86f5dbd0",
      "metadata": {
        "id": "86f5dbd0"
      },
      "source": [
        "**Цель:**\n",
        "- создать модель определения токсичныхъ комментариев\n",
        "\n",
        "**Метрика:**\n",
        "- метрика для оценки качества модели F1\n",
        "\n",
        "**Точность:**\n",
        "- F1 лучшей модели должено быть не ниже **0.75**"
      ]
    },
    {
      "cell_type": "markdown",
      "id": "c5213a66",
      "metadata": {},
      "source": [
        "В нашем распоряжении набор данных с разметкой о токсичности правок."
      ]
    },
    {
      "cell_type": "markdown",
      "id": "a958733a",
      "metadata": {
        "id": "a958733a"
      },
      "source": [
        "## Импорт библиотек"
      ]
    },
    {
      "cell_type": "code",
      "execution_count": null,
      "id": "dedUby6WaFP-",
      "metadata": {
        "colab": {
          "base_uri": "https://localhost:8080/"
        },
        "id": "dedUby6WaFP-",
        "outputId": "3fd082b0-13e6-4540-f9d3-cb788fb43eda",
        "trusted": false
      },
      "outputs": [],
      "source": [
        "!pip install transformers"
      ]
    },
    {
      "cell_type": "code",
      "execution_count": null,
      "id": "1c85954c",
      "metadata": {},
      "outputs": [],
      "source": [
        "!pip install lightgbm"
      ]
    },
    {
      "cell_type": "code",
      "execution_count": 46,
      "id": "d9390626",
      "metadata": {
        "id": "d9390626",
        "trusted": false
      },
      "outputs": [],
      "source": [
        "import pandas as pd\n",
        "\n",
        "from sklearn.linear_model import LogisticRegression\n",
        "from sklearn.preprocessing import StandardScaler\n",
        "\n",
        "from lightgbm import LGBMClassifier as lgb\n",
        "\n",
        "import optuna\n",
        "from sklearn.metrics import f1_score, confusion_matrix, ConfusionMatrixDisplay\n",
        "from sklearn.model_selection import train_test_split\n",
        "\n",
        "import nltk\n",
        "from nltk.corpus import stopwords as nltk_stopwords\n",
        "from sklearn.feature_extraction.text import TfidfVectorizer\n",
        "from nltk.stem import WordNetLemmatizer\n",
        "import re\n",
        "\n",
        "import seaborn as sns\n",
        "import matplotlib.pyplot as plt"
      ]
    },
    {
      "cell_type": "code",
      "execution_count": 3,
      "id": "eb840eb0",
      "metadata": {
        "id": "eb840eb0",
        "trusted": false
      },
      "outputs": [],
      "source": [
        "sns.set_theme(style=\"whitegrid\")"
      ]
    },
    {
      "cell_type": "code",
      "execution_count": 4,
      "id": "144a6db1",
      "metadata": {
        "id": "144a6db1",
        "trusted": false
      },
      "outputs": [],
      "source": [
        "RANDOM = 12345\n",
        "scaler = StandardScaler()"
      ]
    },
    {
      "cell_type": "code",
      "execution_count": 5,
      "id": "d8f3a371",
      "metadata": {
        "id": "d8f3a371",
        "trusted": false
      },
      "outputs": [],
      "source": [
        "import warnings\n",
        "warnings.filterwarnings('ignore')"
      ]
    },
    {
      "cell_type": "code",
      "execution_count": null,
      "id": "1258774c",
      "metadata": {
        "colab": {
          "base_uri": "https://localhost:8080/"
        },
        "id": "1258774c",
        "outputId": "60a6808e-f8eb-4aee-eda7-93df9ffd302c",
        "trusted": false
      },
      "outputs": [],
      "source": [
        "nltk.download('stopwords')\n",
        "nltk.download('wordnet')\n",
        "nltk.download('omw-1.4')\n",
        "stopwords = set(nltk_stopwords.words('english'))"
      ]
    },
    {
      "cell_type": "code",
      "execution_count": 7,
      "id": "f290ada9",
      "metadata": {
        "id": "f290ada9",
        "trusted": false
      },
      "outputs": [],
      "source": [
        "# Confusion Matrix Plot\n",
        "\n",
        "def plot_cm(target, predictions, model):\n",
        "    cm = confusion_matrix(target, predictions, labels=model.classes_)\n",
        "    disp = ConfusionMatrixDisplay(confusion_matrix=cm ,display_labels=model.classes_)\n",
        "    disp.plot()\n",
        "    plt.show()"
      ]
    },
    {
      "cell_type": "markdown",
      "id": "d1fad8e6",
      "metadata": {
        "id": "d1fad8e6"
      },
      "source": [
        "## Загрузка и обработка текста"
      ]
    },
    {
      "cell_type": "code",
      "execution_count": null,
      "id": "bd162cea",
      "metadata": {
        "colab": {
          "base_uri": "https://localhost:8080/"
        },
        "id": "bd162cea",
        "outputId": "1e434139-b037-47b8-da4a-c8e1c2129281",
        "trusted": false
      },
      "outputs": [],
      "source": [
        "import os\n",
        "\n",
        "pth1 = '../datasets/toxic_comments.csv'\n",
        "pth2 = '/content/toxic_comments.csv'\n",
        "\n",
        "if os.path.exists(pth1):\n",
        "    df = pd.read_csv(pth1, error_bad_lines=False)\n",
        "elif os.path.exists(pth2):\n",
        "    df = pd.read_csv(pth2, error_bad_lines=False)\n",
        "else:\n",
        "    print('Проверьте пути к датасету')"
      ]
    },
    {
      "cell_type": "code",
      "execution_count": 52,
      "id": "50c39bdf",
      "metadata": {},
      "outputs": [
        {
          "name": "stdout",
          "output_type": "stream",
          "text": [
            "<class 'pandas.core.frame.DataFrame'>\n",
            "RangeIndex: 159451 entries, 0 to 159450\n",
            "Data columns (total 2 columns):\n",
            " #   Column  Non-Null Count   Dtype \n",
            "---  ------  --------------   ----- \n",
            " 0   text    159451 non-null  object\n",
            " 1   toxic   159320 non-null  object\n",
            "dtypes: object(2)\n",
            "memory usage: 2.4+ MB\n"
          ]
        }
      ],
      "source": [
        "df.info()"
      ]
    },
    {
      "cell_type": "code",
      "execution_count": 9,
      "id": "051c8943",
      "metadata": {
        "colab": {
          "base_uri": "https://localhost:8080/"
        },
        "id": "051c8943",
        "outputId": "ef897fce-3c2e-4ce1-be02-59fc16360f7e",
        "trusted": false
      },
      "outputs": [
        {
          "data": {
            "text/plain": [
              "array(['0', '1', nan, ' removed also by ALR. Why.',\n",
              "       ' and possibly edit the article. Thank you for your time.99.41.251.5 (talk)”',\n",
              "       ' but you judge.', ' and on pages like votes for deletion',\n",
              "       ' Sime Darby is poised with the potential for more in the future\"\"\"\". This statement is also somewhat judgemental.',\n",
              "       ' anything yet?',\n",
              "       \" Wikipedia's most-viewed board has declared a specific living person has terminal cancer.\",\n",
              "       ',0\\nquestion', ' re:Open access publishing',\n",
              "       ',0\\nSockpuppet Investigation of User:Anyones Else For Nutley ',\n",
              "       ' you are absolutely correct.  Keep up the good work.  ',\n",
              "       \" I suspect there's a great deal of history that I'm woefully unaware of.  Thank you. —   \\xa0?\\xa0 \",\n",
              "       ' though a minority opinion.\"\"\"\" - Enough evidence to include parent systems in Infobox.',\n",
              "       ' you will be blocked from editing.   (T) ',\n",
              "       ' Time Magazine Article & The New Statesmen. ',\n",
              "       ' in that it infers that Noel Stanton was the Baptist pastor rather than being within the Baptist laity at Bugbrooke at the time. ',\n",
              "       ' 2012. ', ' aren´t you? ', ' inflation\"\"\"\"',\n",
              "       ' Here are a few excerpts of Dr BR Ambedkar(who was also an anthropologist and a respected historian).: ',\n",
              "       ' but its a MUST-READ regarding the topic. (talk . contr . mail) ',\n",
              "       ' ', ' there is a week pause before the 2-hour Finale',\n",
              "       \" the Sozin's Comet Book (which releases May 20th) will be on-time with the tv \",\n",
              "       ' I do play Go (though not so much for a while)',\n",
              "       ' \"\"\"\"Bosnia and Herzegovina [...] will try to keep a neutral position due to a complex domestic political scene and numerous unsolved political and economic issues in the country.\"\"\"\"',\n",
              "       ',0\\n\"',\n",
              "       \" you are described as a USMC reserve corporal. Now you say you are not a marine. Which is it? Surely you should know whether or not you're a marine or not.  \"],\n",
              "      dtype=object)"
            ]
          },
          "execution_count": 9,
          "metadata": {},
          "output_type": "execute_result"
        }
      ],
      "source": [
        "df['toxic'].unique()"
      ]
    },
    {
      "cell_type": "code",
      "execution_count": 10,
      "id": "37ad6670",
      "metadata": {
        "colab": {
          "base_uri": "https://localhost:8080/"
        },
        "id": "37ad6670",
        "outputId": "7ed60b7f-f325-4d89-a216-a084b70b4903",
        "trusted": false
      },
      "outputs": [
        {
          "data": {
            "text/plain": [
              "text       0\n",
              "toxic    131\n",
              "dtype: int64"
            ]
          },
          "execution_count": 10,
          "metadata": {},
          "output_type": "execute_result"
        }
      ],
      "source": [
        "df.isna().sum()"
      ]
    },
    {
      "cell_type": "code",
      "execution_count": 11,
      "id": "8db657ad",
      "metadata": {
        "id": "8db657ad",
        "trusted": false
      },
      "outputs": [],
      "source": [
        "df = df.dropna().reset_index(drop=True)"
      ]
    },
    {
      "cell_type": "code",
      "execution_count": 12,
      "id": "73b49dee",
      "metadata": {
        "colab": {
          "base_uri": "https://localhost:8080/"
        },
        "id": "73b49dee",
        "outputId": "13ae6565-9fdb-46a3-ed13-c72a7469b3f8",
        "trusted": false
      },
      "outputs": [
        {
          "data": {
            "text/plain": [
              "0                                                                                                                                                                                          143106\n",
              "1                                                                                                                                                                                           16186\n",
              ",0\\n\"                                                                                                                                                                                           1\n",
              " \"\"\"\"Bosnia and Herzegovina [...] will try to keep a neutral position due to a complex domestic political scene and numerous unsolved political and economic issues in the country.\"\"\"\"         1\n",
              " I do play Go (though not so much for a while)                                                                                                                                                  1\n",
              " the Sozin's Comet Book (which releases May 20th) will be on-time with the tv                                                                                                                   1\n",
              " there is a week pause before the 2-hour Finale                                                                                                                                                 1\n",
              "                                                                                                                                                                                                1\n",
              " but its a MUST-READ regarding the topic. (talk . contr . mail)                                                                                                                                 1\n",
              " Here are a few excerpts of Dr BR Ambedkar(who was also an anthropologist and a respected historian).:                                                                                          1\n",
              " inflation\"\"\"\"                                                                                                                                                                                  1\n",
              " aren´t you?                                                                                                                                                                                    1\n",
              " 2012.                                                                                                                                                                                          1\n",
              " in that it infers that Noel Stanton was the Baptist pastor rather than being within the Baptist laity at Bugbrooke at the time.                                                                1\n",
              " Time Magazine Article & The New Statesmen.                                                                                                                                                     1\n",
              " you will be blocked from editing.   (T)                                                                                                                                                        1\n",
              " though a minority opinion.\"\"\"\" - Enough evidence to include parent systems in Infobox.                                                                                                         1\n",
              " I suspect there's a great deal of history that I'm woefully unaware of.  Thank you. —    ?                                                                                                     1\n",
              " you are absolutely correct.  Keep up the good work.                                                                                                                                            1\n",
              ",0\\nSockpuppet Investigation of User:Anyones Else For Nutley                                                                                                                                    1\n",
              " re:Open access publishing                                                                                                                                                                      1\n",
              ",0\\nquestion                                                                                                                                                                                    1\n",
              " Wikipedia's most-viewed board has declared a specific living person has terminal cancer.                                                                                                       1\n",
              " anything yet?                                                                                                                                                                                  1\n",
              " Sime Darby is poised with the potential for more in the future\"\"\"\". This statement is also somewhat judgemental.                                                                               1\n",
              " and on pages like votes for deletion                                                                                                                                                           1\n",
              " but you judge.                                                                                                                                                                                 1\n",
              " and possibly edit the article. Thank you for your time.99.41.251.5 (talk)”                                                                                                                     1\n",
              " removed also by ALR. Why.                                                                                                                                                                      1\n",
              " you are described as a USMC reserve corporal. Now you say you are not a marine. Which is it? Surely you should know whether or not you're a marine or not.                                     1\n",
              "Name: toxic, dtype: int64"
            ]
          },
          "execution_count": 12,
          "metadata": {},
          "output_type": "execute_result"
        }
      ],
      "source": [
        "df['toxic'].value_counts()"
      ]
    },
    {
      "cell_type": "markdown",
      "id": "7b289613",
      "metadata": {
        "id": "7b289613"
      },
      "source": [
        "В таргет затесались комментарии - избавимся от них"
      ]
    },
    {
      "cell_type": "code",
      "execution_count": 13,
      "id": "2d9ffe77",
      "metadata": {
        "id": "2d9ffe77",
        "trusted": false
      },
      "outputs": [],
      "source": [
        "drop_index = df.query('toxic != \"0\" and toxic != \"1\"').index"
      ]
    },
    {
      "cell_type": "code",
      "execution_count": 14,
      "id": "1fb6a170",
      "metadata": {
        "id": "1fb6a170",
        "trusted": false
      },
      "outputs": [],
      "source": [
        "df_comm = df.drop(index=drop_index).reset_index(drop=True)"
      ]
    },
    {
      "cell_type": "code",
      "execution_count": 15,
      "id": "1b0edf8d",
      "metadata": {
        "colab": {
          "base_uri": "https://localhost:8080/",
          "height": 424
        },
        "id": "1b0edf8d",
        "outputId": "55613901-93fc-4c1b-ed49-4eca7afb143f",
        "trusted": false
      },
      "outputs": [
        {
          "data": {
            "text/html": [
              "<div>\n",
              "<style scoped>\n",
              "    .dataframe tbody tr th:only-of-type {\n",
              "        vertical-align: middle;\n",
              "    }\n",
              "\n",
              "    .dataframe tbody tr th {\n",
              "        vertical-align: top;\n",
              "    }\n",
              "\n",
              "    .dataframe thead th {\n",
              "        text-align: right;\n",
              "    }\n",
              "</style>\n",
              "<table border=\"1\" class=\"dataframe\">\n",
              "  <thead>\n",
              "    <tr style=\"text-align: right;\">\n",
              "      <th></th>\n",
              "      <th>text</th>\n",
              "      <th>toxic</th>\n",
              "    </tr>\n",
              "  </thead>\n",
              "  <tbody>\n",
              "    <tr>\n",
              "      <th>0</th>\n",
              "      <td>Explanation\\nWhy the edits made under my usern...</td>\n",
              "      <td>0</td>\n",
              "    </tr>\n",
              "    <tr>\n",
              "      <th>1</th>\n",
              "      <td>D'aww! He matches this background colour I'm s...</td>\n",
              "      <td>0</td>\n",
              "    </tr>\n",
              "    <tr>\n",
              "      <th>2</th>\n",
              "      <td>Hey man, I'm really not trying to edit war. It...</td>\n",
              "      <td>0</td>\n",
              "    </tr>\n",
              "    <tr>\n",
              "      <th>3</th>\n",
              "      <td>\"\\nMore\\nI can't make any real suggestions on ...</td>\n",
              "      <td>0</td>\n",
              "    </tr>\n",
              "    <tr>\n",
              "      <th>4</th>\n",
              "      <td>You, sir, are my hero. Any chance you remember...</td>\n",
              "      <td>0</td>\n",
              "    </tr>\n",
              "    <tr>\n",
              "      <th>...</th>\n",
              "      <td>...</td>\n",
              "      <td>...</td>\n",
              "    </tr>\n",
              "    <tr>\n",
              "      <th>159287</th>\n",
              "      <td>\":::::And for the second time of asking, when ...</td>\n",
              "      <td>0</td>\n",
              "    </tr>\n",
              "    <tr>\n",
              "      <th>159288</th>\n",
              "      <td>You should be ashamed of yourself \\n\\nThat is ...</td>\n",
              "      <td>0</td>\n",
              "    </tr>\n",
              "    <tr>\n",
              "      <th>159289</th>\n",
              "      <td>Spitzer \\n\\nUmm, theres no actual article for ...</td>\n",
              "      <td>0</td>\n",
              "    </tr>\n",
              "    <tr>\n",
              "      <th>159290</th>\n",
              "      <td>And it looks like it was actually you who put ...</td>\n",
              "      <td>0</td>\n",
              "    </tr>\n",
              "    <tr>\n",
              "      <th>159291</th>\n",
              "      <td>\"\\nAnd ... I really don't think you understand...</td>\n",
              "      <td>0</td>\n",
              "    </tr>\n",
              "  </tbody>\n",
              "</table>\n",
              "<p>159292 rows × 2 columns</p>\n",
              "</div>"
            ],
            "text/plain": [
              "                                                     text toxic\n",
              "0       Explanation\\nWhy the edits made under my usern...     0\n",
              "1       D'aww! He matches this background colour I'm s...     0\n",
              "2       Hey man, I'm really not trying to edit war. It...     0\n",
              "3       \"\\nMore\\nI can't make any real suggestions on ...     0\n",
              "4       You, sir, are my hero. Any chance you remember...     0\n",
              "...                                                   ...   ...\n",
              "159287  \":::::And for the second time of asking, when ...     0\n",
              "159288  You should be ashamed of yourself \\n\\nThat is ...     0\n",
              "159289  Spitzer \\n\\nUmm, theres no actual article for ...     0\n",
              "159290  And it looks like it was actually you who put ...     0\n",
              "159291  \"\\nAnd ... I really don't think you understand...     0\n",
              "\n",
              "[159292 rows x 2 columns]"
            ]
          },
          "execution_count": 15,
          "metadata": {},
          "output_type": "execute_result"
        }
      ],
      "source": [
        "df_comm"
      ]
    },
    {
      "cell_type": "markdown",
      "id": "9njdVSteqB_E",
      "metadata": {
        "id": "9njdVSteqB_E"
      },
      "source": [
        "Очистим текст"
      ]
    },
    {
      "cell_type": "code",
      "execution_count": 17,
      "id": "dbb9b41b",
      "metadata": {},
      "outputs": [],
      "source": [
        "def clear_text(text):\n",
        "    text = re.sub(r'[^a-zA-Z ]', ' ', text)\n",
        "    text = text.split()\n",
        "    text = \" \".join(text)\n",
        "    return text"
      ]
    },
    {
      "cell_type": "code",
      "execution_count": 18,
      "id": "M4evvZybpWci",
      "metadata": {
        "id": "M4evvZybpWci"
      },
      "outputs": [],
      "source": [
        "df_comm['text'] = df_comm['text'].apply(clear_text)"
      ]
    },
    {
      "cell_type": "code",
      "execution_count": 19,
      "id": "Vgs5kOC9p-YG",
      "metadata": {
        "colab": {
          "base_uri": "https://localhost:8080/",
          "height": 424
        },
        "id": "Vgs5kOC9p-YG",
        "outputId": "998dce4c-cc8c-4584-d5e2-b319cffa33e7"
      },
      "outputs": [
        {
          "data": {
            "text/html": [
              "<div>\n",
              "<style scoped>\n",
              "    .dataframe tbody tr th:only-of-type {\n",
              "        vertical-align: middle;\n",
              "    }\n",
              "\n",
              "    .dataframe tbody tr th {\n",
              "        vertical-align: top;\n",
              "    }\n",
              "\n",
              "    .dataframe thead th {\n",
              "        text-align: right;\n",
              "    }\n",
              "</style>\n",
              "<table border=\"1\" class=\"dataframe\">\n",
              "  <thead>\n",
              "    <tr style=\"text-align: right;\">\n",
              "      <th></th>\n",
              "      <th>text</th>\n",
              "      <th>toxic</th>\n",
              "    </tr>\n",
              "  </thead>\n",
              "  <tbody>\n",
              "    <tr>\n",
              "      <th>0</th>\n",
              "      <td>Explanation Why the edits made under my userna...</td>\n",
              "      <td>0</td>\n",
              "    </tr>\n",
              "    <tr>\n",
              "      <th>1</th>\n",
              "      <td>D aww He matches this background colour I m se...</td>\n",
              "      <td>0</td>\n",
              "    </tr>\n",
              "    <tr>\n",
              "      <th>2</th>\n",
              "      <td>Hey man I m really not trying to edit war It s...</td>\n",
              "      <td>0</td>\n",
              "    </tr>\n",
              "    <tr>\n",
              "      <th>3</th>\n",
              "      <td>More I can t make any real suggestions on impr...</td>\n",
              "      <td>0</td>\n",
              "    </tr>\n",
              "    <tr>\n",
              "      <th>4</th>\n",
              "      <td>You sir are my hero Any chance you remember wh...</td>\n",
              "      <td>0</td>\n",
              "    </tr>\n",
              "    <tr>\n",
              "      <th>...</th>\n",
              "      <td>...</td>\n",
              "      <td>...</td>\n",
              "    </tr>\n",
              "    <tr>\n",
              "      <th>159287</th>\n",
              "      <td>And for the second time of asking when your vi...</td>\n",
              "      <td>0</td>\n",
              "    </tr>\n",
              "    <tr>\n",
              "      <th>159288</th>\n",
              "      <td>You should be ashamed of yourself That is a ho...</td>\n",
              "      <td>0</td>\n",
              "    </tr>\n",
              "    <tr>\n",
              "      <th>159289</th>\n",
              "      <td>Spitzer Umm theres no actual article for prost...</td>\n",
              "      <td>0</td>\n",
              "    </tr>\n",
              "    <tr>\n",
              "      <th>159290</th>\n",
              "      <td>And it looks like it was actually you who put ...</td>\n",
              "      <td>0</td>\n",
              "    </tr>\n",
              "    <tr>\n",
              "      <th>159291</th>\n",
              "      <td>And I really don t think you understand I came...</td>\n",
              "      <td>0</td>\n",
              "    </tr>\n",
              "  </tbody>\n",
              "</table>\n",
              "<p>159292 rows × 2 columns</p>\n",
              "</div>"
            ],
            "text/plain": [
              "                                                     text toxic\n",
              "0       Explanation Why the edits made under my userna...     0\n",
              "1       D aww He matches this background colour I m se...     0\n",
              "2       Hey man I m really not trying to edit war It s...     0\n",
              "3       More I can t make any real suggestions on impr...     0\n",
              "4       You sir are my hero Any chance you remember wh...     0\n",
              "...                                                   ...   ...\n",
              "159287  And for the second time of asking when your vi...     0\n",
              "159288  You should be ashamed of yourself That is a ho...     0\n",
              "159289  Spitzer Umm theres no actual article for prost...     0\n",
              "159290  And it looks like it was actually you who put ...     0\n",
              "159291  And I really don t think you understand I came...     0\n",
              "\n",
              "[159292 rows x 2 columns]"
            ]
          },
          "execution_count": 19,
          "metadata": {},
          "output_type": "execute_result"
        }
      ],
      "source": [
        "df_comm"
      ]
    },
    {
      "cell_type": "markdown",
      "id": "OPlZXeHZ-qGd",
      "metadata": {
        "id": "OPlZXeHZ-qGd"
      },
      "source": [
        "Сначала добавим леммы к нашему датасету"
      ]
    },
    {
      "cell_type": "code",
      "execution_count": 20,
      "id": "7LiFklLb_6-D",
      "metadata": {
        "id": "7LiFklLb_6-D"
      },
      "outputs": [],
      "source": [
        "def lemmas(text):\n",
        "  wnl = WordNetLemmatizer()\n",
        "  w_tokenizer = nltk.tokenize.WhitespaceTokenizer()\n",
        "  lemm_list = [wnl.lemmatize(w) for w in w_tokenizer.tokenize(text)]\n",
        "  lemm_text = ' '.join(lemm_list)\n",
        "  \n",
        "  return lemm_text\n",
        "\n",
        "\n",
        "df_comm['lemm_text'] = df_comm['text'].apply(lemmas)\n"
      ]
    },
    {
      "cell_type": "code",
      "execution_count": 21,
      "id": "Gx-s9_-B-EiY",
      "metadata": {
        "colab": {
          "base_uri": "https://localhost:8080/",
          "height": 424
        },
        "id": "Gx-s9_-B-EiY",
        "outputId": "fd7ece59-4e6e-4d34-c16a-5c5f66c7cde8"
      },
      "outputs": [
        {
          "data": {
            "text/html": [
              "<div>\n",
              "<style scoped>\n",
              "    .dataframe tbody tr th:only-of-type {\n",
              "        vertical-align: middle;\n",
              "    }\n",
              "\n",
              "    .dataframe tbody tr th {\n",
              "        vertical-align: top;\n",
              "    }\n",
              "\n",
              "    .dataframe thead th {\n",
              "        text-align: right;\n",
              "    }\n",
              "</style>\n",
              "<table border=\"1\" class=\"dataframe\">\n",
              "  <thead>\n",
              "    <tr style=\"text-align: right;\">\n",
              "      <th></th>\n",
              "      <th>text</th>\n",
              "      <th>toxic</th>\n",
              "      <th>lemm_text</th>\n",
              "    </tr>\n",
              "  </thead>\n",
              "  <tbody>\n",
              "    <tr>\n",
              "      <th>0</th>\n",
              "      <td>Explanation Why the edits made under my userna...</td>\n",
              "      <td>0</td>\n",
              "      <td>Explanation Why the edits made under my userna...</td>\n",
              "    </tr>\n",
              "    <tr>\n",
              "      <th>1</th>\n",
              "      <td>D aww He matches this background colour I m se...</td>\n",
              "      <td>0</td>\n",
              "      <td>D aww He match this background colour I m seem...</td>\n",
              "    </tr>\n",
              "    <tr>\n",
              "      <th>2</th>\n",
              "      <td>Hey man I m really not trying to edit war It s...</td>\n",
              "      <td>0</td>\n",
              "      <td>Hey man I m really not trying to edit war It s...</td>\n",
              "    </tr>\n",
              "    <tr>\n",
              "      <th>3</th>\n",
              "      <td>More I can t make any real suggestions on impr...</td>\n",
              "      <td>0</td>\n",
              "      <td>More I can t make any real suggestion on impro...</td>\n",
              "    </tr>\n",
              "    <tr>\n",
              "      <th>4</th>\n",
              "      <td>You sir are my hero Any chance you remember wh...</td>\n",
              "      <td>0</td>\n",
              "      <td>You sir are my hero Any chance you remember wh...</td>\n",
              "    </tr>\n",
              "    <tr>\n",
              "      <th>...</th>\n",
              "      <td>...</td>\n",
              "      <td>...</td>\n",
              "      <td>...</td>\n",
              "    </tr>\n",
              "    <tr>\n",
              "      <th>159287</th>\n",
              "      <td>And for the second time of asking when your vi...</td>\n",
              "      <td>0</td>\n",
              "      <td>And for the second time of asking when your vi...</td>\n",
              "    </tr>\n",
              "    <tr>\n",
              "      <th>159288</th>\n",
              "      <td>You should be ashamed of yourself That is a ho...</td>\n",
              "      <td>0</td>\n",
              "      <td>You should be ashamed of yourself That is a ho...</td>\n",
              "    </tr>\n",
              "    <tr>\n",
              "      <th>159289</th>\n",
              "      <td>Spitzer Umm theres no actual article for prost...</td>\n",
              "      <td>0</td>\n",
              "      <td>Spitzer Umm there no actual article for prosti...</td>\n",
              "    </tr>\n",
              "    <tr>\n",
              "      <th>159290</th>\n",
              "      <td>And it looks like it was actually you who put ...</td>\n",
              "      <td>0</td>\n",
              "      <td>And it look like it wa actually you who put on...</td>\n",
              "    </tr>\n",
              "    <tr>\n",
              "      <th>159291</th>\n",
              "      <td>And I really don t think you understand I came...</td>\n",
              "      <td>0</td>\n",
              "      <td>And I really don t think you understand I came...</td>\n",
              "    </tr>\n",
              "  </tbody>\n",
              "</table>\n",
              "<p>159292 rows × 3 columns</p>\n",
              "</div>"
            ],
            "text/plain": [
              "                                                     text toxic  \\\n",
              "0       Explanation Why the edits made under my userna...     0   \n",
              "1       D aww He matches this background colour I m se...     0   \n",
              "2       Hey man I m really not trying to edit war It s...     0   \n",
              "3       More I can t make any real suggestions on impr...     0   \n",
              "4       You sir are my hero Any chance you remember wh...     0   \n",
              "...                                                   ...   ...   \n",
              "159287  And for the second time of asking when your vi...     0   \n",
              "159288  You should be ashamed of yourself That is a ho...     0   \n",
              "159289  Spitzer Umm theres no actual article for prost...     0   \n",
              "159290  And it looks like it was actually you who put ...     0   \n",
              "159291  And I really don t think you understand I came...     0   \n",
              "\n",
              "                                                lemm_text  \n",
              "0       Explanation Why the edits made under my userna...  \n",
              "1       D aww He match this background colour I m seem...  \n",
              "2       Hey man I m really not trying to edit war It s...  \n",
              "3       More I can t make any real suggestion on impro...  \n",
              "4       You sir are my hero Any chance you remember wh...  \n",
              "...                                                   ...  \n",
              "159287  And for the second time of asking when your vi...  \n",
              "159288  You should be ashamed of yourself That is a ho...  \n",
              "159289  Spitzer Umm there no actual article for prosti...  \n",
              "159290  And it look like it wa actually you who put on...  \n",
              "159291  And I really don t think you understand I came...  \n",
              "\n",
              "[159292 rows x 3 columns]"
            ]
          },
          "execution_count": 21,
          "metadata": {},
          "output_type": "execute_result"
        }
      ],
      "source": [
        "df_comm"
      ]
    },
    {
      "cell_type": "code",
      "execution_count": 22,
      "id": "4S2Wl5X3zpBi",
      "metadata": {
        "id": "4S2Wl5X3zpBi"
      },
      "outputs": [],
      "source": [
        "df_comm['toxic'] = df_comm['toxic'].astype(int)"
      ]
    },
    {
      "cell_type": "markdown",
      "id": "tjp8KKDi1FJG",
      "metadata": {
        "id": "tjp8KKDi1FJG"
      },
      "source": [
        "Разделим датасет"
      ]
    },
    {
      "cell_type": "code",
      "execution_count": 23,
      "id": "XqNrsdGxxBhA",
      "metadata": {
        "id": "XqNrsdGxxBhA"
      },
      "outputs": [],
      "source": [
        "X_train, X_test, y_train, y_test  = train_test_split(df_comm['lemm_text'], df_comm['toxic'], test_size=.25, random_state=RANDOM)"
      ]
    },
    {
      "cell_type": "code",
      "execution_count": 24,
      "id": "OmaXJo-2AB5G",
      "metadata": {
        "id": "OmaXJo-2AB5G"
      },
      "outputs": [],
      "source": [
        "corpus = X_train.values.astype('U')"
      ]
    },
    {
      "cell_type": "markdown",
      "id": "vLZwd9qv1Igo",
      "metadata": {
        "id": "vLZwd9qv1Igo"
      },
      "source": [
        "Применим TF-IDF к трейну и тесту"
      ]
    },
    {
      "cell_type": "code",
      "execution_count": 25,
      "id": "Vu4vg7lYvKZs",
      "metadata": {
        "id": "Vu4vg7lYvKZs"
      },
      "outputs": [],
      "source": [
        "count_tf_idf = TfidfVectorizer(stop_words=stopwords)\n",
        "\n",
        "tf_idf = count_tf_idf.fit_transform(corpus)\n",
        "tf_idf_test = count_tf_idf.transform(X_test)"
      ]
    },
    {
      "cell_type": "markdown",
      "id": "2vqENna_RMkY",
      "metadata": {
        "id": "2vqENna_RMkY"
      },
      "source": [
        "## Logistic Regression"
      ]
    },
    {
      "cell_type": "code",
      "execution_count": 26,
      "id": "jJJ6j6zTvpba",
      "metadata": {
        "id": "jJJ6j6zTvpba"
      },
      "outputs": [],
      "source": [
        "model = LogisticRegression(n_jobs=-1, class_weight='balanced', random_state=RANDOM)"
      ]
    },
    {
      "cell_type": "code",
      "execution_count": null,
      "id": "hjXLccd8y09C",
      "metadata": {
        "colab": {
          "base_uri": "https://localhost:8080/"
        },
        "id": "hjXLccd8y09C",
        "outputId": "8a48f70e-1a5a-4e48-eeb2-bafdddaf4e37"
      },
      "outputs": [],
      "source": [
        "model.fit(tf_idf, y_train)"
      ]
    },
    {
      "cell_type": "code",
      "execution_count": 47,
      "id": "debkqFuiy9i8",
      "metadata": {
        "colab": {
          "base_uri": "https://localhost:8080/"
        },
        "id": "debkqFuiy9i8",
        "outputId": "293551d0-c221-4ddd-e777-3dd803dc717a"
      },
      "outputs": [
        {
          "name": "stdout",
          "output_type": "stream",
          "text": [
            "F1 у простой модели LogReg: 0.75\n"
          ]
        }
      ],
      "source": [
        "predictions = model.predict(tf_idf_test)\n",
        "\n",
        "f1_res = f1_score(y_test, predictions, average='binary')\n",
        "\n",
        "print(f'F1 у простой модели LogReg: {round(f1_res, 2)}')"
      ]
    },
    {
      "cell_type": "code",
      "execution_count": 29,
      "id": "2f9c1caf",
      "metadata": {},
      "outputs": [
        {
          "data": {
            "image/png": "[encoded data removed]",
            "text/plain": [
              "<Figure size 432x288 with 2 Axes>"
            ]
          },
          "metadata": {},
          "output_type": "display_data"
        }
      ],
      "source": [
        "plot_cm(y_test, predictions, model)"
      ]
    },
    {
      "cell_type": "markdown",
      "id": "OAAJpmHC2I4b",
      "metadata": {
        "id": "OAAJpmHC2I4b"
      },
      "source": [
        "Попробуем добавить перебор параметров"
      ]
    },
    {
      "cell_type": "code",
      "execution_count": 30,
      "id": "r4G13O8-zdEh",
      "metadata": {
        "id": "r4G13O8-zdEh"
      },
      "outputs": [],
      "source": [
        "param_distrs = {\n",
        "                'C':optuna.distributions.LogUniformDistribution(0.1, 30),\n",
        "                'max_iter':optuna.distributions.IntUniformDistribution(800, 1500, 100)\n",
        "                }\n",
        "\n",
        "opt_search = optuna.integration.OptunaSearchCV(model, param_distrs, cv = 5,\n",
        "                                                n_trials=100, scoring='f1', timeout=500)"
      ]
    },
    {
      "cell_type": "code",
      "execution_count": 31,
      "id": "lMPOMwUy2QxY",
      "metadata": {
        "colab": {
          "base_uri": "https://localhost:8080/"
        },
        "id": "lMPOMwUy2QxY",
        "outputId": "e2665036-cbc7-45df-c09b-d93808ba96a1"
      },
      "outputs": [
        {
          "name": "stderr",
          "output_type": "stream",
          "text": [
            "\u001b[32m[I 2022-11-21 22:56:43,097]\u001b[0m A new study created in memory with name: no-name-1fa5accd-c36d-4382-91da-3536ca9858a5\u001b[0m\n",
            "\u001b[32m[I 2022-11-21 22:56:55,074]\u001b[0m Trial 0 finished with value: 0.7350924487576995 and parameters: {'C': 0.5124440681269508, 'max_iter': 1100}. Best is trial 0 with value: 0.7350924487576995.\u001b[0m\n",
            "\u001b[32m[I 2022-11-21 22:57:05,286]\u001b[0m Trial 1 finished with value: 0.7276324683874122 and parameters: {'C': 0.3513252519603397, 'max_iter': 900}. Best is trial 0 with value: 0.7350924487576995.\u001b[0m\n",
            "\u001b[32m[I 2022-11-21 22:57:28,788]\u001b[0m Trial 2 finished with value: 0.7508394319083666 and parameters: {'C': 1.4932551960305789, 'max_iter': 800}. Best is trial 2 with value: 0.7508394319083666.\u001b[0m\n",
            "\u001b[32m[I 2022-11-21 22:57:48,994]\u001b[0m Trial 3 finished with value: 0.7459563208778256 and parameters: {'C': 0.9945521120390847, 'max_iter': 1100}. Best is trial 2 with value: 0.7508394319083666.\u001b[0m\n",
            "\u001b[32m[I 2022-11-21 22:57:59,251]\u001b[0m Trial 4 finished with value: 0.7291215504876085 and parameters: {'C': 0.3801795324339297, 'max_iter': 1500}. Best is trial 2 with value: 0.7508394319083666.\u001b[0m\n",
            "\u001b[32m[I 2022-11-21 22:58:10,846]\u001b[0m Trial 5 finished with value: 0.7348794517482051 and parameters: {'C': 0.5066316517578849, 'max_iter': 1500}. Best is trial 2 with value: 0.7508394319083666.\u001b[0m\n",
            "\u001b[32m[I 2022-11-21 22:58:19,928]\u001b[0m Trial 6 finished with value: 0.705267917808232 and parameters: {'C': 0.13346263496004093, 'max_iter': 1300}. Best is trial 2 with value: 0.7508394319083666.\u001b[0m\n",
            "\u001b[32m[I 2022-11-21 22:58:28,258]\u001b[0m Trial 7 finished with value: 0.7029607894928924 and parameters: {'C': 0.12016832904775084, 'max_iter': 1400}. Best is trial 2 with value: 0.7508394319083666.\u001b[0m\n",
            "\u001b[32m[I 2022-11-21 22:59:27,460]\u001b[0m Trial 8 finished with value: 0.7538525075769629 and parameters: {'C': 28.397449148923506, 'max_iter': 800}. Best is trial 8 with value: 0.7538525075769629.\u001b[0m\n",
            "\u001b[32m[I 2022-11-21 22:59:38,817]\u001b[0m Trial 9 finished with value: 0.7341647096742173 and parameters: {'C': 0.49495224606801175, 'max_iter': 1400}. Best is trial 8 with value: 0.7538525075769629.\u001b[0m\n",
            "\u001b[32m[I 2022-11-21 23:00:35,613]\u001b[0m Trial 10 finished with value: 0.7548850838332137 and parameters: {'C': 26.194384264085087, 'max_iter': 900}. Best is trial 10 with value: 0.7548850838332137.\u001b[0m\n",
            "\u001b[32m[I 2022-11-21 23:01:39,467]\u001b[0m Trial 11 finished with value: 0.7539594544392019 and parameters: {'C': 28.113740571056905, 'max_iter': 900}. Best is trial 10 with value: 0.7548850838332137.\u001b[0m\n",
            "\u001b[32m[I 2022-11-21 23:02:41,467]\u001b[0m Trial 12 finished with value: 0.7540109326652094 and parameters: {'C': 27.845239228920935, 'max_iter': 1000}. Best is trial 10 with value: 0.7548850838332137.\u001b[0m\n",
            "\u001b[32m[I 2022-11-21 23:03:22,138]\u001b[0m Trial 13 finished with value: 0.7604827008240094 and parameters: {'C': 7.292907540172378, 'max_iter': 1000}. Best is trial 13 with value: 0.7604827008240094.\u001b[0m\n",
            "\u001b[32m[I 2022-11-21 23:04:03,468]\u001b[0m Trial 14 finished with value: 0.7599963809658168 and parameters: {'C': 8.068628899413898, 'max_iter': 1000}. Best is trial 13 with value: 0.7604827008240094.\u001b[0m\n",
            "\u001b[32m[I 2022-11-21 23:04:44,323]\u001b[0m Trial 15 finished with value: 0.7603058003840075 and parameters: {'C': 6.699840225415499, 'max_iter': 1200}. Best is trial 13 with value: 0.7604827008240094.\u001b[0m\n",
            "\u001b[32m[I 2022-11-21 23:05:21,020]\u001b[0m Trial 16 finished with value: 0.7590495298920962 and parameters: {'C': 4.878904383235039, 'max_iter': 1200}. Best is trial 13 with value: 0.7604827008240094.\u001b[0m\n"
          ]
        },
        {
          "data": {
            "text/plain": [
              "OptunaSearchCV(estimator=LogisticRegression(class_weight='balanced', n_jobs=-1,\n",
              "                                            random_state=12345),\n",
              "               n_trials=100,\n",
              "               param_distributions={'C': FloatDistribution(high=30.0, log=True, low=0.1, step=None),\n",
              "                                    'max_iter': IntDistribution(high=1500, log=False, low=800, step=100)},\n",
              "               scoring='f1', timeout=500)"
            ]
          },
          "execution_count": 31,
          "metadata": {},
          "output_type": "execute_result"
        }
      ],
      "source": [
        "opt_search.fit(tf_idf, y_train)"
      ]
    },
    {
      "cell_type": "code",
      "execution_count": 32,
      "id": "3xFFZ5Si2mr5",
      "metadata": {
        "colab": {
          "base_uri": "https://localhost:8080/"
        },
        "id": "3xFFZ5Si2mr5",
        "outputId": "45cf5005-1afd-470d-f4d2-809568656cc1"
      },
      "outputs": [
        {
          "name": "stdout",
          "output_type": "stream",
          "text": [
            "Best params: {'C': 7.292907540172378, 'max_iter': 1000}\n",
            "Best score: 0.7604827008240094\n",
            "Best estimator: LogisticRegression(C=7.292907540172378, class_weight='balanced', max_iter=1000,\n",
            "                   n_jobs=-1, random_state=12345)\n"
          ]
        }
      ],
      "source": [
        "print(f'Best params: {opt_search.best_params_}')\n",
        "print(f'Best score: {opt_search.best_score_}')\n",
        "print(f'Best estimator: {opt_search.best_estimator_}')"
      ]
    },
    {
      "cell_type": "code",
      "execution_count": 48,
      "id": "Q3o0jvpH3Ef6",
      "metadata": {
        "colab": {
          "base_uri": "https://localhost:8080/"
        },
        "id": "Q3o0jvpH3Ef6",
        "outputId": "38b4a080-291c-4d5f-c381-5b2e1c0a26c7"
      },
      "outputs": [
        {
          "name": "stdout",
          "output_type": "stream",
          "text": [
            "F1 у LogReg с перебором параметров: 0.76\n"
          ]
        }
      ],
      "source": [
        "opt_model = opt_search.best_estimator_\n",
        "\n",
        "opt_predictions = opt_model.predict(tf_idf_test)\n",
        "\n",
        "opt_f1 = f1_score(y_test, opt_predictions, average='binary')\n",
        "\n",
        "print(f'F1 у LogReg с перебором параметров: {round(opt_f1, 2)}')"
      ]
    },
    {
      "cell_type": "code",
      "execution_count": 34,
      "id": "a339ae4d",
      "metadata": {},
      "outputs": [
        {
          "data": {
            "image/png": "[encoded data removed]",
            "text/plain": [
              "<Figure size 432x288 with 2 Axes>"
            ]
          },
          "metadata": {},
          "output_type": "display_data"
        }
      ],
      "source": [
        "plot_cm(y_test, opt_predictions, opt_model)"
      ]
    },
    {
      "cell_type": "markdown",
      "id": "d49a9fc9",
      "metadata": {},
      "source": [
        "## LightGBM"
      ]
    },
    {
      "cell_type": "code",
      "execution_count": 54,
      "id": "509e1a10",
      "metadata": {},
      "outputs": [
        {
          "name": "stdout",
          "output_type": "stream",
          "text": [
            "[100]\tvalid_0's auc: 0.93302\n",
            "[200]\tvalid_0's auc: 0.947149\n",
            "[300]\tvalid_0's auc: 0.95422\n",
            "[400]\tvalid_0's auc: 0.958147\n",
            "[500]\tvalid_0's auc: 0.959842\n",
            "[600]\tvalid_0's auc: 0.961376\n",
            "[700]\tvalid_0's auc: 0.962504\n",
            "[800]\tvalid_0's auc: 0.963297\n",
            "[900]\tvalid_0's auc: 0.963699\n",
            "[1000]\tvalid_0's auc: 0.964218\n",
            "[1100]\tvalid_0's auc: 0.964741\n",
            "[1200]\tvalid_0's auc: 0.965028\n",
            "[1300]\tvalid_0's auc: 0.965168\n",
            "[1400]\tvalid_0's auc: 0.965114\n",
            "[1500]\tvalid_0's auc: 0.965351\n",
            "[1600]\tvalid_0's auc: 0.965404\n",
            "[1700]\tvalid_0's auc: 0.965332\n",
            "[1800]\tvalid_0's auc: 0.965268\n",
            "[1900]\tvalid_0's auc: 0.965305\n",
            "[2000]\tvalid_0's auc: 0.965206\n"
          ]
        }
      ],
      "source": [
        "params = {\n",
        "    'learning_rate': 0.1,\n",
        "    \"num_leaves\": 50,  \n",
        "    \"max_depth\": 5,\n",
        "    \"max_bin\" : 100,\n",
        "    \"num_iterations\": 2000,\n",
        "    \"metric\" : 'auc'\n",
        "}\n",
        "lgb_model = lgb(**params, n_jobs=-1)\n",
        "lgb_model.fit(tf_idf, y_train, eval_set=(tf_idf_test, y_test), verbose=100)\n",
        "\n",
        "lgb_preds = lgb_model.predict(tf_idf_test)\n",
        "\n",
        "lgb_f1_res = f1_score(y_test, lgb_preds)"
      ]
    },
    {
      "cell_type": "code",
      "execution_count": 49,
      "id": "784e086a",
      "metadata": {},
      "outputs": [
        {
          "name": "stdout",
          "output_type": "stream",
          "text": [
            "F1 у модели LBG: 0.78\n"
          ]
        }
      ],
      "source": [
        "print(f'F1 у модели LBG: {round(lgb_f1_res, 2)}')"
      ]
    },
    {
      "cell_type": "code",
      "execution_count": 39,
      "id": "d9bc2860",
      "metadata": {},
      "outputs": [
        {
          "data": {
            "image/png": "[encoded data removed]",
            "text/plain": [
              "<Figure size 432x288 with 2 Axes>"
            ]
          },
          "metadata": {},
          "output_type": "display_data"
        }
      ],
      "source": [
        "plot_cm(y_test, lgb_preds, lgb_model)"
      ]
    },
    {
      "cell_type": "markdown",
      "id": "fdf5f0bc",
      "metadata": {},
      "source": [
        "## Общая таблица моделей"
      ]
    },
    {
      "cell_type": "code",
      "execution_count": 40,
      "id": "397c9103",
      "metadata": {},
      "outputs": [
        {
          "data": {
            "text/html": [
              "<div>\n",
              "<style scoped>\n",
              "    .dataframe tbody tr th:only-of-type {\n",
              "        vertical-align: middle;\n",
              "    }\n",
              "\n",
              "    .dataframe tbody tr th {\n",
              "        vertical-align: top;\n",
              "    }\n",
              "\n",
              "    .dataframe thead th {\n",
              "        text-align: right;\n",
              "    }\n",
              "</style>\n",
              "<table border=\"1\" class=\"dataframe\">\n",
              "  <thead>\n",
              "    <tr style=\"text-align: right;\">\n",
              "      <th></th>\n",
              "      <th>f1_score</th>\n",
              "    </tr>\n",
              "  </thead>\n",
              "  <tbody>\n",
              "    <tr>\n",
              "      <th>LightGBM</th>\n",
              "      <td>0.776612</td>\n",
              "    </tr>\n",
              "    <tr>\n",
              "      <th>Tune_LogReg</th>\n",
              "      <td>0.764558</td>\n",
              "    </tr>\n",
              "    <tr>\n",
              "      <th>LogReg</th>\n",
              "      <td>0.748085</td>\n",
              "    </tr>\n",
              "  </tbody>\n",
              "</table>\n",
              "</div>"
            ],
            "text/plain": [
              "             f1_score\n",
              "LightGBM     0.776612\n",
              "Tune_LogReg  0.764558\n",
              "LogReg       0.748085"
            ]
          },
          "execution_count": 40,
          "metadata": {},
          "output_type": "execute_result"
        }
      ],
      "source": [
        "all_models = pd.DataFrame([f1_res, opt_f1, lgb_f1_res], \n",
        "                 \n",
        "                 columns=['f1_score'], \n",
        "                 index=['LogReg', 'Tune_LogReg', 'LightGBM'])\n",
        "\n",
        "all_models.sort_values(by='f1_score', ascending=False)"
      ]
    },
    {
      "cell_type": "code",
      "execution_count": 44,
      "id": "cf2e89e5",
      "metadata": {},
      "outputs": [
        {
          "data": {
            "image/png": "[encoded data removed]",
            "text/plain": [
              "<Figure size 1080x720 with 1 Axes>"
            ]
          },
          "metadata": {},
          "output_type": "display_data"
        }
      ],
      "source": [
        "f, ax = plt.subplots(figsize=(15, 10))\n",
        "\n",
        "\n",
        "sns.set_color_codes(\"pastel\")\n",
        "sns.barplot(x=all_models.index, y='f1_score', data=all_models.sort_values(by='f1_score'), label=\"f1_score\", color='b')\n",
        "\n",
        "\n",
        "for p in ax.patches:\n",
        "    _x = p.get_x() + p.get_width() / 2\n",
        "    _y = p.get_y() + p.get_height() + (p.get_height()*0.01)\n",
        "    value = '{:.2f}'.format(p.get_height())\n",
        "    ax.text(_x, _y, value, ha=\"center\")"
      ]
    },
    {
      "cell_type": "markdown",
      "id": "Otw9qepWG-fB",
      "metadata": {
        "id": "Otw9qepWG-fB"
      },
      "source": [
        "## Вывод\n",
        "\n",
        "\n",
        "Модель с необходимой точностью создана.\n",
        "\n",
        "**Лучший результат показала LightGBM: 0.78**\n",
        "\n",
        "Метод TF-IDF оказался точнее в данном случае.\n",
        "\n",
        "Модель BERT оказалась не совсем подходящей для данной задачи:\n",
        "- требует в разы больше мощности для вычисления\n",
        "- затраты времени на настройку и проверку вариантов значительно выше"
      ]
    }
  ],
  "metadata": {
    "ExecuteTimeLog": [
      {
        "duration": 89908,
        "start_time": "2022-08-18T22:55:39.596Z"
      },
      {
        "duration": 8,
        "start_time": "2022-08-18T22:59:55.825Z"
      },
      {
        "duration": 3,
        "start_time": "2022-08-18T22:59:56.245Z"
      },
      {
        "duration": 2,
        "start_time": "2022-08-18T23:00:01.069Z"
      },
      {
        "duration": 423,
        "start_time": "2022-08-18T23:00:01.472Z"
      },
      {
        "duration": 4,
        "start_time": "2022-08-18T23:00:04.076Z"
      },
      {
        "duration": 4,
        "start_time": "2022-08-18T23:00:05.050Z"
      },
      {
        "duration": 2662,
        "start_time": "2022-08-18T23:00:58.198Z"
      },
      {
        "duration": 416,
        "start_time": "2022-08-18T23:01:03.350Z"
      },
      {
        "duration": 201,
        "start_time": "2022-08-18T23:07:40.468Z"
      },
      {
        "duration": 71,
        "start_time": "2022-08-18T23:13:53.643Z"
      },
      {
        "duration": 77167,
        "start_time": "2022-08-19T23:57:06.462Z"
      },
      {
        "duration": 9,
        "start_time": "2022-08-19T23:58:23.632Z"
      },
      {
        "duration": 8,
        "start_time": "2022-08-19T23:58:23.642Z"
      },
      {
        "duration": 5,
        "start_time": "2022-08-19T23:58:23.652Z"
      },
      {
        "duration": 500,
        "start_time": "2022-08-19T23:58:23.658Z"
      },
      {
        "duration": 4,
        "start_time": "2022-08-19T23:58:24.160Z"
      },
      {
        "duration": 5,
        "start_time": "2022-08-19T23:58:24.166Z"
      },
      {
        "duration": 2178,
        "start_time": "2022-08-19T23:58:24.173Z"
      },
      {
        "duration": 6,
        "start_time": "2022-08-19T23:58:26.353Z"
      },
      {
        "duration": 30,
        "start_time": "2022-08-19T23:58:26.362Z"
      },
      {
        "duration": 55,
        "start_time": "2022-08-19T23:58:26.393Z"
      },
      {
        "duration": 5,
        "start_time": "2022-08-19T23:58:26.450Z"
      },
      {
        "duration": 43,
        "start_time": "2022-08-19T23:58:26.457Z"
      },
      {
        "duration": 30,
        "start_time": "2022-08-19T23:58:26.502Z"
      },
      {
        "duration": 10,
        "start_time": "2022-08-19T23:58:26.533Z"
      },
      {
        "duration": 614,
        "start_time": "2022-08-19T23:58:26.545Z"
      },
      {
        "duration": 0,
        "start_time": "2022-08-19T23:58:27.160Z"
      },
      {
        "duration": 0,
        "start_time": "2022-08-19T23:58:27.162Z"
      },
      {
        "duration": 0,
        "start_time": "2022-08-19T23:58:27.163Z"
      },
      {
        "duration": 0,
        "start_time": "2022-08-19T23:58:27.164Z"
      },
      {
        "duration": 0,
        "start_time": "2022-08-19T23:58:27.165Z"
      },
      {
        "duration": 0,
        "start_time": "2022-08-19T23:58:27.166Z"
      },
      {
        "duration": 0,
        "start_time": "2022-08-19T23:58:27.167Z"
      },
      {
        "duration": 736,
        "start_time": "2022-08-20T00:04:38.122Z"
      },
      {
        "duration": 5,
        "start_time": "2022-08-20T00:04:41.742Z"
      },
      {
        "duration": 177,
        "start_time": "2022-08-20T00:04:47.304Z"
      },
      {
        "duration": 73,
        "start_time": "2022-08-20T00:04:49.875Z"
      },
      {
        "duration": 774,
        "start_time": "2022-08-20T00:04:51.401Z"
      },
      {
        "duration": 86,
        "start_time": "2022-08-20T00:04:53.222Z"
      },
      {
        "duration": 725,
        "start_time": "2022-08-20T00:04:59.475Z"
      },
      {
        "duration": 111,
        "start_time": "2022-08-20T00:05:01.773Z"
      },
      {
        "duration": 743,
        "start_time": "2022-08-20T00:05:05.562Z"
      },
      {
        "duration": 20,
        "start_time": "2022-08-20T00:09:06.821Z"
      },
      {
        "duration": 19,
        "start_time": "2022-08-20T00:09:06.936Z"
      },
      {
        "duration": 4670,
        "start_time": "2022-08-20T00:09:08.582Z"
      },
      {
        "duration": 0,
        "start_time": "2022-08-20T00:09:13.254Z"
      },
      {
        "duration": 0,
        "start_time": "2022-08-20T00:09:13.255Z"
      },
      {
        "duration": 4,
        "start_time": "2022-08-20T00:09:21.204Z"
      },
      {
        "duration": 2742,
        "start_time": "2022-08-20T00:09:23.191Z"
      },
      {
        "duration": 6,
        "start_time": "2022-08-20T00:09:25.935Z"
      },
      {
        "duration": 11,
        "start_time": "2022-08-20T00:09:25.943Z"
      },
      {
        "duration": 2175,
        "start_time": "2022-08-20T00:09:33.193Z"
      },
      {
        "duration": 2,
        "start_time": "2022-08-20T00:09:37.232Z"
      },
      {
        "duration": 69,
        "start_time": "2022-08-20T00:12:34.381Z"
      },
      {
        "duration": 77,
        "start_time": "2022-08-20T00:12:46.622Z"
      },
      {
        "duration": 74,
        "start_time": "2022-08-20T00:12:52.991Z"
      },
      {
        "duration": 1360,
        "start_time": "2022-08-20T00:13:04.352Z"
      },
      {
        "duration": 10,
        "start_time": "2022-08-20T00:13:11.415Z"
      },
      {
        "duration": 34,
        "start_time": "2022-08-20T00:13:11.784Z"
      },
      {
        "duration": 53,
        "start_time": "2022-08-20T00:13:11.915Z"
      },
      {
        "duration": 14,
        "start_time": "2022-08-20T00:13:12.171Z"
      },
      {
        "duration": 13,
        "start_time": "2022-08-20T00:13:12.488Z"
      },
      {
        "duration": 23,
        "start_time": "2022-08-20T00:13:12.821Z"
      },
      {
        "duration": 9,
        "start_time": "2022-08-20T00:13:12.942Z"
      },
      {
        "duration": 8,
        "start_time": "2022-08-20T00:13:13.363Z"
      },
      {
        "duration": 11,
        "start_time": "2022-08-20T00:13:14.491Z"
      },
      {
        "duration": 5,
        "start_time": "2022-08-20T00:13:14.812Z"
      },
      {
        "duration": 4,
        "start_time": "2022-08-20T00:13:15.111Z"
      },
      {
        "duration": 6,
        "start_time": "2022-08-20T00:13:16.032Z"
      },
      {
        "duration": 12,
        "start_time": "2022-08-20T00:13:16.159Z"
      },
      {
        "duration": 6,
        "start_time": "2022-08-20T00:13:16.361Z"
      },
      {
        "duration": 8867,
        "start_time": "2022-08-20T00:13:22.853Z"
      },
      {
        "duration": 8,
        "start_time": "2022-08-20T00:13:31.722Z"
      },
      {
        "duration": 5503,
        "start_time": "2022-08-20T00:13:31.731Z"
      }
    ],
    "accelerator": "GPU",
    "colab": {
      "collapsed_sections": [],
      "provenance": []
    },
    "gpuClass": "standard",
    "kernelspec": {
      "display_name": "Python 3.9.12 ('practicum')",
      "language": "python",
      "name": "python3"
    },
    "language_info": {
      "codemirror_mode": {
        "name": "ipython",
        "version": 3
      },
      "file_extension": ".py",
      "mimetype": "text/x-python",
      "name": "python",
      "nbconvert_exporter": "python",
      "pygments_lexer": "ipython3",
      "version": "3.9.12"
    },
    "toc": {
      "base_numbering": 1,
      "nav_menu": {},
      "number_sections": true,
      "sideBar": true,
      "skip_h1_title": false,
      "title_cell": "Table of Contents",
      "title_sidebar": "Contents",
      "toc_cell": false,
      "toc_position": {
        "height": "calc(100% - 180px)",
        "left": "10px",
        "top": "150px",
        "width": "374px"
      },
      "toc_section_display": true,
      "toc_window_display": true
    },
    "vscode": {
      "interpreter": {
        "hash": "e9b40e9b7776d6804bbf4a6b40cf4d5db7ef3d8998b5f4289d5f917a9ea7efc4"
      }
    },
    "widgets": {
      "application/vnd.jupyter.widget-state+json": {
        "04fe788fcc0348ecb4ef444331e1b672": {
          "model_module": "@jupyter-widgets/base",
          "model_module_version": "1.2.0",
          "model_name": "LayoutModel",
          "state": {
            "_model_module": "@jupyter-widgets/base",
            "_model_module_version": "1.2.0",
            "_model_name": "LayoutModel",
            "_view_count": null,
            "_view_module": "@jupyter-widgets/base",
            "_view_module_version": "1.2.0",
            "_view_name": "LayoutView",
            "align_content": null,
            "align_items": null,
            "align_self": null,
            "border": null,
            "bottom": null,
            "display": null,
            "flex": null,
            "flex_flow": null,
            "grid_area": null,
            "grid_auto_columns": null,
            "grid_auto_flow": null,
            "grid_auto_rows": null,
            "grid_column": null,
            "grid_gap": null,
            "grid_row": null,
            "grid_template_areas": null,
            "grid_template_columns": null,
            "grid_template_rows": null,
            "height": null,
            "justify_content": null,
            "justify_items": null,
            "left": null,
            "margin": null,
            "max_height": null,
            "max_width": null,
            "min_height": null,
            "min_width": null,
            "object_fit": null,
            "object_position": null,
            "order": null,
            "overflow": null,
            "overflow_x": null,
            "overflow_y": null,
            "padding": null,
            "right": null,
            "top": null,
            "visibility": null,
            "width": null
          }
        },
        "061c88d05c9942c6aca197aac384eee1": {
          "model_module": "@jupyter-widgets/controls",
          "model_module_version": "1.5.0",
          "model_name": "DescriptionStyleModel",
          "state": {
            "_model_module": "@jupyter-widgets/controls",
            "_model_module_version": "1.5.0",
            "_model_name": "DescriptionStyleModel",
            "_view_count": null,
            "_view_module": "@jupyter-widgets/base",
            "_view_module_version": "1.2.0",
            "_view_name": "StyleView",
            "description_width": ""
          }
        },
        "071b1ac34562453db9453d2a1633c2f5": {
          "model_module": "@jupyter-widgets/controls",
          "model_module_version": "1.5.0",
          "model_name": "HTMLModel",
          "state": {
            "_dom_classes": [],
            "_model_module": "@jupyter-widgets/controls",
            "_model_module_version": "1.5.0",
            "_model_name": "HTMLModel",
            "_view_count": null,
            "_view_module": "@jupyter-widgets/controls",
            "_view_module_version": "1.5.0",
            "_view_name": "HTMLView",
            "description": "",
            "description_tooltip": null,
            "layout": "IPY_MODEL_b9bc751f0c074730aba6f5287a26d1bc",
            "placeholder": "​",
            "style": "IPY_MODEL_d6449385579d4c94abe8f88819a5c16b",
            "value": " 50/50 [00:23&lt;00:00,  2.37it/s]"
          }
        },
        "0750f33bc88341e4a96bb2d0fa30d87a": {
          "model_module": "@jupyter-widgets/base",
          "model_module_version": "1.2.0",
          "model_name": "LayoutModel",
          "state": {
            "_model_module": "@jupyter-widgets/base",
            "_model_module_version": "1.2.0",
            "_model_name": "LayoutModel",
            "_view_count": null,
            "_view_module": "@jupyter-widgets/base",
            "_view_module_version": "1.2.0",
            "_view_name": "LayoutView",
            "align_content": null,
            "align_items": null,
            "align_self": null,
            "border": null,
            "bottom": null,
            "display": null,
            "flex": null,
            "flex_flow": null,
            "grid_area": null,
            "grid_auto_columns": null,
            "grid_auto_flow": null,
            "grid_auto_rows": null,
            "grid_column": null,
            "grid_gap": null,
            "grid_row": null,
            "grid_template_areas": null,
            "grid_template_columns": null,
            "grid_template_rows": null,
            "height": null,
            "justify_content": null,
            "justify_items": null,
            "left": null,
            "margin": null,
            "max_height": null,
            "max_width": null,
            "min_height": null,
            "min_width": null,
            "object_fit": null,
            "object_position": null,
            "order": null,
            "overflow": null,
            "overflow_x": null,
            "overflow_y": null,
            "padding": null,
            "right": null,
            "top": null,
            "visibility": null,
            "width": null
          }
        },
        "10d6ce3fbb324042a6de4ed00fdd0530": {
          "model_module": "@jupyter-widgets/base",
          "model_module_version": "1.2.0",
          "model_name": "LayoutModel",
          "state": {
            "_model_module": "@jupyter-widgets/base",
            "_model_module_version": "1.2.0",
            "_model_name": "LayoutModel",
            "_view_count": null,
            "_view_module": "@jupyter-widgets/base",
            "_view_module_version": "1.2.0",
            "_view_name": "LayoutView",
            "align_content": null,
            "align_items": null,
            "align_self": null,
            "border": null,
            "bottom": null,
            "display": null,
            "flex": null,
            "flex_flow": null,
            "grid_area": null,
            "grid_auto_columns": null,
            "grid_auto_flow": null,
            "grid_auto_rows": null,
            "grid_column": null,
            "grid_gap": null,
            "grid_row": null,
            "grid_template_areas": null,
            "grid_template_columns": null,
            "grid_template_rows": null,
            "height": null,
            "justify_content": null,
            "justify_items": null,
            "left": null,
            "margin": null,
            "max_height": null,
            "max_width": null,
            "min_height": null,
            "min_width": null,
            "object_fit": null,
            "object_position": null,
            "order": null,
            "overflow": null,
            "overflow_x": null,
            "overflow_y": null,
            "padding": null,
            "right": null,
            "top": null,
            "visibility": null,
            "width": null
          }
        },
        "1414b8f6d1434c9d82a472277c97496f": {
          "model_module": "@jupyter-widgets/controls",
          "model_module_version": "1.5.0",
          "model_name": "DescriptionStyleModel",
          "state": {
            "_model_module": "@jupyter-widgets/controls",
            "_model_module_version": "1.5.0",
            "_model_name": "DescriptionStyleModel",
            "_view_count": null,
            "_view_module": "@jupyter-widgets/base",
            "_view_module_version": "1.2.0",
            "_view_name": "StyleView",
            "description_width": ""
          }
        },
        "28069ff6037a44c1be23b991c4b8434f": {
          "model_module": "@jupyter-widgets/controls",
          "model_module_version": "1.5.0",
          "model_name": "ProgressStyleModel",
          "state": {
            "_model_module": "@jupyter-widgets/controls",
            "_model_module_version": "1.5.0",
            "_model_name": "ProgressStyleModel",
            "_view_count": null,
            "_view_module": "@jupyter-widgets/base",
            "_view_module_version": "1.2.0",
            "_view_name": "StyleView",
            "bar_color": null,
            "description_width": ""
          }
        },
        "2cb0dd7ee89d4a5fa25faa234f3d2d09": {
          "model_module": "@jupyter-widgets/controls",
          "model_module_version": "1.5.0",
          "model_name": "DescriptionStyleModel",
          "state": {
            "_model_module": "@jupyter-widgets/controls",
            "_model_module_version": "1.5.0",
            "_model_name": "DescriptionStyleModel",
            "_view_count": null,
            "_view_module": "@jupyter-widgets/base",
            "_view_module_version": "1.2.0",
            "_view_name": "StyleView",
            "description_width": ""
          }
        },
        "33a0f802a6a8424b86e60a13ce03b914": {
          "model_module": "@jupyter-widgets/controls",
          "model_module_version": "1.5.0",
          "model_name": "DescriptionStyleModel",
          "state": {
            "_model_module": "@jupyter-widgets/controls",
            "_model_module_version": "1.5.0",
            "_model_name": "DescriptionStyleModel",
            "_view_count": null,
            "_view_module": "@jupyter-widgets/base",
            "_view_module_version": "1.2.0",
            "_view_name": "StyleView",
            "description_width": ""
          }
        },
        "39291053ec3b4f84be25b5889df2b78d": {
          "model_module": "@jupyter-widgets/controls",
          "model_module_version": "1.5.0",
          "model_name": "HTMLModel",
          "state": {
            "_dom_classes": [],
            "_model_module": "@jupyter-widgets/controls",
            "_model_module_version": "1.5.0",
            "_model_name": "HTMLModel",
            "_view_count": null,
            "_view_module": "@jupyter-widgets/controls",
            "_view_module_version": "1.5.0",
            "_view_name": "HTMLView",
            "description": "",
            "description_tooltip": null,
            "layout": "IPY_MODEL_3e994b39db3f4505b8dada4cc4c706be",
            "placeholder": "​",
            "style": "IPY_MODEL_ff17a7a552e04c3b8af959fb9501ee49",
            "value": " 268M/268M [00:10&lt;00:00, 28.4MB/s]"
          }
        },
        "3e1bc1e4a5d44405a0ab6c232711e7e2": {
          "model_module": "@jupyter-widgets/controls",
          "model_module_version": "1.5.0",
          "model_name": "HBoxModel",
          "state": {
            "_dom_classes": [],
            "_model_module": "@jupyter-widgets/controls",
            "_model_module_version": "1.5.0",
            "_model_name": "HBoxModel",
            "_view_count": null,
            "_view_module": "@jupyter-widgets/controls",
            "_view_module_version": "1.5.0",
            "_view_name": "HBoxView",
            "box_style": "",
            "children": [
              "IPY_MODEL_67d57468f79140769cde537ca80172b6",
              "IPY_MODEL_87e336c8cc3641228e29b5cb8c1acdf5",
              "IPY_MODEL_54cbc1cf2d2b4231b4effe9c88b66ade"
            ],
            "layout": "IPY_MODEL_99e522f609b64a84b9451ac6c3dea6d7"
          }
        },
        "3e994b39db3f4505b8dada4cc4c706be": {
          "model_module": "@jupyter-widgets/base",
          "model_module_version": "1.2.0",
          "model_name": "LayoutModel",
          "state": {
            "_model_module": "@jupyter-widgets/base",
            "_model_module_version": "1.2.0",
            "_model_name": "LayoutModel",
            "_view_count": null,
            "_view_module": "@jupyter-widgets/base",
            "_view_module_version": "1.2.0",
            "_view_name": "LayoutView",
            "align_content": null,
            "align_items": null,
            "align_self": null,
            "border": null,
            "bottom": null,
            "display": null,
            "flex": null,
            "flex_flow": null,
            "grid_area": null,
            "grid_auto_columns": null,
            "grid_auto_flow": null,
            "grid_auto_rows": null,
            "grid_column": null,
            "grid_gap": null,
            "grid_row": null,
            "grid_template_areas": null,
            "grid_template_columns": null,
            "grid_template_rows": null,
            "height": null,
            "justify_content": null,
            "justify_items": null,
            "left": null,
            "margin": null,
            "max_height": null,
            "max_width": null,
            "min_height": null,
            "min_width": null,
            "object_fit": null,
            "object_position": null,
            "order": null,
            "overflow": null,
            "overflow_x": null,
            "overflow_y": null,
            "padding": null,
            "right": null,
            "top": null,
            "visibility": null,
            "width": null
          }
        },
        "3f52546f82dd43cba2c2776471c536d2": {
          "model_module": "@jupyter-widgets/base",
          "model_module_version": "1.2.0",
          "model_name": "LayoutModel",
          "state": {
            "_model_module": "@jupyter-widgets/base",
            "_model_module_version": "1.2.0",
            "_model_name": "LayoutModel",
            "_view_count": null,
            "_view_module": "@jupyter-widgets/base",
            "_view_module_version": "1.2.0",
            "_view_name": "LayoutView",
            "align_content": null,
            "align_items": null,
            "align_self": null,
            "border": null,
            "bottom": null,
            "display": null,
            "flex": null,
            "flex_flow": null,
            "grid_area": null,
            "grid_auto_columns": null,
            "grid_auto_flow": null,
            "grid_auto_rows": null,
            "grid_column": null,
            "grid_gap": null,
            "grid_row": null,
            "grid_template_areas": null,
            "grid_template_columns": null,
            "grid_template_rows": null,
            "height": null,
            "justify_content": null,
            "justify_items": null,
            "left": null,
            "margin": null,
            "max_height": null,
            "max_width": null,
            "min_height": null,
            "min_width": null,
            "object_fit": null,
            "object_position": null,
            "order": null,
            "overflow": null,
            "overflow_x": null,
            "overflow_y": null,
            "padding": null,
            "right": null,
            "top": null,
            "visibility": null,
            "width": null
          }
        },
        "404d85c526be491a8570409d1aef4a4d": {
          "model_module": "@jupyter-widgets/controls",
          "model_module_version": "1.5.0",
          "model_name": "FloatProgressModel",
          "state": {
            "_dom_classes": [],
            "_model_module": "@jupyter-widgets/controls",
            "_model_module_version": "1.5.0",
            "_model_name": "FloatProgressModel",
            "_view_count": null,
            "_view_module": "@jupyter-widgets/controls",
            "_view_module_version": "1.5.0",
            "_view_name": "ProgressView",
            "bar_style": "success",
            "description": "",
            "description_tooltip": null,
            "layout": "IPY_MODEL_7764380642f14493b8bfa9fa08c7efd2",
            "max": 267967963,
            "min": 0,
            "orientation": "horizontal",
            "style": "IPY_MODEL_28069ff6037a44c1be23b991c4b8434f",
            "value": 267967963
          }
        },
        "444ab01b9a8e47aab86c96b752457825": {
          "model_module": "@jupyter-widgets/controls",
          "model_module_version": "1.5.0",
          "model_name": "FloatProgressModel",
          "state": {
            "_dom_classes": [],
            "_model_module": "@jupyter-widgets/controls",
            "_model_module_version": "1.5.0",
            "_model_name": "FloatProgressModel",
            "_view_count": null,
            "_view_module": "@jupyter-widgets/controls",
            "_view_module_version": "1.5.0",
            "_view_name": "ProgressView",
            "bar_style": "success",
            "description": "",
            "description_tooltip": null,
            "layout": "IPY_MODEL_0750f33bc88341e4a96bb2d0fa30d87a",
            "max": 466062,
            "min": 0,
            "orientation": "horizontal",
            "style": "IPY_MODEL_d53c1702d14b4c59826e5f1709a9ca6f",
            "value": 466062
          }
        },
        "4676fb068b594232ad53d31b53468d5a": {
          "model_module": "@jupyter-widgets/controls",
          "model_module_version": "1.5.0",
          "model_name": "HTMLModel",
          "state": {
            "_dom_classes": [],
            "_model_module": "@jupyter-widgets/controls",
            "_model_module_version": "1.5.0",
            "_model_name": "HTMLModel",
            "_view_count": null,
            "_view_module": "@jupyter-widgets/controls",
            "_view_module_version": "1.5.0",
            "_view_name": "HTMLView",
            "description": "",
            "description_tooltip": null,
            "layout": "IPY_MODEL_dd85b7b8dc844bf78f13d555d12172bb",
            "placeholder": "​",
            "style": "IPY_MODEL_79efca206548425e80cf6284ecb1647a",
            "value": " 483/483 [00:00&lt;00:00, 15.6kB/s]"
          }
        },
        "4c963f5af7b042ccadd4687de86244ff": {
          "model_module": "@jupyter-widgets/base",
          "model_module_version": "1.2.0",
          "model_name": "LayoutModel",
          "state": {
            "_model_module": "@jupyter-widgets/base",
            "_model_module_version": "1.2.0",
            "_model_name": "LayoutModel",
            "_view_count": null,
            "_view_module": "@jupyter-widgets/base",
            "_view_module_version": "1.2.0",
            "_view_name": "LayoutView",
            "align_content": null,
            "align_items": null,
            "align_self": null,
            "border": null,
            "bottom": null,
            "display": null,
            "flex": null,
            "flex_flow": null,
            "grid_area": null,
            "grid_auto_columns": null,
            "grid_auto_flow": null,
            "grid_auto_rows": null,
            "grid_column": null,
            "grid_gap": null,
            "grid_row": null,
            "grid_template_areas": null,
            "grid_template_columns": null,
            "grid_template_rows": null,
            "height": null,
            "justify_content": null,
            "justify_items": null,
            "left": null,
            "margin": null,
            "max_height": null,
            "max_width": null,
            "min_height": null,
            "min_width": null,
            "object_fit": null,
            "object_position": null,
            "order": null,
            "overflow": null,
            "overflow_x": null,
            "overflow_y": null,
            "padding": null,
            "right": null,
            "top": null,
            "visibility": null,
            "width": null
          }
        },
        "4f6b6b9611334b71bfc48eb9cc4ce70b": {
          "model_module": "@jupyter-widgets/controls",
          "model_module_version": "1.5.0",
          "model_name": "HBoxModel",
          "state": {
            "_dom_classes": [],
            "_model_module": "@jupyter-widgets/controls",
            "_model_module_version": "1.5.0",
            "_model_name": "HBoxModel",
            "_view_count": null,
            "_view_module": "@jupyter-widgets/controls",
            "_view_module_version": "1.5.0",
            "_view_name": "HBoxView",
            "box_style": "",
            "children": [
              "IPY_MODEL_618634b0d2ae40d7acb41c9e547188e0",
              "IPY_MODEL_444ab01b9a8e47aab86c96b752457825",
              "IPY_MODEL_b0a042ac4fbb42c68558c67453806666"
            ],
            "layout": "IPY_MODEL_6667e0a204924601b78387dac1199652"
          }
        },
        "505dc8dbe78b4c0893f87bb4edf936ec": {
          "model_module": "@jupyter-widgets/controls",
          "model_module_version": "1.5.0",
          "model_name": "ProgressStyleModel",
          "state": {
            "_model_module": "@jupyter-widgets/controls",
            "_model_module_version": "1.5.0",
            "_model_name": "ProgressStyleModel",
            "_view_count": null,
            "_view_module": "@jupyter-widgets/base",
            "_view_module_version": "1.2.0",
            "_view_name": "StyleView",
            "bar_color": null,
            "description_width": ""
          }
        },
        "54cbc1cf2d2b4231b4effe9c88b66ade": {
          "model_module": "@jupyter-widgets/controls",
          "model_module_version": "1.5.0",
          "model_name": "HTMLModel",
          "state": {
            "_dom_classes": [],
            "_model_module": "@jupyter-widgets/controls",
            "_model_module_version": "1.5.0",
            "_model_name": "HTMLModel",
            "_view_count": null,
            "_view_module": "@jupyter-widgets/controls",
            "_view_module_version": "1.5.0",
            "_view_name": "HTMLView",
            "description": "",
            "description_tooltip": null,
            "layout": "IPY_MODEL_10d6ce3fbb324042a6de4ed00fdd0530",
            "placeholder": "​",
            "style": "IPY_MODEL_8cc566dc80c749fe8ab5c5be7b2c9121",
            "value": " 28.0/28.0 [00:00&lt;00:00, 886B/s]"
          }
        },
        "54d45c1acbbe4897bd73b6c974a010f9": {
          "model_module": "@jupyter-widgets/base",
          "model_module_version": "1.2.0",
          "model_name": "LayoutModel",
          "state": {
            "_model_module": "@jupyter-widgets/base",
            "_model_module_version": "1.2.0",
            "_model_name": "LayoutModel",
            "_view_count": null,
            "_view_module": "@jupyter-widgets/base",
            "_view_module_version": "1.2.0",
            "_view_name": "LayoutView",
            "align_content": null,
            "align_items": null,
            "align_self": null,
            "border": null,
            "bottom": null,
            "display": null,
            "flex": null,
            "flex_flow": null,
            "grid_area": null,
            "grid_auto_columns": null,
            "grid_auto_flow": null,
            "grid_auto_rows": null,
            "grid_column": null,
            "grid_gap": null,
            "grid_row": null,
            "grid_template_areas": null,
            "grid_template_columns": null,
            "grid_template_rows": null,
            "height": null,
            "justify_content": null,
            "justify_items": null,
            "left": null,
            "margin": null,
            "max_height": null,
            "max_width": null,
            "min_height": null,
            "min_width": null,
            "object_fit": null,
            "object_position": null,
            "order": null,
            "overflow": null,
            "overflow_x": null,
            "overflow_y": null,
            "padding": null,
            "right": null,
            "top": null,
            "visibility": null,
            "width": null
          }
        },
        "58fd791bf1a64d6eaefa9b8aff9bbb60": {
          "model_module": "@jupyter-widgets/base",
          "model_module_version": "1.2.0",
          "model_name": "LayoutModel",
          "state": {
            "_model_module": "@jupyter-widgets/base",
            "_model_module_version": "1.2.0",
            "_model_name": "LayoutModel",
            "_view_count": null,
            "_view_module": "@jupyter-widgets/base",
            "_view_module_version": "1.2.0",
            "_view_name": "LayoutView",
            "align_content": null,
            "align_items": null,
            "align_self": null,
            "border": null,
            "bottom": null,
            "display": null,
            "flex": null,
            "flex_flow": null,
            "grid_area": null,
            "grid_auto_columns": null,
            "grid_auto_flow": null,
            "grid_auto_rows": null,
            "grid_column": null,
            "grid_gap": null,
            "grid_row": null,
            "grid_template_areas": null,
            "grid_template_columns": null,
            "grid_template_rows": null,
            "height": null,
            "justify_content": null,
            "justify_items": null,
            "left": null,
            "margin": null,
            "max_height": null,
            "max_width": null,
            "min_height": null,
            "min_width": null,
            "object_fit": null,
            "object_position": null,
            "order": null,
            "overflow": null,
            "overflow_x": null,
            "overflow_y": null,
            "padding": null,
            "right": null,
            "top": null,
            "visibility": null,
            "width": null
          }
        },
        "591b80c170454669b10487600ecb4386": {
          "model_module": "@jupyter-widgets/base",
          "model_module_version": "1.2.0",
          "model_name": "LayoutModel",
          "state": {
            "_model_module": "@jupyter-widgets/base",
            "_model_module_version": "1.2.0",
            "_model_name": "LayoutModel",
            "_view_count": null,
            "_view_module": "@jupyter-widgets/base",
            "_view_module_version": "1.2.0",
            "_view_name": "LayoutView",
            "align_content": null,
            "align_items": null,
            "align_self": null,
            "border": null,
            "bottom": null,
            "display": null,
            "flex": null,
            "flex_flow": null,
            "grid_area": null,
            "grid_auto_columns": null,
            "grid_auto_flow": null,
            "grid_auto_rows": null,
            "grid_column": null,
            "grid_gap": null,
            "grid_row": null,
            "grid_template_areas": null,
            "grid_template_columns": null,
            "grid_template_rows": null,
            "height": null,
            "justify_content": null,
            "justify_items": null,
            "left": null,
            "margin": null,
            "max_height": null,
            "max_width": null,
            "min_height": null,
            "min_width": null,
            "object_fit": null,
            "object_position": null,
            "order": null,
            "overflow": null,
            "overflow_x": null,
            "overflow_y": null,
            "padding": null,
            "right": null,
            "top": null,
            "visibility": null,
            "width": null
          }
        },
        "5aa6c016406a4f8da6713efc0413e7fd": {
          "model_module": "@jupyter-widgets/controls",
          "model_module_version": "1.5.0",
          "model_name": "DescriptionStyleModel",
          "state": {
            "_model_module": "@jupyter-widgets/controls",
            "_model_module_version": "1.5.0",
            "_model_name": "DescriptionStyleModel",
            "_view_count": null,
            "_view_module": "@jupyter-widgets/base",
            "_view_module_version": "1.2.0",
            "_view_name": "StyleView",
            "description_width": ""
          }
        },
        "5c72f1216a714df58559049f22637272": {
          "model_module": "@jupyter-widgets/controls",
          "model_module_version": "1.5.0",
          "model_name": "HBoxModel",
          "state": {
            "_dom_classes": [],
            "_model_module": "@jupyter-widgets/controls",
            "_model_module_version": "1.5.0",
            "_model_name": "HBoxModel",
            "_view_count": null,
            "_view_module": "@jupyter-widgets/controls",
            "_view_module_version": "1.5.0",
            "_view_name": "HBoxView",
            "box_style": "",
            "children": [
              "IPY_MODEL_c614fce043484ce1956f99a7286f7f22",
              "IPY_MODEL_b13f5ef59fb048cc9e205b1f8b7ad333",
              "IPY_MODEL_4676fb068b594232ad53d31b53468d5a"
            ],
            "layout": "IPY_MODEL_b6adfb8e3d5d47988c7a46257adda2ab"
          }
        },
        "5cc83cdda1e4401e8fe697f9f03d3de9": {
          "model_module": "@jupyter-widgets/controls",
          "model_module_version": "1.5.0",
          "model_name": "HBoxModel",
          "state": {
            "_dom_classes": [],
            "_model_module": "@jupyter-widgets/controls",
            "_model_module_version": "1.5.0",
            "_model_name": "HBoxModel",
            "_view_count": null,
            "_view_module": "@jupyter-widgets/controls",
            "_view_module_version": "1.5.0",
            "_view_name": "HBoxView",
            "box_style": "",
            "children": [
              "IPY_MODEL_7521a94168e74230a78f615a44ecd3ac",
              "IPY_MODEL_404d85c526be491a8570409d1aef4a4d",
              "IPY_MODEL_39291053ec3b4f84be25b5889df2b78d"
            ],
            "layout": "IPY_MODEL_b76d352c1ba4435ead39940ab93ed265"
          }
        },
        "5e526c32f39946f1a138f6414e9f2115": {
          "model_module": "@jupyter-widgets/controls",
          "model_module_version": "1.5.0",
          "model_name": "FloatProgressModel",
          "state": {
            "_dom_classes": [],
            "_model_module": "@jupyter-widgets/controls",
            "_model_module_version": "1.5.0",
            "_model_name": "FloatProgressModel",
            "_view_count": null,
            "_view_module": "@jupyter-widgets/controls",
            "_view_module_version": "1.5.0",
            "_view_name": "ProgressView",
            "bar_style": "success",
            "description": "",
            "description_tooltip": null,
            "layout": "IPY_MODEL_3f52546f82dd43cba2c2776471c536d2",
            "max": 50,
            "min": 0,
            "orientation": "horizontal",
            "style": "IPY_MODEL_eeec0c63e59245fdbf013beaca9533c4",
            "value": 50
          }
        },
        "618634b0d2ae40d7acb41c9e547188e0": {
          "model_module": "@jupyter-widgets/controls",
          "model_module_version": "1.5.0",
          "model_name": "HTMLModel",
          "state": {
            "_dom_classes": [],
            "_model_module": "@jupyter-widgets/controls",
            "_model_module_version": "1.5.0",
            "_model_name": "HTMLModel",
            "_view_count": null,
            "_view_module": "@jupyter-widgets/controls",
            "_view_module_version": "1.5.0",
            "_view_name": "HTMLView",
            "description": "",
            "description_tooltip": null,
            "layout": "IPY_MODEL_8a462bcecf4642729faa271d5c27f7a3",
            "placeholder": "​",
            "style": "IPY_MODEL_1414b8f6d1434c9d82a472277c97496f",
            "value": "Downloading: 100%"
          }
        },
        "661ce6a2ff7840a78ec0043288bd32f6": {
          "model_module": "@jupyter-widgets/controls",
          "model_module_version": "1.5.0",
          "model_name": "DescriptionStyleModel",
          "state": {
            "_model_module": "@jupyter-widgets/controls",
            "_model_module_version": "1.5.0",
            "_model_name": "DescriptionStyleModel",
            "_view_count": null,
            "_view_module": "@jupyter-widgets/base",
            "_view_module_version": "1.2.0",
            "_view_name": "StyleView",
            "description_width": ""
          }
        },
        "6667e0a204924601b78387dac1199652": {
          "model_module": "@jupyter-widgets/base",
          "model_module_version": "1.2.0",
          "model_name": "LayoutModel",
          "state": {
            "_model_module": "@jupyter-widgets/base",
            "_model_module_version": "1.2.0",
            "_model_name": "LayoutModel",
            "_view_count": null,
            "_view_module": "@jupyter-widgets/base",
            "_view_module_version": "1.2.0",
            "_view_name": "LayoutView",
            "align_content": null,
            "align_items": null,
            "align_self": null,
            "border": null,
            "bottom": null,
            "display": null,
            "flex": null,
            "flex_flow": null,
            "grid_area": null,
            "grid_auto_columns": null,
            "grid_auto_flow": null,
            "grid_auto_rows": null,
            "grid_column": null,
            "grid_gap": null,
            "grid_row": null,
            "grid_template_areas": null,
            "grid_template_columns": null,
            "grid_template_rows": null,
            "height": null,
            "justify_content": null,
            "justify_items": null,
            "left": null,
            "margin": null,
            "max_height": null,
            "max_width": null,
            "min_height": null,
            "min_width": null,
            "object_fit": null,
            "object_position": null,
            "order": null,
            "overflow": null,
            "overflow_x": null,
            "overflow_y": null,
            "padding": null,
            "right": null,
            "top": null,
            "visibility": null,
            "width": null
          }
        },
        "676de5301aee4a188c918b1db1d2f6a7": {
          "model_module": "@jupyter-widgets/controls",
          "model_module_version": "1.5.0",
          "model_name": "HBoxModel",
          "state": {
            "_dom_classes": [],
            "_model_module": "@jupyter-widgets/controls",
            "_model_module_version": "1.5.0",
            "_model_name": "HBoxModel",
            "_view_count": null,
            "_view_module": "@jupyter-widgets/controls",
            "_view_module_version": "1.5.0",
            "_view_name": "HBoxView",
            "box_style": "",
            "children": [
              "IPY_MODEL_d179c1aac18d41928875ea69ef05b7e5",
              "IPY_MODEL_5e526c32f39946f1a138f6414e9f2115",
              "IPY_MODEL_071b1ac34562453db9453d2a1633c2f5"
            ],
            "layout": "IPY_MODEL_4c963f5af7b042ccadd4687de86244ff"
          }
        },
        "67a87cf24d284c4689c49055ec34ff25": {
          "model_module": "@jupyter-widgets/controls",
          "model_module_version": "1.5.0",
          "model_name": "HTMLModel",
          "state": {
            "_dom_classes": [],
            "_model_module": "@jupyter-widgets/controls",
            "_model_module_version": "1.5.0",
            "_model_name": "HTMLModel",
            "_view_count": null,
            "_view_module": "@jupyter-widgets/controls",
            "_view_module_version": "1.5.0",
            "_view_name": "HTMLView",
            "description": "",
            "description_tooltip": null,
            "layout": "IPY_MODEL_58fd791bf1a64d6eaefa9b8aff9bbb60",
            "placeholder": "​",
            "style": "IPY_MODEL_2cb0dd7ee89d4a5fa25faa234f3d2d09",
            "value": " 232k/232k [00:00&lt;00:00, 252kB/s]"
          }
        },
        "67d57468f79140769cde537ca80172b6": {
          "model_module": "@jupyter-widgets/controls",
          "model_module_version": "1.5.0",
          "model_name": "HTMLModel",
          "state": {
            "_dom_classes": [],
            "_model_module": "@jupyter-widgets/controls",
            "_model_module_version": "1.5.0",
            "_model_name": "HTMLModel",
            "_view_count": null,
            "_view_module": "@jupyter-widgets/controls",
            "_view_module_version": "1.5.0",
            "_view_name": "HTMLView",
            "description": "",
            "description_tooltip": null,
            "layout": "IPY_MODEL_7a8b767f774e4ac39ec55c4a1883aa66",
            "placeholder": "​",
            "style": "IPY_MODEL_5aa6c016406a4f8da6713efc0413e7fd",
            "value": "Downloading: 100%"
          }
        },
        "7336877f4d2a4f8d89ec67b147d53f57": {
          "model_module": "@jupyter-widgets/controls",
          "model_module_version": "1.5.0",
          "model_name": "HTMLModel",
          "state": {
            "_dom_classes": [],
            "_model_module": "@jupyter-widgets/controls",
            "_model_module_version": "1.5.0",
            "_model_name": "HTMLModel",
            "_view_count": null,
            "_view_module": "@jupyter-widgets/controls",
            "_view_module_version": "1.5.0",
            "_view_name": "HTMLView",
            "description": "",
            "description_tooltip": null,
            "layout": "IPY_MODEL_ede7d829f538454f9d20c8b35ac848c5",
            "placeholder": "​",
            "style": "IPY_MODEL_fa7299a8541c4f0592e0622b4d01244c",
            "value": "Downloading: 100%"
          }
        },
        "7521a94168e74230a78f615a44ecd3ac": {
          "model_module": "@jupyter-widgets/controls",
          "model_module_version": "1.5.0",
          "model_name": "HTMLModel",
          "state": {
            "_dom_classes": [],
            "_model_module": "@jupyter-widgets/controls",
            "_model_module_version": "1.5.0",
            "_model_name": "HTMLModel",
            "_view_count": null,
            "_view_module": "@jupyter-widgets/controls",
            "_view_module_version": "1.5.0",
            "_view_name": "HTMLView",
            "description": "",
            "description_tooltip": null,
            "layout": "IPY_MODEL_885fbc937cf84618ade9c3f9bdfee186",
            "placeholder": "​",
            "style": "IPY_MODEL_661ce6a2ff7840a78ec0043288bd32f6",
            "value": "Downloading: 100%"
          }
        },
        "7764380642f14493b8bfa9fa08c7efd2": {
          "model_module": "@jupyter-widgets/base",
          "model_module_version": "1.2.0",
          "model_name": "LayoutModel",
          "state": {
            "_model_module": "@jupyter-widgets/base",
            "_model_module_version": "1.2.0",
            "_model_name": "LayoutModel",
            "_view_count": null,
            "_view_module": "@jupyter-widgets/base",
            "_view_module_version": "1.2.0",
            "_view_name": "LayoutView",
            "align_content": null,
            "align_items": null,
            "align_self": null,
            "border": null,
            "bottom": null,
            "display": null,
            "flex": null,
            "flex_flow": null,
            "grid_area": null,
            "grid_auto_columns": null,
            "grid_auto_flow": null,
            "grid_auto_rows": null,
            "grid_column": null,
            "grid_gap": null,
            "grid_row": null,
            "grid_template_areas": null,
            "grid_template_columns": null,
            "grid_template_rows": null,
            "height": null,
            "justify_content": null,
            "justify_items": null,
            "left": null,
            "margin": null,
            "max_height": null,
            "max_width": null,
            "min_height": null,
            "min_width": null,
            "object_fit": null,
            "object_position": null,
            "order": null,
            "overflow": null,
            "overflow_x": null,
            "overflow_y": null,
            "padding": null,
            "right": null,
            "top": null,
            "visibility": null,
            "width": null
          }
        },
        "79efca206548425e80cf6284ecb1647a": {
          "model_module": "@jupyter-widgets/controls",
          "model_module_version": "1.5.0",
          "model_name": "DescriptionStyleModel",
          "state": {
            "_model_module": "@jupyter-widgets/controls",
            "_model_module_version": "1.5.0",
            "_model_name": "DescriptionStyleModel",
            "_view_count": null,
            "_view_module": "@jupyter-widgets/base",
            "_view_module_version": "1.2.0",
            "_view_name": "StyleView",
            "description_width": ""
          }
        },
        "7a8b767f774e4ac39ec55c4a1883aa66": {
          "model_module": "@jupyter-widgets/base",
          "model_module_version": "1.2.0",
          "model_name": "LayoutModel",
          "state": {
            "_model_module": "@jupyter-widgets/base",
            "_model_module_version": "1.2.0",
            "_model_name": "LayoutModel",
            "_view_count": null,
            "_view_module": "@jupyter-widgets/base",
            "_view_module_version": "1.2.0",
            "_view_name": "LayoutView",
            "align_content": null,
            "align_items": null,
            "align_self": null,
            "border": null,
            "bottom": null,
            "display": null,
            "flex": null,
            "flex_flow": null,
            "grid_area": null,
            "grid_auto_columns": null,
            "grid_auto_flow": null,
            "grid_auto_rows": null,
            "grid_column": null,
            "grid_gap": null,
            "grid_row": null,
            "grid_template_areas": null,
            "grid_template_columns": null,
            "grid_template_rows": null,
            "height": null,
            "justify_content": null,
            "justify_items": null,
            "left": null,
            "margin": null,
            "max_height": null,
            "max_width": null,
            "min_height": null,
            "min_width": null,
            "object_fit": null,
            "object_position": null,
            "order": null,
            "overflow": null,
            "overflow_x": null,
            "overflow_y": null,
            "padding": null,
            "right": null,
            "top": null,
            "visibility": null,
            "width": null
          }
        },
        "7efa805294c548c38c64bf5c3a73e6b1": {
          "model_module": "@jupyter-widgets/base",
          "model_module_version": "1.2.0",
          "model_name": "LayoutModel",
          "state": {
            "_model_module": "@jupyter-widgets/base",
            "_model_module_version": "1.2.0",
            "_model_name": "LayoutModel",
            "_view_count": null,
            "_view_module": "@jupyter-widgets/base",
            "_view_module_version": "1.2.0",
            "_view_name": "LayoutView",
            "align_content": null,
            "align_items": null,
            "align_self": null,
            "border": null,
            "bottom": null,
            "display": null,
            "flex": null,
            "flex_flow": null,
            "grid_area": null,
            "grid_auto_columns": null,
            "grid_auto_flow": null,
            "grid_auto_rows": null,
            "grid_column": null,
            "grid_gap": null,
            "grid_row": null,
            "grid_template_areas": null,
            "grid_template_columns": null,
            "grid_template_rows": null,
            "height": null,
            "justify_content": null,
            "justify_items": null,
            "left": null,
            "margin": null,
            "max_height": null,
            "max_width": null,
            "min_height": null,
            "min_width": null,
            "object_fit": null,
            "object_position": null,
            "order": null,
            "overflow": null,
            "overflow_x": null,
            "overflow_y": null,
            "padding": null,
            "right": null,
            "top": null,
            "visibility": null,
            "width": null
          }
        },
        "8263e0e37ac645de98ff986c71f6f1ac": {
          "model_module": "@jupyter-widgets/controls",
          "model_module_version": "1.5.0",
          "model_name": "ProgressStyleModel",
          "state": {
            "_model_module": "@jupyter-widgets/controls",
            "_model_module_version": "1.5.0",
            "_model_name": "ProgressStyleModel",
            "_view_count": null,
            "_view_module": "@jupyter-widgets/base",
            "_view_module_version": "1.2.0",
            "_view_name": "StyleView",
            "bar_color": null,
            "description_width": ""
          }
        },
        "87e336c8cc3641228e29b5cb8c1acdf5": {
          "model_module": "@jupyter-widgets/controls",
          "model_module_version": "1.5.0",
          "model_name": "FloatProgressModel",
          "state": {
            "_dom_classes": [],
            "_model_module": "@jupyter-widgets/controls",
            "_model_module_version": "1.5.0",
            "_model_name": "FloatProgressModel",
            "_view_count": null,
            "_view_module": "@jupyter-widgets/controls",
            "_view_module_version": "1.5.0",
            "_view_name": "ProgressView",
            "bar_style": "success",
            "description": "",
            "description_tooltip": null,
            "layout": "IPY_MODEL_04fe788fcc0348ecb4ef444331e1b672",
            "max": 28,
            "min": 0,
            "orientation": "horizontal",
            "style": "IPY_MODEL_9a419b84e96a453396488524f19e8df9",
            "value": 28
          }
        },
        "885fbc937cf84618ade9c3f9bdfee186": {
          "model_module": "@jupyter-widgets/base",
          "model_module_version": "1.2.0",
          "model_name": "LayoutModel",
          "state": {
            "_model_module": "@jupyter-widgets/base",
            "_model_module_version": "1.2.0",
            "_model_name": "LayoutModel",
            "_view_count": null,
            "_view_module": "@jupyter-widgets/base",
            "_view_module_version": "1.2.0",
            "_view_name": "LayoutView",
            "align_content": null,
            "align_items": null,
            "align_self": null,
            "border": null,
            "bottom": null,
            "display": null,
            "flex": null,
            "flex_flow": null,
            "grid_area": null,
            "grid_auto_columns": null,
            "grid_auto_flow": null,
            "grid_auto_rows": null,
            "grid_column": null,
            "grid_gap": null,
            "grid_row": null,
            "grid_template_areas": null,
            "grid_template_columns": null,
            "grid_template_rows": null,
            "height": null,
            "justify_content": null,
            "justify_items": null,
            "left": null,
            "margin": null,
            "max_height": null,
            "max_width": null,
            "min_height": null,
            "min_width": null,
            "object_fit": null,
            "object_position": null,
            "order": null,
            "overflow": null,
            "overflow_x": null,
            "overflow_y": null,
            "padding": null,
            "right": null,
            "top": null,
            "visibility": null,
            "width": null
          }
        },
        "8a462bcecf4642729faa271d5c27f7a3": {
          "model_module": "@jupyter-widgets/base",
          "model_module_version": "1.2.0",
          "model_name": "LayoutModel",
          "state": {
            "_model_module": "@jupyter-widgets/base",
            "_model_module_version": "1.2.0",
            "_model_name": "LayoutModel",
            "_view_count": null,
            "_view_module": "@jupyter-widgets/base",
            "_view_module_version": "1.2.0",
            "_view_name": "LayoutView",
            "align_content": null,
            "align_items": null,
            "align_self": null,
            "border": null,
            "bottom": null,
            "display": null,
            "flex": null,
            "flex_flow": null,
            "grid_area": null,
            "grid_auto_columns": null,
            "grid_auto_flow": null,
            "grid_auto_rows": null,
            "grid_column": null,
            "grid_gap": null,
            "grid_row": null,
            "grid_template_areas": null,
            "grid_template_columns": null,
            "grid_template_rows": null,
            "height": null,
            "justify_content": null,
            "justify_items": null,
            "left": null,
            "margin": null,
            "max_height": null,
            "max_width": null,
            "min_height": null,
            "min_width": null,
            "object_fit": null,
            "object_position": null,
            "order": null,
            "overflow": null,
            "overflow_x": null,
            "overflow_y": null,
            "padding": null,
            "right": null,
            "top": null,
            "visibility": null,
            "width": null
          }
        },
        "8cc566dc80c749fe8ab5c5be7b2c9121": {
          "model_module": "@jupyter-widgets/controls",
          "model_module_version": "1.5.0",
          "model_name": "DescriptionStyleModel",
          "state": {
            "_model_module": "@jupyter-widgets/controls",
            "_model_module_version": "1.5.0",
            "_model_name": "DescriptionStyleModel",
            "_view_count": null,
            "_view_module": "@jupyter-widgets/base",
            "_view_module_version": "1.2.0",
            "_view_name": "StyleView",
            "description_width": ""
          }
        },
        "99e522f609b64a84b9451ac6c3dea6d7": {
          "model_module": "@jupyter-widgets/base",
          "model_module_version": "1.2.0",
          "model_name": "LayoutModel",
          "state": {
            "_model_module": "@jupyter-widgets/base",
            "_model_module_version": "1.2.0",
            "_model_name": "LayoutModel",
            "_view_count": null,
            "_view_module": "@jupyter-widgets/base",
            "_view_module_version": "1.2.0",
            "_view_name": "LayoutView",
            "align_content": null,
            "align_items": null,
            "align_self": null,
            "border": null,
            "bottom": null,
            "display": null,
            "flex": null,
            "flex_flow": null,
            "grid_area": null,
            "grid_auto_columns": null,
            "grid_auto_flow": null,
            "grid_auto_rows": null,
            "grid_column": null,
            "grid_gap": null,
            "grid_row": null,
            "grid_template_areas": null,
            "grid_template_columns": null,
            "grid_template_rows": null,
            "height": null,
            "justify_content": null,
            "justify_items": null,
            "left": null,
            "margin": null,
            "max_height": null,
            "max_width": null,
            "min_height": null,
            "min_width": null,
            "object_fit": null,
            "object_position": null,
            "order": null,
            "overflow": null,
            "overflow_x": null,
            "overflow_y": null,
            "padding": null,
            "right": null,
            "top": null,
            "visibility": null,
            "width": null
          }
        },
        "9a419b84e96a453396488524f19e8df9": {
          "model_module": "@jupyter-widgets/controls",
          "model_module_version": "1.5.0",
          "model_name": "ProgressStyleModel",
          "state": {
            "_model_module": "@jupyter-widgets/controls",
            "_model_module_version": "1.5.0",
            "_model_name": "ProgressStyleModel",
            "_view_count": null,
            "_view_module": "@jupyter-widgets/base",
            "_view_module_version": "1.2.0",
            "_view_name": "StyleView",
            "bar_color": null,
            "description_width": ""
          }
        },
        "a70af25e5b044e8d8f28c10835254c46": {
          "model_module": "@jupyter-widgets/base",
          "model_module_version": "1.2.0",
          "model_name": "LayoutModel",
          "state": {
            "_model_module": "@jupyter-widgets/base",
            "_model_module_version": "1.2.0",
            "_model_name": "LayoutModel",
            "_view_count": null,
            "_view_module": "@jupyter-widgets/base",
            "_view_module_version": "1.2.0",
            "_view_name": "LayoutView",
            "align_content": null,
            "align_items": null,
            "align_self": null,
            "border": null,
            "bottom": null,
            "display": null,
            "flex": null,
            "flex_flow": null,
            "grid_area": null,
            "grid_auto_columns": null,
            "grid_auto_flow": null,
            "grid_auto_rows": null,
            "grid_column": null,
            "grid_gap": null,
            "grid_row": null,
            "grid_template_areas": null,
            "grid_template_columns": null,
            "grid_template_rows": null,
            "height": null,
            "justify_content": null,
            "justify_items": null,
            "left": null,
            "margin": null,
            "max_height": null,
            "max_width": null,
            "min_height": null,
            "min_width": null,
            "object_fit": null,
            "object_position": null,
            "order": null,
            "overflow": null,
            "overflow_x": null,
            "overflow_y": null,
            "padding": null,
            "right": null,
            "top": null,
            "visibility": null,
            "width": null
          }
        },
        "ad21dadd31f54863b67d5cf798ed08f3": {
          "model_module": "@jupyter-widgets/controls",
          "model_module_version": "1.5.0",
          "model_name": "FloatProgressModel",
          "state": {
            "_dom_classes": [],
            "_model_module": "@jupyter-widgets/controls",
            "_model_module_version": "1.5.0",
            "_model_name": "FloatProgressModel",
            "_view_count": null,
            "_view_module": "@jupyter-widgets/controls",
            "_view_module_version": "1.5.0",
            "_view_name": "ProgressView",
            "bar_style": "success",
            "description": "",
            "description_tooltip": null,
            "layout": "IPY_MODEL_ffae22de1e594a45babb584ab200e4db",
            "max": 231508,
            "min": 0,
            "orientation": "horizontal",
            "style": "IPY_MODEL_505dc8dbe78b4c0893f87bb4edf936ec",
            "value": 231508
          }
        },
        "b0a042ac4fbb42c68558c67453806666": {
          "model_module": "@jupyter-widgets/controls",
          "model_module_version": "1.5.0",
          "model_name": "HTMLModel",
          "state": {
            "_dom_classes": [],
            "_model_module": "@jupyter-widgets/controls",
            "_model_module_version": "1.5.0",
            "_model_name": "HTMLModel",
            "_view_count": null,
            "_view_module": "@jupyter-widgets/controls",
            "_view_module_version": "1.5.0",
            "_view_name": "HTMLView",
            "description": "",
            "description_tooltip": null,
            "layout": "IPY_MODEL_54d45c1acbbe4897bd73b6c974a010f9",
            "placeholder": "​",
            "style": "IPY_MODEL_061c88d05c9942c6aca197aac384eee1",
            "value": " 466k/466k [00:01&lt;00:00, 512kB/s]"
          }
        },
        "b13f5ef59fb048cc9e205b1f8b7ad333": {
          "model_module": "@jupyter-widgets/controls",
          "model_module_version": "1.5.0",
          "model_name": "FloatProgressModel",
          "state": {
            "_dom_classes": [],
            "_model_module": "@jupyter-widgets/controls",
            "_model_module_version": "1.5.0",
            "_model_name": "FloatProgressModel",
            "_view_count": null,
            "_view_module": "@jupyter-widgets/controls",
            "_view_module_version": "1.5.0",
            "_view_name": "ProgressView",
            "bar_style": "success",
            "description": "",
            "description_tooltip": null,
            "layout": "IPY_MODEL_a70af25e5b044e8d8f28c10835254c46",
            "max": 483,
            "min": 0,
            "orientation": "horizontal",
            "style": "IPY_MODEL_8263e0e37ac645de98ff986c71f6f1ac",
            "value": 483
          }
        },
        "b6adfb8e3d5d47988c7a46257adda2ab": {
          "model_module": "@jupyter-widgets/base",
          "model_module_version": "1.2.0",
          "model_name": "LayoutModel",
          "state": {
            "_model_module": "@jupyter-widgets/base",
            "_model_module_version": "1.2.0",
            "_model_name": "LayoutModel",
            "_view_count": null,
            "_view_module": "@jupyter-widgets/base",
            "_view_module_version": "1.2.0",
            "_view_name": "LayoutView",
            "align_content": null,
            "align_items": null,
            "align_self": null,
            "border": null,
            "bottom": null,
            "display": null,
            "flex": null,
            "flex_flow": null,
            "grid_area": null,
            "grid_auto_columns": null,
            "grid_auto_flow": null,
            "grid_auto_rows": null,
            "grid_column": null,
            "grid_gap": null,
            "grid_row": null,
            "grid_template_areas": null,
            "grid_template_columns": null,
            "grid_template_rows": null,
            "height": null,
            "justify_content": null,
            "justify_items": null,
            "left": null,
            "margin": null,
            "max_height": null,
            "max_width": null,
            "min_height": null,
            "min_width": null,
            "object_fit": null,
            "object_position": null,
            "order": null,
            "overflow": null,
            "overflow_x": null,
            "overflow_y": null,
            "padding": null,
            "right": null,
            "top": null,
            "visibility": null,
            "width": null
          }
        },
        "b76d352c1ba4435ead39940ab93ed265": {
          "model_module": "@jupyter-widgets/base",
          "model_module_version": "1.2.0",
          "model_name": "LayoutModel",
          "state": {
            "_model_module": "@jupyter-widgets/base",
            "_model_module_version": "1.2.0",
            "_model_name": "LayoutModel",
            "_view_count": null,
            "_view_module": "@jupyter-widgets/base",
            "_view_module_version": "1.2.0",
            "_view_name": "LayoutView",
            "align_content": null,
            "align_items": null,
            "align_self": null,
            "border": null,
            "bottom": null,
            "display": null,
            "flex": null,
            "flex_flow": null,
            "grid_area": null,
            "grid_auto_columns": null,
            "grid_auto_flow": null,
            "grid_auto_rows": null,
            "grid_column": null,
            "grid_gap": null,
            "grid_row": null,
            "grid_template_areas": null,
            "grid_template_columns": null,
            "grid_template_rows": null,
            "height": null,
            "justify_content": null,
            "justify_items": null,
            "left": null,
            "margin": null,
            "max_height": null,
            "max_width": null,
            "min_height": null,
            "min_width": null,
            "object_fit": null,
            "object_position": null,
            "order": null,
            "overflow": null,
            "overflow_x": null,
            "overflow_y": null,
            "padding": null,
            "right": null,
            "top": null,
            "visibility": null,
            "width": null
          }
        },
        "b9bc751f0c074730aba6f5287a26d1bc": {
          "model_module": "@jupyter-widgets/base",
          "model_module_version": "1.2.0",
          "model_name": "LayoutModel",
          "state": {
            "_model_module": "@jupyter-widgets/base",
            "_model_module_version": "1.2.0",
            "_model_name": "LayoutModel",
            "_view_count": null,
            "_view_module": "@jupyter-widgets/base",
            "_view_module_version": "1.2.0",
            "_view_name": "LayoutView",
            "align_content": null,
            "align_items": null,
            "align_self": null,
            "border": null,
            "bottom": null,
            "display": null,
            "flex": null,
            "flex_flow": null,
            "grid_area": null,
            "grid_auto_columns": null,
            "grid_auto_flow": null,
            "grid_auto_rows": null,
            "grid_column": null,
            "grid_gap": null,
            "grid_row": null,
            "grid_template_areas": null,
            "grid_template_columns": null,
            "grid_template_rows": null,
            "height": null,
            "justify_content": null,
            "justify_items": null,
            "left": null,
            "margin": null,
            "max_height": null,
            "max_width": null,
            "min_height": null,
            "min_width": null,
            "object_fit": null,
            "object_position": null,
            "order": null,
            "overflow": null,
            "overflow_x": null,
            "overflow_y": null,
            "padding": null,
            "right": null,
            "top": null,
            "visibility": null,
            "width": null
          }
        },
        "c614fce043484ce1956f99a7286f7f22": {
          "model_module": "@jupyter-widgets/controls",
          "model_module_version": "1.5.0",
          "model_name": "HTMLModel",
          "state": {
            "_dom_classes": [],
            "_model_module": "@jupyter-widgets/controls",
            "_model_module_version": "1.5.0",
            "_model_name": "HTMLModel",
            "_view_count": null,
            "_view_module": "@jupyter-widgets/controls",
            "_view_module_version": "1.5.0",
            "_view_name": "HTMLView",
            "description": "",
            "description_tooltip": null,
            "layout": "IPY_MODEL_7efa805294c548c38c64bf5c3a73e6b1",
            "placeholder": "​",
            "style": "IPY_MODEL_fc6df805117d4243841c516fb45ed6ce",
            "value": "Downloading: 100%"
          }
        },
        "d179c1aac18d41928875ea69ef05b7e5": {
          "model_module": "@jupyter-widgets/controls",
          "model_module_version": "1.5.0",
          "model_name": "HTMLModel",
          "state": {
            "_dom_classes": [],
            "_model_module": "@jupyter-widgets/controls",
            "_model_module_version": "1.5.0",
            "_model_name": "HTMLModel",
            "_view_count": null,
            "_view_module": "@jupyter-widgets/controls",
            "_view_module_version": "1.5.0",
            "_view_name": "HTMLView",
            "description": "",
            "description_tooltip": null,
            "layout": "IPY_MODEL_f1e90fce528f471291d3830ed82e3fd5",
            "placeholder": "​",
            "style": "IPY_MODEL_33a0f802a6a8424b86e60a13ce03b914",
            "value": "100%"
          }
        },
        "d53c1702d14b4c59826e5f1709a9ca6f": {
          "model_module": "@jupyter-widgets/controls",
          "model_module_version": "1.5.0",
          "model_name": "ProgressStyleModel",
          "state": {
            "_model_module": "@jupyter-widgets/controls",
            "_model_module_version": "1.5.0",
            "_model_name": "ProgressStyleModel",
            "_view_count": null,
            "_view_module": "@jupyter-widgets/base",
            "_view_module_version": "1.2.0",
            "_view_name": "StyleView",
            "bar_color": null,
            "description_width": ""
          }
        },
        "d590207034404722953caa172fe91aac": {
          "model_module": "@jupyter-widgets/controls",
          "model_module_version": "1.5.0",
          "model_name": "HBoxModel",
          "state": {
            "_dom_classes": [],
            "_model_module": "@jupyter-widgets/controls",
            "_model_module_version": "1.5.0",
            "_model_name": "HBoxModel",
            "_view_count": null,
            "_view_module": "@jupyter-widgets/controls",
            "_view_module_version": "1.5.0",
            "_view_name": "HBoxView",
            "box_style": "",
            "children": [
              "IPY_MODEL_7336877f4d2a4f8d89ec67b147d53f57",
              "IPY_MODEL_ad21dadd31f54863b67d5cf798ed08f3",
              "IPY_MODEL_67a87cf24d284c4689c49055ec34ff25"
            ],
            "layout": "IPY_MODEL_591b80c170454669b10487600ecb4386"
          }
        },
        "d6449385579d4c94abe8f88819a5c16b": {
          "model_module": "@jupyter-widgets/controls",
          "model_module_version": "1.5.0",
          "model_name": "DescriptionStyleModel",
          "state": {
            "_model_module": "@jupyter-widgets/controls",
            "_model_module_version": "1.5.0",
            "_model_name": "DescriptionStyleModel",
            "_view_count": null,
            "_view_module": "@jupyter-widgets/base",
            "_view_module_version": "1.2.0",
            "_view_name": "StyleView",
            "description_width": ""
          }
        },
        "dd85b7b8dc844bf78f13d555d12172bb": {
          "model_module": "@jupyter-widgets/base",
          "model_module_version": "1.2.0",
          "model_name": "LayoutModel",
          "state": {
            "_model_module": "@jupyter-widgets/base",
            "_model_module_version": "1.2.0",
            "_model_name": "LayoutModel",
            "_view_count": null,
            "_view_module": "@jupyter-widgets/base",
            "_view_module_version": "1.2.0",
            "_view_name": "LayoutView",
            "align_content": null,
            "align_items": null,
            "align_self": null,
            "border": null,
            "bottom": null,
            "display": null,
            "flex": null,
            "flex_flow": null,
            "grid_area": null,
            "grid_auto_columns": null,
            "grid_auto_flow": null,
            "grid_auto_rows": null,
            "grid_column": null,
            "grid_gap": null,
            "grid_row": null,
            "grid_template_areas": null,
            "grid_template_columns": null,
            "grid_template_rows": null,
            "height": null,
            "justify_content": null,
            "justify_items": null,
            "left": null,
            "margin": null,
            "max_height": null,
            "max_width": null,
            "min_height": null,
            "min_width": null,
            "object_fit": null,
            "object_position": null,
            "order": null,
            "overflow": null,
            "overflow_x": null,
            "overflow_y": null,
            "padding": null,
            "right": null,
            "top": null,
            "visibility": null,
            "width": null
          }
        },
        "ede7d829f538454f9d20c8b35ac848c5": {
          "model_module": "@jupyter-widgets/base",
          "model_module_version": "1.2.0",
          "model_name": "LayoutModel",
          "state": {
            "_model_module": "@jupyter-widgets/base",
            "_model_module_version": "1.2.0",
            "_model_name": "LayoutModel",
            "_view_count": null,
            "_view_module": "@jupyter-widgets/base",
            "_view_module_version": "1.2.0",
            "_view_name": "LayoutView",
            "align_content": null,
            "align_items": null,
            "align_self": null,
            "border": null,
            "bottom": null,
            "display": null,
            "flex": null,
            "flex_flow": null,
            "grid_area": null,
            "grid_auto_columns": null,
            "grid_auto_flow": null,
            "grid_auto_rows": null,
            "grid_column": null,
            "grid_gap": null,
            "grid_row": null,
            "grid_template_areas": null,
            "grid_template_columns": null,
            "grid_template_rows": null,
            "height": null,
            "justify_content": null,
            "justify_items": null,
            "left": null,
            "margin": null,
            "max_height": null,
            "max_width": null,
            "min_height": null,
            "min_width": null,
            "object_fit": null,
            "object_position": null,
            "order": null,
            "overflow": null,
            "overflow_x": null,
            "overflow_y": null,
            "padding": null,
            "right": null,
            "top": null,
            "visibility": null,
            "width": null
          }
        },
        "eeec0c63e59245fdbf013beaca9533c4": {
          "model_module": "@jupyter-widgets/controls",
          "model_module_version": "1.5.0",
          "model_name": "ProgressStyleModel",
          "state": {
            "_model_module": "@jupyter-widgets/controls",
            "_model_module_version": "1.5.0",
            "_model_name": "ProgressStyleModel",
            "_view_count": null,
            "_view_module": "@jupyter-widgets/base",
            "_view_module_version": "1.2.0",
            "_view_name": "StyleView",
            "bar_color": null,
            "description_width": ""
          }
        },
        "f1e90fce528f471291d3830ed82e3fd5": {
          "model_module": "@jupyter-widgets/base",
          "model_module_version": "1.2.0",
          "model_name": "LayoutModel",
          "state": {
            "_model_module": "@jupyter-widgets/base",
            "_model_module_version": "1.2.0",
            "_model_name": "LayoutModel",
            "_view_count": null,
            "_view_module": "@jupyter-widgets/base",
            "_view_module_version": "1.2.0",
            "_view_name": "LayoutView",
            "align_content": null,
            "align_items": null,
            "align_self": null,
            "border": null,
            "bottom": null,
            "display": null,
            "flex": null,
            "flex_flow": null,
            "grid_area": null,
            "grid_auto_columns": null,
            "grid_auto_flow": null,
            "grid_auto_rows": null,
            "grid_column": null,
            "grid_gap": null,
            "grid_row": null,
            "grid_template_areas": null,
            "grid_template_columns": null,
            "grid_template_rows": null,
            "height": null,
            "justify_content": null,
            "justify_items": null,
            "left": null,
            "margin": null,
            "max_height": null,
            "max_width": null,
            "min_height": null,
            "min_width": null,
            "object_fit": null,
            "object_position": null,
            "order": null,
            "overflow": null,
            "overflow_x": null,
            "overflow_y": null,
            "padding": null,
            "right": null,
            "top": null,
            "visibility": null,
            "width": null
          }
        },
        "fa7299a8541c4f0592e0622b4d01244c": {
          "model_module": "@jupyter-widgets/controls",
          "model_module_version": "1.5.0",
          "model_name": "DescriptionStyleModel",
          "state": {
            "_model_module": "@jupyter-widgets/controls",
            "_model_module_version": "1.5.0",
            "_model_name": "DescriptionStyleModel",
            "_view_count": null,
            "_view_module": "@jupyter-widgets/base",
            "_view_module_version": "1.2.0",
            "_view_name": "StyleView",
            "description_width": ""
          }
        },
        "fc6df805117d4243841c516fb45ed6ce": {
          "model_module": "@jupyter-widgets/controls",
          "model_module_version": "1.5.0",
          "model_name": "DescriptionStyleModel",
          "state": {
            "_model_module": "@jupyter-widgets/controls",
            "_model_module_version": "1.5.0",
            "_model_name": "DescriptionStyleModel",
            "_view_count": null,
            "_view_module": "@jupyter-widgets/base",
            "_view_module_version": "1.2.0",
            "_view_name": "StyleView",
            "description_width": ""
          }
        },
        "ff17a7a552e04c3b8af959fb9501ee49": {
          "model_module": "@jupyter-widgets/controls",
          "model_module_version": "1.5.0",
          "model_name": "DescriptionStyleModel",
          "state": {
            "_model_module": "@jupyter-widgets/controls",
            "_model_module_version": "1.5.0",
            "_model_name": "DescriptionStyleModel",
            "_view_count": null,
            "_view_module": "@jupyter-widgets/base",
            "_view_module_version": "1.2.0",
            "_view_name": "StyleView",
            "description_width": ""
          }
        },
        "ffae22de1e594a45babb584ab200e4db": {
          "model_module": "@jupyter-widgets/base",
          "model_module_version": "1.2.0",
          "model_name": "LayoutModel",
          "state": {
            "_model_module": "@jupyter-widgets/base",
            "_model_module_version": "1.2.0",
            "_model_name": "LayoutModel",
            "_view_count": null,
            "_view_module": "@jupyter-widgets/base",
            "_view_module_version": "1.2.0",
            "_view_name": "LayoutView",
            "align_content": null,
            "align_items": null,
            "align_self": null,
            "border": null,
            "bottom": null,
            "display": null,
            "flex": null,
            "flex_flow": null,
            "grid_area": null,
            "grid_auto_columns": null,
            "grid_auto_flow": null,
            "grid_auto_rows": null,
            "grid_column": null,
            "grid_gap": null,
            "grid_row": null,
            "grid_template_areas": null,
            "grid_template_columns": null,
            "grid_template_rows": null,
            "height": null,
            "justify_content": null,
            "justify_items": null,
            "left": null,
            "margin": null,
            "max_height": null,
            "max_width": null,
            "min_height": null,
            "min_width": null,
            "object_fit": null,
            "object_position": null,
            "order": null,
            "overflow": null,
            "overflow_x": null,
            "overflow_y": null,
            "padding": null,
            "right": null,
            "top": null,
            "visibility": null,
            "width": null
          }
        }
      }
    }
  },
  "nbformat": 4,
  "nbformat_minor": 5
}
